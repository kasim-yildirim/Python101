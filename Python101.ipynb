{
  "nbformat": 4,
  "nbformat_minor": 0,
  "metadata": {
    "colab": {
      "name": "Python101.ipynb",
      "provenance": [],
      "collapsed_sections": [
        "bbaHBT81QrEW",
        "NkuSVXVLcw2m",
        "Zw_q15I5c3sQ",
        "Zc-6gOvndGfW",
        "OM7wxK02dUrh",
        "qii5AUF_4nF3",
        "C9romoFeHHnC",
        "UDxOC1rWI7cN",
        "4X3EPVs1cg1w",
        "wzWgjzAa4Vez",
        "7Tlw5ySpRPfM",
        "jyPWCbJ2ZyNM",
        "TSyDP52R4s1w",
        "EcosiGT08mlE",
        "vDLI0F47s_tg",
        "DMEPtk6VBtsB",
        "Sr91lbBCjSQ2",
        "9QrYqW39oG5X",
        "6z9IBPopkdqW",
        "o8gzjj7_YCPM",
        "PrF9er2bbLqI",
        "G-S-DGXAbLqI",
        "4Y29R0LmbLqJ",
        "DcOmjKJ8bLqJ",
        "8ReqISv7bLqJ",
        "HGVNKmOLbLqJ",
        "johWQGjzcQO3",
        "v8czTef4cQO5",
        "Vi4RS2sScQO6",
        "uvkRQRzjcQO6",
        "u5wuM4oGcQO7",
        "bPMiL82scQO9",
        "lIM54CZKcQO9",
        "SVqmV1fqcQO-",
        "CgIsi2OJcQPA",
        "6gHoYJNJcQPA",
        "MY6qndrRcQPB",
        "qgdhxWlCcQPD",
        "x9jf5ajocQPE",
        "Bkf7f_ZVcQPF",
        "Wp-5QuYqcQPG",
        "8FoTltOScQPJ",
        "pav5uyPwcQPL",
        "UKpXXfmW6HDW",
        "y0sBWfEK_cCv",
        "7aD93RyU_cC8",
        "ZkE1C5Aw_cC-",
        "vDqW43gE9V5R",
        "iIYSV1mk-IWK"
      ]
    },
    "kernelspec": {
      "display_name": "Python 3",
      "language": "python",
      "name": "python3"
    },
    "language_info": {
      "codemirror_mode": {
        "name": "ipython",
        "version": 3
      },
      "file_extension": ".py",
      "mimetype": "text/x-python",
      "name": "python",
      "nbconvert_exporter": "python",
      "pygments_lexer": "ipython3",
      "version": "3.8.3"
    }
  },
  "cells": [
    {
      "cell_type": "markdown",
      "metadata": {
        "id": "TJl7L-h4nMZ6"
      },
      "source": [
        "## ***Neden Python***"
      ]
    },
    {
      "cell_type": "code",
      "metadata": {
        "id": "8XrcmZiUnaGi"
      },
      "source": [
        "\"\"\"Python Amsterdam’da Guido Van Rossum tarafından geliştirilmeye başlanan bir programlama dilidir.\r\n",
        "Python programlama dili Veri Bilimi (makine öğrenmesi, veri analizi ve veri görselleştirme),\r\n",
        "sistem otomasyonu, web ve API geliştirme ve daha fazlası için bir temel yapı olması.\r\n",
        "Kullanımı ve öğrenimi kolay olması.\r\n",
        "Nesne yönelimli, yorumsal(C ve C++ gibi dillerin aksine derlenmeye gerek olmadan çalıştırılabilmesi), \r\n",
        "modüler ve etkileşimli, yüksek seviyeli bir dil olması.Hemen her tür platformda çalışabilir olması.(Windows, Linux, Unix, Mac, Symbian ve dahası…)\"\"\""
      ],
      "execution_count": null,
      "outputs": []
    },
    {
      "cell_type": "markdown",
      "metadata": {
        "id": "imuB0cpWQG3Q"
      },
      "source": [
        "## ***Veri Tipleri***"
      ]
    },
    {
      "cell_type": "code",
      "metadata": {
        "id": "cAoMfmu4xFOd"
      },
      "source": [
        "a = \"Hello World\" #Str  \n",
        "k = 10 #int tam sayıları(32 Bit) ifade eder.\n",
        "u = 10.10 #float ondalık sayıları (64 Bit) ifade eder.\n",
        "p = 10+4j #complex karmaşık sayı dönüşümü sağlar.\n",
        "#y = 51924361L #long\n",
        "t = range(10) #range\n",
        "h = True,False #Boolean 0,1 mantığında 2 değeri temsil eder.\n",
        "o = (\"Advanced\",\"python\",\"future\",\"ai\") #tuple \n",
        "n = [\"Machine\",\"Learning\",\"Deep\"] #list\n",
        "d = {\"opencv\": 3.4,\"Software\":\"Python\"} #dict "
      ],
      "execution_count": null,
      "outputs": []
    },
    {
      "cell_type": "code",
      "metadata": {
        "id": "GCXwP9W4yx82"
      },
      "source": [
        "print(\"Python\")\n",
        "print(\"A\")\n",
        "print(\"Python derslerine hoş geldiniz\")"
      ],
      "execution_count": null,
      "outputs": []
    },
    {
      "cell_type": "code",
      "metadata": {
        "id": "ngbd9mKNyx83"
      },
      "source": [
        "print(type(\"python\"))"
      ],
      "execution_count": null,
      "outputs": []
    },
    {
      "cell_type": "code",
      "metadata": {
        "id": "ACJ-ITzGyx83"
      },
      "source": [
        "print(type(3))\n",
        "print(type(3.0))"
      ],
      "execution_count": null,
      "outputs": []
    },
    {
      "cell_type": "code",
      "metadata": {
        "id": "1Siish-4yx83"
      },
      "source": [
        "print(type(True))"
      ],
      "execution_count": null,
      "outputs": []
    },
    {
      "cell_type": "code",
      "metadata": {
        "id": "ohrk9wdWyx83"
      },
      "source": [
        "print(type(4+ 6j))"
      ],
      "execution_count": null,
      "outputs": []
    },
    {
      "cell_type": "code",
      "metadata": {
        "id": "jpoMXNCzyx83"
      },
      "source": [
        "x= complex(4,9)\n",
        "print(x)\n",
        "print(type(x))"
      ],
      "execution_count": null,
      "outputs": []
    },
    {
      "cell_type": "markdown",
      "metadata": {
        "id": "ZtiChIwZyx83"
      },
      "source": [
        "#### Yorum Satırı"
      ]
    },
    {
      "cell_type": "code",
      "metadata": {
        "id": "wAcsrbT4yx83"
      },
      "source": [
        "#Merhabalar"
      ],
      "execution_count": null,
      "outputs": []
    },
    {
      "cell_type": "code",
      "metadata": {
        "id": "fUIZD_6qyx84"
      },
      "source": [
        "\"\"\"\n",
        "yazıcağımız yorum\n",
        "1'den çok satırı kapsıyorsa\n",
        "3 tırnak kullanırız\n",
        "\"\"\"\n",
        "print()"
      ],
      "execution_count": null,
      "outputs": []
    },
    {
      "cell_type": "markdown",
      "metadata": {
        "id": "bbaHBT81QrEW"
      },
      "source": [
        "## ***Değişken Tanımlama***\n",
        "Değişken adları sayı, sembol, aritmetik operatörler vePython diline ait kelimeler(Reserved Words) ile başlayamaz.  \n",
        "Değişkenler harfler veya _ işaretiyle başlamalıdır:"
      ]
    },
    {
      "cell_type": "code",
      "metadata": {
        "id": "rZ9M5w3DqM8c"
      },
      "source": [
        "tel = 59871234567\n",
        "\n",
        "mail = \"pythonogreniyorum@gmail.com\""
      ],
      "execution_count": null,
      "outputs": []
    },
    {
      "cell_type": "markdown",
      "metadata": {
        "id": "NkuSVXVLcw2m"
      },
      "source": [
        "## ***Escape İfadeler***"
      ]
    },
    {
      "cell_type": "code",
      "metadata": {
        "id": "ocW_iAboyASz"
      },
      "source": [
        "esc = 'Python\\'nın Programlanması.' #\\\n",
        "print(esc) "
      ],
      "execution_count": null,
      "outputs": []
    },
    {
      "cell_type": "code",
      "metadata": {
        "id": "ufgfE2zEyADT"
      },
      "source": [
        "esc = \"Python \\\\ Programlama.\"  #\\\\\n",
        "print(esc) "
      ],
      "execution_count": null,
      "outputs": []
    },
    {
      "cell_type": "code",
      "metadata": {
        "id": "PUjyzN_90smT"
      },
      "source": [
        "esc = \"Python\\nProgramlama\"  #\\n\n",
        "print(esc)"
      ],
      "execution_count": null,
      "outputs": []
    },
    {
      "cell_type": "code",
      "metadata": {
        "id": "i6IBNEf40so8"
      },
      "source": [
        "esc = \"Hello\\r World!\"  #\\r\n",
        "print(esc) "
      ],
      "execution_count": null,
      "outputs": []
    },
    {
      "cell_type": "code",
      "metadata": {
        "id": "PNzdZmXA0srx"
      },
      "source": [
        "esc = \"Python\\tProgramlama!\"  #\\t\n",
        "print(esc)"
      ],
      "execution_count": null,
      "outputs": []
    },
    {
      "cell_type": "code",
      "metadata": {
        "id": "93P082mJ0suH"
      },
      "source": [
        "esc = \"Python \\bProgramlama!\"  #\\b\n",
        "print(esc) "
      ],
      "execution_count": null,
      "outputs": []
    },
    {
      "cell_type": "code",
      "metadata": {
        "id": "VHdOo1fe0swt"
      },
      "source": [
        "\"\\r\"\t#Aynı satırın başına dönüş yapmak için kullanılır.\n",
        "\"\\f\"\t#Yeni bir sayfaya geçmek için kullanılır.\n",
        "\"\\x\"\t#Karakter değeri(onaltılık sistem). vb..."
      ],
      "execution_count": null,
      "outputs": []
    },
    {
      "cell_type": "code",
      "metadata": {
        "id": "OPxDosYUCyc3"
      },
      "source": [
        "a = 123456789 \n",
        "print(str(a))"
      ],
      "execution_count": null,
      "outputs": []
    },
    {
      "cell_type": "markdown",
      "metadata": {
        "id": "Zw_q15I5c3sQ"
      },
      "source": [
        "## ***Aritmetik Operatörler***"
      ]
    },
    {
      "cell_type": "code",
      "metadata": {
        "id": "MgF2jXxMDpUX"
      },
      "source": [
        "a = 10\n",
        "b = 5\n",
        "\n",
        "print(a + b)\n",
        "print(a - b)\n",
        "print(a * b)\n",
        "print(a / b)\n",
        "print(a % b) #mod alma\n",
        "print(a ** b) #üs alma\n",
        "print(a // b) #küsüratsız bölüm                                  "
      ],
      "execution_count": null,
      "outputs": []
    },
    {
      "cell_type": "code",
      "metadata": {
        "id": "IjDvaoBNaiOk"
      },
      "source": [
        "\"\"\"\n",
        "(...) İşlem önceliği parantez içidir.\n",
        "** Üs bulunduran işlemler\n",
        "*,/,%,// Çarpma, Bölme ve Modüler işlem\n",
        "+,- Toplama ve Çıkarma işlemi \n",
        "\"\"\"\n",
        "*İşlemler soldan sağa değerlendirilir."
      ],
      "execution_count": null,
      "outputs": []
    },
    {
      "cell_type": "markdown",
      "metadata": {
        "id": "Zc-6gOvndGfW"
      },
      "source": [
        "## ***İlişkisel Operatörler***"
      ]
    },
    {
      "cell_type": "code",
      "metadata": {
        "id": "4S2t0usfn7x8"
      },
      "source": [
        "Eşittir (==)              Ex: 10==9       result = False\n",
        "Büyüktür (>)              Ex: 10>9        result = True\n",
        "Küçüktür (<)              Ex: 9<10        result = False\n",
        "Küçük ya da eşittir (<=)  Ex: 9<=10       result = False\n",
        "Büyük ya da eşittir (>=)  Ex: 10>=9       result = True\n",
        "Eşit değildir (!=)        Ex: 9!=10       result = True"
      ],
      "execution_count": null,
      "outputs": []
    },
    {
      "cell_type": "markdown",
      "metadata": {
        "id": "OM7wxK02dUrh"
      },
      "source": [
        "## ***Mantıksal Operatörler***"
      ]
    },
    {
      "cell_type": "code",
      "metadata": {
        "id": "yCLa_VbNg1Bb"
      },
      "source": [
        "and\t(ve operatörü)\n",
        "#koşulların hepsi doğru ise True, en az bir tanesi yanlış ise False döndürür.\n",
        "(1 < 2) and (3 > 2)\n",
        "\n",
        "or (veya operatörü)\t\n",
        "#koşulların sadece biri doğru ise True, Hepsi yanlış ise False döndürür.\n",
        "(10 == 10) or (10 == 7)\n",
        "\n",
        "not\t(değil operatörü)\t\n",
        "#Koşulların tersi alınması için kullanılır.\n",
        "a = 10\n",
        "result = not(a > 3 and a < 5)"
      ],
      "execution_count": null,
      "outputs": []
    },
    {
      "cell_type": "markdown",
      "metadata": {
        "id": "3kU1VDFnyx86"
      },
      "source": [
        "### ***İnput***"
      ]
    },
    {
      "cell_type": "code",
      "metadata": {
        "id": "DAGNT0DXyx86"
      },
      "source": [
        "isim = input('Lütfen isminizi giriniz ')"
      ],
      "execution_count": null,
      "outputs": []
    },
    {
      "cell_type": "code",
      "metadata": {
        "id": "5NsizNbYyx87"
      },
      "source": [
        "print('Benim ismim', isim)"
      ],
      "execution_count": null,
      "outputs": []
    },
    {
      "cell_type": "code",
      "metadata": {
        "id": "72gKYqN5yx87"
      },
      "source": [
        "#alan hesabı yapalım\n",
        "\n",
        "cap=input('Lütfen dairenin çapını giriniz ')    #input aldığı değeri string olarak saklar\n",
        "yarıcap=int(cap)/2    #int ne anlama geldiğini birazdan göreceğiz\n",
        "pi=3.14\n",
        "alan = pi * (yarıcap * yarıcap)\n",
        "print('Alan : ', alan)"
      ],
      "execution_count": null,
      "outputs": []
    },
    {
      "cell_type": "code",
      "metadata": {
        "id": "6UW85aaJyx87"
      },
      "source": [
        "a = input('Bir sayı giriniz ')\n",
        "type(a)"
      ],
      "execution_count": null,
      "outputs": []
    },
    {
      "cell_type": "markdown",
      "metadata": {
        "id": "O3uSeha5yx87"
      },
      "source": [
        "### ***Fstring yapısı (.format)***"
      ]
    },
    {
      "cell_type": "code",
      "metadata": {
        "id": "1JHO-suOyx87"
      },
      "source": [
        "club ='dsc'\n",
        "ders='Python'"
      ],
      "execution_count": null,
      "outputs": []
    },
    {
      "cell_type": "code",
      "metadata": {
        "id": "5UA-6CBJyx87"
      },
      "source": [
        "print(\"Bu sene\",club,\"tarafından\",ders,\"eğitimi verilmektedir\")"
      ],
      "execution_count": null,
      "outputs": []
    },
    {
      "cell_type": "code",
      "metadata": {
        "id": "NpA1qQCwyx88"
      },
      "source": [
        "print(\"Bu sene {} tarafından {} eğitimi verilmektedir\".format(club,ders))"
      ],
      "execution_count": null,
      "outputs": []
    },
    {
      "cell_type": "code",
      "metadata": {
        "id": "kj0Suxzzyx88"
      },
      "source": [
        "print(\"Bu sene {0} tarafından {1} eğitimi verilmektedir\".format(club,ders))"
      ],
      "execution_count": null,
      "outputs": []
    },
    {
      "cell_type": "code",
      "metadata": {
        "id": "QMcMtK3ryx88"
      },
      "source": [
        "print(\"Bu sene {1} tarafından {0} eğitimi verilmektedir\".format(club,ders))"
      ],
      "execution_count": null,
      "outputs": []
    },
    {
      "cell_type": "code",
      "metadata": {
        "id": "NKZaHDvryx88"
      },
      "source": [
        "print(\"Bu sene {1} tarafından {2} eğitimi verilmektedir\".format(club,ders))"
      ],
      "execution_count": null,
      "outputs": []
    },
    {
      "cell_type": "code",
      "metadata": {
        "id": "jqT9FSKcyx88"
      },
      "source": [
        "print(f\"Bu sene {club} tarafından {ders} eğitimi verilmektedir\")"
      ],
      "execution_count": null,
      "outputs": []
    },
    {
      "cell_type": "code",
      "metadata": {
        "id": "jCWBGdzSyx88"
      },
      "source": [
        "print(f'Sayıların toplamı {int(input(\"Birinci sayıyı girin: \")) + int(input(\"İkinci sayıyı girin: \")) } eder.')"
      ],
      "execution_count": null,
      "outputs": []
    },
    {
      "cell_type": "markdown",
      "metadata": {
        "id": "qii5AUF_4nF3"
      },
      "source": [
        "## ***Karar Yapıları***\n",
        "***-if, Elif, Else***"
      ]
    },
    {
      "cell_type": "code",
      "metadata": {
        "id": "ir-CV6COairn"
      },
      "source": [
        "\"\"\"If karar yapısını kullanarak değişkenlere atanan değerleri kontrol edebiliriz. \n",
        "Örnekte Kasım’ın yaşı ile giriş yaşının karşılaştırılması sonucu “Kasım İçeri Girebilir” sonucuna ulaştık.\"\"\"\n",
        "\n",
        "kasim_yas = 21\n",
        "giris_yas = 20\n",
        "\n",
        "if kasim_yas > giris_yas : \n",
        "  print(\"Kasım İçeri Girebilir\")              "
      ],
      "execution_count": null,
      "outputs": []
    },
    {
      "cell_type": "code",
      "metadata": {
        "id": "ZCaop69wA87v"
      },
      "source": [
        "#Eğer karar yapısından sonra kontrol edilecek tek koşul varsa kod bloğu tek satır içinde yazılabilir\n",
        "kasim_yas = 21\n",
        "giris_yas = 20\n",
        "\n",
        "if kasim_yas > giris_yas : print(\"Kasım İçeri Girebilir\")   "
      ],
      "execution_count": null,
      "outputs": []
    },
    {
      "cell_type": "code",
      "metadata": {
        "id": "YDreSu7gA8ta"
      },
      "source": [
        "\"\"\"Kontrol edilen if yapısı içindeki koşul doğru değilse elif kullanılır. \n",
        "İlk durumda ki giriş yaşınızı arttırdığımızda giriş yaşı Kasım’ın yaşından büyük olacağı için if bloğu False değer döndürecektir. \n",
        "Sonrasında elif bloğu kontrol edildiğinde giriş yaşı Kasım’ın yaşından büyük olduğu için yapı True değer döndüreceğinden \n",
        "‘Kasım içeri giremez’ koşulunu çalıştırdı.\"\"\"\n",
        "\n",
        "kasim_yas = 21\n",
        "giris_yas = 25\n",
        "\n",
        "if kasim_yas > giris_yas : \n",
        "  print(\"Kasım İçeri Girebilir\")  \n",
        "elif giris_yas > kasim_yas : \n",
        "  print(\"Kasım İçeri Giremez\") "
      ],
      "execution_count": null,
      "outputs": []
    },
    {
      "cell_type": "code",
      "metadata": {
        "id": "vgRJytC2CLk8"
      },
      "source": [
        "kasim_yas = 21\n",
        "giris_yas = 25\n",
        "\n",
        "if kasim_yas > giris_yas : print(\"Kasım İçeri Girebilir\")  \n",
        "elif giris_yas > kasim_yas : print(\"Kasım İçeri Giremez\") "
      ],
      "execution_count": null,
      "outputs": []
    },
    {
      "cell_type": "code",
      "metadata": {
        "id": "NkPs4OI3CTac"
      },
      "source": [
        "\"\"\"İf ve elif bloklarında istenen koşul sağlanmadığında else bloğuna bakılır. \n",
        "Else blokların her durumda False değer döndürdüğü zaman ya elde kalan son koşul için ya da kodun hata vermemesi için kullanılmaktadır.\"\"\"\n",
        "\n",
        "kasim_yas = 21\n",
        "giris_yas = 21\n",
        "\n",
        "if kasim_yas > giris_yas : print(\"Kasım İçeri Girebilir\")  \n",
        "elif giris_yas > kasim_yas : print(\"Kasım İçeri Giremez\") \n",
        "else : print(\"Kasım İçeri Girebilir\")"
      ],
      "execution_count": null,
      "outputs": []
    },
    {
      "cell_type": "code",
      "metadata": {
        "id": "uRUevs5CRvr7"
      },
      "source": [
        "sayi=int(input(\"Bir sayı giriniz\"))\n",
        "toplam=0\n",
        "if sayi>0:\n",
        "  print(\"sayı pozitif\")\n",
        "  toplam=toplam+sayi\n",
        "print(\"program bitti\")\n",
        "print(toplam)\n"
      ],
      "execution_count": null,
      "outputs": []
    },
    {
      "cell_type": "code",
      "metadata": {
        "id": "mGZrGRbqUWVS"
      },
      "source": [
        "sayi=int(input(\"Bir sayı giriniz\"))\n",
        "toplam=0\n",
        "ntoplam=0\n",
        "if sayi>0:\n",
        "  print(\"sayı pozitif\")\n",
        "  toplam=toplam+sayi\n",
        "else:\n",
        "  print(\"sayı negatif\")\n",
        "  ntoplam+=sayi\n",
        "print(\"program bitti\")\n",
        "print(toplam)\n",
        "print(ntoplam)"
      ],
      "execution_count": null,
      "outputs": []
    },
    {
      "cell_type": "code",
      "metadata": {
        "id": "xfDhX5Z-WMqq"
      },
      "source": [
        "vize=int(input(\"Vize notunu girin\"))\n",
        "final=int(input(\"final notunu girin\"))\n",
        "donemsonu=vize*0.4+final*0.6\n",
        "print(donemsonu)\n",
        "if donemsonu>=60:\n",
        "  print(\"GEÇTİ\")\n",
        "else:\n",
        "  print(\"kaldı\")\n"
      ],
      "execution_count": null,
      "outputs": []
    },
    {
      "cell_type": "code",
      "metadata": {
        "id": "TB3KHII4XAk5"
      },
      "source": [
        "sayi=int(input(\"sayıyı girin\"))\n",
        "if sayi%2==0:\n",
        "  print(\"sayı ÇİFT\")\n",
        "else:\n",
        "  print(\"sayı TEK\")"
      ],
      "execution_count": null,
      "outputs": []
    },
    {
      "cell_type": "code",
      "metadata": {
        "id": "4cQbsSaPXSER"
      },
      "source": [
        "sayi=int(input(\"sayıyı girin\"))\n",
        "kalan=sayi%2\n",
        "if kalan==0:\n",
        "  print(\"sayı ÇİFT\")\n",
        "else:\n",
        "  print(\"sayı TEK\")"
      ],
      "execution_count": null,
      "outputs": []
    },
    {
      "cell_type": "code",
      "metadata": {
        "id": "BD-MsRcYXrOW"
      },
      "source": [
        "sayi=int(input(\"sayıyı girin\"))\n",
        "birler=sayi%10\n",
        "onlar=int(sayi/10)\n",
        "if birler>onlar:\n",
        "   print(\"birler büyük\")\n",
        "elif birler==onlar:\n",
        "  print(\"basamaklar eşit\")\n",
        "else:\n",
        "  print(\"onlar büyük\")\n",
        "\n",
        "\n"
      ],
      "execution_count": null,
      "outputs": []
    },
    {
      "cell_type": "code",
      "metadata": {
        "id": "-aY21we5Z_Cu"
      },
      "source": [
        "vize=int(input(\"Vize notunu girin\"))\n",
        "final=int(input(\"final notunu girin\"))\n",
        "donemsonu=vize*0.4+final*0.6\n",
        "print(donemsonu)\n",
        "if donemsonu>=60:\n",
        "  print(\"GEÇTİ\")\n",
        "else:\n",
        "  print(\"kaldı\")\n",
        "\n",
        "if donemsonu<50:\n",
        "  hn=\"FF\"\n",
        "elif donemsonu<60:\n",
        "  hn=\"DC\"\n",
        "elif donemsonu<70:\n",
        "  hn=\"CC\"\n",
        "elif donemsonu<75:\n",
        "  hn=\"CB\"\n",
        "elif donemsonu<85:\n",
        "  hn=\"BB\"\n",
        "elif donemsonu<90:\n",
        "  hn=\"BA\"\n",
        "else:\n",
        "  hn=\"AA\"\n",
        "\n",
        "print(hn)\n"
      ],
      "execution_count": null,
      "outputs": []
    },
    {
      "cell_type": "code",
      "metadata": {
        "id": "_j827I0iLgRu"
      },
      "source": [
        "import math\n",
        "a=float(input(\"a katsayısı\"))\n",
        "b=float(input(\"b katsayısı\"))\n",
        "c=float(input(\"c katsayısı\"))\n",
        "delta=pow(b,2)-4*a*c\n",
        "print(\"delta=\",delta)\n",
        "if delta<0:\n",
        "  print(\"sanal kök\")\n",
        "elif delta==0:\n",
        "  print(\"çakışık kök\")\n",
        "  x1=-b/2*a\n",
        "  print(\"kökler\",x1)\n",
        "else:\n",
        "  x1=(-b+math.sqrt(delta))-2*a\n",
        "  x2=(-b-math.sqrt(delta))-2*a\n",
        "  print(\"ilk kök\",x1,\"  ikinci kök=\",x2 )"
      ],
      "execution_count": null,
      "outputs": []
    },
    {
      "cell_type": "code",
      "metadata": {
        "id": "CBXi8F5hNAm6"
      },
      "source": [
        "k200=5\n",
        "k100=4\n",
        "k50=4\n",
        "k20=7\n",
        "k10=4\n",
        "k5=5\n",
        "odenecek=int(input(\"Ödenecek para miktarını girin \"))\n",
        "o200=int(odenecek/200)\n",
        "if o200>k200:\n",
        "  o200=k200\n",
        "print(\"ödenecek 200lük= \",o200)\n",
        "odenecek-=o200*200\n",
        "o100=int(odenecek/100)\n",
        "print(\"ödenecek 100lük= \",o100)\n",
        "odenecek-=o100*100\n",
        "o50=int(odenecek/50)\n",
        "print(\"ödenecek 50lik= \",o50)\n",
        "odenecek-=o50*50\n",
        "o20=int(odenecek/20)\n",
        "print(\"ödenecek 20lik= \",o20)\n",
        "odenecek-=o20*20\n",
        "o10=int(odenecek/10)\n",
        "print(\"ödenecek 10luk= \",o10)\n",
        "odenecek-=o10*10\n",
        "o5=int(odenecek/5)\n",
        "print(\"ödenecek 5lik= \",o5)\n",
        "o1=odenecek-o5*5\n",
        "print(\"ödenecek 1lik= \",o1)\n"
      ],
      "execution_count": null,
      "outputs": []
    },
    {
      "cell_type": "code",
      "metadata": {
        "id": "CpZ-22Kvn75N"
      },
      "source": [
        "from math import sqrt\n",
        "sayi = int(input(\"işlem yapmak istediğiniz sayiyi giriniz\"))\n",
        "\n",
        "islem = int(input(\"kare 1 küp 2 karekök 3\"))\n",
        "if islem ==1:\n",
        "  print(sayi**2)\n",
        "elif islem ==2:\n",
        "  print(sayi**3)\n",
        "elif islem ==3:\n",
        "  print(sqrt(sayi))\n",
        "else:\n",
        "  print(\"hatalı seçim\")"
      ],
      "execution_count": null,
      "outputs": []
    },
    {
      "cell_type": "code",
      "metadata": {
        "id": "SJ-idv-iqMkj"
      },
      "source": [
        "para = int(input(\"Para miktarını giriniz\"))\n",
        "\n",
        "mevduatfaizi = para * 0.12\n",
        "gelirvergisi = mevduatfaizi * 0.03\n",
        "\n",
        "print(\"Para Miktarı :\",para)\n",
        "\n",
        "para = (mevduatfaizi + para) - gelirvergisi\n",
        "print(\"Güncel Para :\",para)\n",
        "mevduatfaizi = para * 0.12\n",
        "gelirvergisi = mevduatfaizi * 0.03\n",
        "print(mevduatfaizi)\n",
        "print(gelirvergisi)\n",
        "\n",
        "para = (mevduatfaizi + para1) - gelirvergisi\n",
        "print(\"Güncel Para :\",para)\n",
        "mevduatfaizi = para * 0.12\n",
        "gelirvergisi = mevduatfaizi * 0.03\n",
        "print(mevduatfaizi)\n",
        "print(gelirvergisi)\n",
        "\n",
        "para = (mevduatfaizi + para) - gelirvergisi\n",
        "print(\"Güncel Para :\",int(para))\n",
        "mevduatfaizi = para3 * 0.12\n",
        "gelirvergisi = mevduatfaizi * 0.03\n",
        "print(mevduatfaizi)\n",
        "print(gelirvergisi)\n",
        "\n"
      ],
      "execution_count": null,
      "outputs": []
    },
    {
      "cell_type": "code",
      "metadata": {
        "id": "bxQrI-S0MGgU"
      },
      "source": [
        "sayi = int(input(\"Lütfen 3 basamaklı bir sayi giriniz\"))\n",
        "\n",
        "birler = sayi %10\n",
        "onlar  = (sayi%100)%10\n",
        "yuzler = sayi/100\n",
        "\n",
        "if onlar == birler : print(\"Eşit\",sayi)\n",
        "else : print(\"Eşit değildir\",sayi)\n"
      ],
      "execution_count": null,
      "outputs": []
    },
    {
      "cell_type": "code",
      "metadata": {
        "id": "NNzQIYG8Xnsd"
      },
      "source": [
        "n = int(input(\"Lütfen bir sayi giriniz\"))\n",
        "\n",
        "toplam = 0\n",
        "\n",
        "if n != sayac : \n",
        "  toplam = n*(n+1)/2\n",
        "  print(\"Sayilarin toplamı :\",int(toplam))\n",
        "else : \n",
        "  print(\"Sayilarin toplamı :\",toplam)"
      ],
      "execution_count": null,
      "outputs": []
    },
    {
      "cell_type": "markdown",
      "metadata": {
        "id": "C9romoFeHHnC"
      },
      "source": [
        "## ***Döngüler(Loops)***"
      ]
    },
    {
      "cell_type": "markdown",
      "metadata": {
        "id": "gp3xyqGNsOEi"
      },
      "source": [
        "-Döngü kullanmadan yazdığımız programların eksik bir yanı var. Aşağıda ki örnekte gördüğümüz kod yapısının kötü tarafı yanlış girilen şifre sonrası programın kapanması ve yeni şifre için programı yeniden başlatma ihtiyacı duymamız. Bunun aksine yazdığımız programın yanlış cevap sonrasında sürekli başa dönüp sorgulamasını veya biz istediğimizde kapanmasını sağlayan yapıyı döngüler ile sağlayacağız."
      ]
    },
    {
      "cell_type": "code",
      "metadata": {
        "id": "qXGZ1oX-sLQT"
      },
      "source": [
        "sifre = 1234\n",
        "\n",
        "kullanıcısifre = int(input(\"Lütfen doğru şifreyi giriniz\"))\n",
        "\n",
        "if kullanıcısifre == sifre:\n",
        "    print(\"Giriş Başarılı\")\n",
        "else:\n",
        "    print(\"Lütfen tekrar deneyiniz\")"
      ],
      "execution_count": null,
      "outputs": []
    },
    {
      "cell_type": "code",
      "metadata": {
        "id": "CZ6-qw1iqwHC"
      },
      "source": [
        "#While(olduğu sürece) -işlem bizim koşulumuza bağlı ise\n",
        "#for(kere) - eğer işlemimiz belli ise"
      ],
      "execution_count": null,
      "outputs": []
    },
    {
      "cell_type": "markdown",
      "metadata": {
        "id": "UDxOC1rWI7cN"
      },
      "source": [
        "### ***While(-iken,-olduğu sürece) Döngüsü***"
      ]
    },
    {
      "cell_type": "code",
      "metadata": {
        "id": "w5xucL6qk24B"
      },
      "source": [
        "\"\"\"while (koşul)\n",
        "     işlem\n",
        "     işlem\n",
        "     işlem\"\"\""
      ],
      "execution_count": null,
      "outputs": []
    },
    {
      "cell_type": "code",
      "metadata": {
        "id": "L1rvP3S6qM0H"
      },
      "source": [
        "x = 1\n",
        "while x <= 10:\n",
        "   print(\"Python Öğreniyorum\")\n",
        "   x += 1 # x = x + 1 "
      ],
      "execution_count": null,
      "outputs": []
    },
    {
      "cell_type": "code",
      "metadata": {
        "id": "WRZRSUfT9km9"
      },
      "source": [
        "#Kullanıcıdan istenen 2 sayı arasındaki çift sayıları yazdıran ve toplamını bulan program\n",
        " \n",
        "a = int(input(\"Alt sayıyı giriniz :\"))\n",
        "b = int(input(\"Üst sınırı giriniz :\"))\n",
        "\n",
        "toplam = 0\n",
        "\n",
        "while a < b:\n",
        "    a += 1\n",
        "    if a % 2 == 0:\n",
        "      toplam += a\n",
        "      print(a)\n",
        "print(\"Sayıların toplamı:\",toplam)\n"
      ],
      "execution_count": null,
      "outputs": []
    },
    {
      "cell_type": "code",
      "metadata": {
        "id": "w-xO7WcbLOht"
      },
      "source": [
        "# 0 cevabını kullanıcıdan alana dek ekrana girilen sayıların toplamı ve ortalamasını bulma\n",
        "\n",
        "sayi=int(input(\"İlk sayıyı giriniz :\"))\n",
        "toplam=0\n",
        "n=0\n",
        "while sayi !=-0:\n",
        "  toplam+=sayi\n",
        "  n+=1\n",
        "  print(n, end=\".\")\n",
        "  sayi=int(input(\"Sayıyı gir : \"))\n",
        "  \n",
        "print(\"Sayıların toplamı :\", toplam)\n",
        "ortalama=toplam/n\n",
        "print(\"Sayıların ortalaması :\", ortalama)"
      ],
      "execution_count": null,
      "outputs": []
    },
    {
      "cell_type": "markdown",
      "metadata": {
        "id": "AJpTKIM_7pO_"
      },
      "source": [
        "![indir.jfif](data:image/jpeg;base64,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)\n"
      ]
    },
    {
      "cell_type": "markdown",
      "metadata": {
        "id": "ycSxWT170Eax"
      },
      "source": [
        "Yukarıdaki parçalı fonksiyonun değerini -10 ile 10 arasındaki tam sayılar için hesaplayıp yazdırınız."
      ]
    },
    {
      "cell_type": "code",
      "metadata": {
        "id": "QBEK7hKXROVJ"
      },
      "source": [
        "x = -10\n",
        "\n",
        "while x < 11:\n",
        "  if x < -2:\n",
        "    y = x + 4\n",
        "  elif -2 <= x <= 1:\n",
        "    y = x + 1\n",
        "  else:\n",
        "    y = x**2\n",
        "  x += 1\n",
        "  print(x,\"için y'nin değeri\",y)\n"
      ],
      "execution_count": null,
      "outputs": []
    },
    {
      "cell_type": "markdown",
      "metadata": {
        "id": "lTq5dMKp3-js"
      },
      "source": [
        "-Bir mağazada ki çeşitli ürünler 4,99 - 9,99 - 14,99 - 19,99 ve 24,99 tl fiyatlarda satılmaktadır. u mağazada tüm ürünlerde %18 indirim yapıldığında oluşacak indirimli fiyat tablosunu oluşturunuz. "
      ]
    },
    {
      "cell_type": "code",
      "metadata": {
        "id": "CqwMTKTL-wEK"
      },
      "source": [
        "x = 4.99\n",
        "\n",
        "while x<25:\n",
        "  y = x * 0.72\n",
        "  print(\"{:.2f} fiyatlı ürünlerinin yeni fiyatı = {:.2f}\".format(x,y))\n",
        "  x += 5"
      ],
      "execution_count": null,
      "outputs": []
    },
    {
      "cell_type": "code",
      "metadata": {
        "id": "3sEO9f-IqM5k"
      },
      "source": [
        " #While true\n",
        " while True:\n",
        "   a = input(\"isminiz :(çıkış için q\")\n",
        "   if a == \"q\":\n",
        "    break"
      ],
      "execution_count": null,
      "outputs": []
    },
    {
      "cell_type": "markdown",
      "metadata": {
        "id": "4X3EPVs1cg1w"
      },
      "source": [
        "### ***For Döngüsü***\n",
        "Listeler, demetler, sözlükler vb. veri tipleri üzerinde uygulanacak komutların istediğimiz sayıda yapmamıza yardımcı olur."
      ]
    },
    {
      "cell_type": "code",
      "metadata": {
        "id": "_Xnia-VQU6d9"
      },
      "source": [
        "x = \"pythonor\"\n",
        "\"x\" in x "
      ],
      "execution_count": null,
      "outputs": []
    },
    {
      "cell_type": "code",
      "metadata": {
        "id": "OZMaws_fyAAb"
      },
      "source": [
        "alfabe=\"abcdefghjklmnoöprs\"\n",
        "for harf in alfabe:\n",
        "    print(harf) \n",
        "\"\"\"alfabe içindeki her bir öğeyi harf olarak adlandır.\n",
        "    Ve bu öğeleri istenen işleme tabi tut.\"\"\" "
      ],
      "execution_count": null,
      "outputs": []
    },
    {
      "cell_type": "code",
      "metadata": {
        "id": "fOauUluqx_9p"
      },
      "source": [
        "a = \"ksmpython\"\n",
        "for i in a :\n",
        "  print(i)"
      ],
      "execution_count": null,
      "outputs": []
    },
    {
      "cell_type": "code",
      "metadata": {
        "id": "bGiA7XIraxaX"
      },
      "source": [
        "#Range Fonksiyonu\n",
        "print(*range(1,10,3))"
      ],
      "execution_count": null,
      "outputs": []
    },
    {
      "cell_type": "code",
      "metadata": {
        "id": "UbkvTqNIHHnC"
      },
      "source": [
        "for i in range(10): #range n-1 uzunluğunda liste oluşturur.\n",
        "    print(i)"
      ],
      "execution_count": null,
      "outputs": []
    },
    {
      "cell_type": "code",
      "metadata": {
        "id": "1f_XbicOHHnC"
      },
      "source": [
        "#range for\n",
        "for i in range(1,20,4):\n",
        "  print(i)"
      ],
      "execution_count": null,
      "outputs": []
    },
    {
      "cell_type": "code",
      "metadata": {
        "id": "RUSFA6ks0szx"
      },
      "source": [
        "# q veya x değerlerini görünce döngüyü bitiren program\n",
        "x = \"pythonqorx\"\n",
        "for i in x:\n",
        "  if i == \"q\" or i == \"x\":\n",
        "    break\n",
        "  print(i,end=\" \")"
      ],
      "execution_count": null,
      "outputs": []
    },
    {
      "cell_type": "code",
      "metadata": {
        "id": "eHsNVqfodOkM"
      },
      "source": [
        "#Kullanıcıdan alınan 2 sayının arasındaki sayıları yazdıran program\n",
        "a = int(input(\"İlk sayıyı giriniz:\"))\n",
        "b = int(input(\"Üst sınrı giriniz :\"))\n",
        "\n",
        "for i in range(a+1,b):\n",
        "  print(i)"
      ],
      "execution_count": null,
      "outputs": []
    },
    {
      "cell_type": "code",
      "metadata": {
        "id": "0A0aW0cYfvJ5"
      },
      "source": [
        "#Kaç adet sayı girileceğini belirleyip girilen sayıların toplamı ve ortalamasını bulan program\n",
        "\n",
        "n=int(input(\"Kaç sayı girilecek :\"))\n",
        "toplam=0\n",
        "\n",
        "for i in range(1,n+1,1):\n",
        "  sayi=int(input(\"Sayıyı gir :\"))\n",
        "  toplam+=sayi\n",
        "  print(i, end=\".\")\n",
        "  \n",
        "print(\"Sayıların toplamı :\", toplam)\n",
        "ortalama=toplam/n\n",
        "print(\"Sayıların ortalaması :\", ortalama)"
      ],
      "execution_count": null,
      "outputs": []
    },
    {
      "cell_type": "code",
      "metadata": {
        "id": "_a3dnnYF0s1_"
      },
      "source": [
        "#İç içe for döngüsü ile kare oluşturmak\n",
        "for i in range(1,8):\n",
        "  for y in range(1,8):\n",
        "    print(\".\",end=\" \")\n",
        "  print()"
      ],
      "execution_count": null,
      "outputs": []
    },
    {
      "cell_type": "code",
      "metadata": {
        "id": "7vbJ0zz4yAUf"
      },
      "source": [
        "liste1 = [1,2,3,4,5,6,7]\n",
        "toplam = 0\n",
        "for i in liste1:\n",
        "    toplam += i\n",
        "print(\"Toplam\",toplam)"
      ],
      "execution_count": null,
      "outputs": []
    },
    {
      "cell_type": "code",
      "metadata": {
        "id": "d_wWTwyXHHnD"
      },
      "source": [
        "for i in range(20):\n",
        "    if i%3==0 and i%5==0:\n",
        "        print(\"Fizzbuzz\")\n",
        "    elif i%3==0:\n",
        "        print(\"Fizz\")\n",
        "    elif i%5==0:\n",
        "        print(\"Buzz\")\n",
        "    else:\n",
        "        print(i)"
      ],
      "execution_count": null,
      "outputs": []
    },
    {
      "cell_type": "code",
      "metadata": {
        "id": "3z77MbFVOsdM"
      },
      "source": [
        "#Belirlediğimiz soru adeti içinde girilen sayılardan maximum ve minimum bulma\n",
        "\n",
        "soru = int(input(\"Soru adetini giririniz :\"))\n",
        "maxs = int(input(\"Sayıyı giriniz :\"))\n",
        "\n",
        "mins = maxs\n",
        "\n",
        "for i in range(soru-1):\n",
        "  a = int(input(\"Sayıyı giriniz :\"))\n",
        "  if a > maxs:\n",
        "    maxs = a\n",
        "  if a < mins:\n",
        "    mins = a\n",
        "  \n",
        "print(\"Minimum Sayı :\",mins,\"Maksimum sayı :\",maxs)"
      ],
      "execution_count": null,
      "outputs": []
    },
    {
      "cell_type": "code",
      "metadata": {
        "id": "XISbHDOoZuBp"
      },
      "source": [
        "#Belirlediğimiz soru adeti içinde girilen sayılardan maximum ve minimum bulma\n",
        "\n",
        "soru = int(input(\"Soru adetini giririniz :\"))\n",
        "maxs = int(input(\"Sayıyı giriniz :\"))\n",
        "\n",
        "mins = maxs\n",
        "\n",
        "for i in range(soru-1):\n",
        "  a = int(input(\"Sayıyı giriniz :\"))\n",
        "  if a > maxs:\n",
        "    maxs = a\n",
        "  if a < mins:\n",
        "    mins = a\n",
        "  \n",
        "print(\"Minimum Sayı :\",mins,\"Maksimum sayı :\",maxs)"
      ],
      "execution_count": null,
      "outputs": []
    },
    {
      "cell_type": "markdown",
      "metadata": {
        "id": "iSHeh9WQ9oQ0"
      },
      "source": [
        "![indir.jfif](data:image/jpeg;base64,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)\n",
        "\n",
        "Yukarıdaki parçalı fonksiyonun değerini -10 ile 10 arasındaki tam sayılar için hesaplayıp yazdırınız."
      ]
    },
    {
      "cell_type": "code",
      "metadata": {
        "id": "IoxVZlxt9ln1"
      },
      "source": [
        "for x in range(-10,10):\n",
        "  if x < -2:\n",
        "    y = x + 4\n",
        "  elif -2 <= x <= 1:\n",
        "    y = x + 1\n",
        "  else:\n",
        "    y = x * x \n",
        "  print(x,\"için y değeri=\",y)"
      ],
      "execution_count": null,
      "outputs": []
    },
    {
      "cell_type": "markdown",
      "metadata": {
        "id": "wzWgjzAa4Vez"
      },
      "source": [
        "### ***Break, Continue, Pass***"
      ]
    },
    {
      "cell_type": "code",
      "metadata": {
        "id": "j63X_M1eElbR"
      },
      "source": [
        "for x in \"Python\":\n",
        "  if x == \"o\":\n",
        "    break\n",
        "  print(x,end=\"\\t\")"
      ],
      "execution_count": null,
      "outputs": []
    },
    {
      "cell_type": "code",
      "metadata": {
        "id": "g7QDK1nSJTLG"
      },
      "source": [
        "for x in \"Python\":\n",
        "  if x == \"o\":\n",
        "    continue\n",
        "  print(x,end=\"\\t\")"
      ],
      "execution_count": null,
      "outputs": []
    },
    {
      "cell_type": "code",
      "metadata": {
        "id": "-IPAvhz9JTNo"
      },
      "source": [
        "for x in \"Python\":\n",
        "  if x == \"o\":\n",
        "    pass\n",
        "  print(x,end=\"\\t\")"
      ],
      "execution_count": null,
      "outputs": []
    },
    {
      "cell_type": "markdown",
      "metadata": {
        "id": "7Tlw5ySpRPfM"
      },
      "source": [
        "## ***LİSTELER(LİST)***\n",
        "-Listeler her türlü veri tipini içinde bulundurabilir.      \n",
        "-İndexlenebilir ve değiştirilebilirler.    \n",
        "-Aynı veri tipleri için işlem yapmaya izin verirler."
      ]
    },
    {
      "cell_type": "code",
      "metadata": {
        "id": "iyk6UfxJJTSc"
      },
      "source": [
        "liste = [1,\"Python\",10.1,\"AI\"]\n",
        "liste"
      ],
      "execution_count": null,
      "outputs": []
    },
    {
      "cell_type": "code",
      "metadata": {
        "id": "WfC8ykr_JTUp"
      },
      "source": [
        "type(liste)"
      ],
      "execution_count": null,
      "outputs": []
    },
    {
      "cell_type": "code",
      "metadata": {
        "id": "vsV1qJlEJTXF"
      },
      "source": [
        "len(liste)"
      ],
      "execution_count": null,
      "outputs": []
    },
    {
      "cell_type": "code",
      "metadata": {
        "id": "Dj7FkY3EJTZ3"
      },
      "source": [
        "liste = list(\"Merhaba\")\n",
        "liste"
      ],
      "execution_count": null,
      "outputs": []
    },
    {
      "cell_type": "code",
      "metadata": {
        "id": "72LcShSPJjAm"
      },
      "source": [
        "liste = [1,\"Python\",10.1,\"AI\",9,11.1,\"A\"]\n",
        "liste[1]"
      ],
      "execution_count": null,
      "outputs": []
    },
    {
      "cell_type": "code",
      "metadata": {
        "id": "VkYBQ00gJjHh"
      },
      "source": [
        "liste[-1]"
      ],
      "execution_count": null,
      "outputs": []
    },
    {
      "cell_type": "code",
      "metadata": {
        "id": "oe-eo0uyJjKs"
      },
      "source": [
        "liste[len(liste)-1]"
      ],
      "execution_count": null,
      "outputs": []
    },
    {
      "cell_type": "code",
      "metadata": {
        "id": "PdoeUIc7Qd4H"
      },
      "source": [
        "liste = [[3,9],[7,9],[8,1]]\n",
        "liste[1]"
      ],
      "execution_count": null,
      "outputs": []
    },
    {
      "cell_type": "code",
      "metadata": {
        "id": "LVnQrrs0QeBA"
      },
      "source": [
        "liste[1][0]"
      ],
      "execution_count": null,
      "outputs": []
    },
    {
      "cell_type": "code",
      "metadata": {
        "id": "tbxGutrHJjNg"
      },
      "source": [
        "liste = [1,\"Python\",10.1,\"AI\",9,11.1,\"A\"]\n",
        "#[Başlangıç,Bitiş,Artış]\n",
        "liste[1:4]"
      ],
      "execution_count": null,
      "outputs": []
    },
    {
      "cell_type": "code",
      "metadata": {
        "id": "gKl_CfnnJjQE"
      },
      "source": [
        "liste[::-1] "
      ],
      "execution_count": null,
      "outputs": []
    },
    {
      "cell_type": "code",
      "metadata": {
        "id": "OkE5VCYVMs_g"
      },
      "source": [
        "liste[:5]"
      ],
      "execution_count": null,
      "outputs": []
    },
    {
      "cell_type": "code",
      "metadata": {
        "id": "g4eKCxJFNDzJ"
      },
      "source": [
        "liste[::2]"
      ],
      "execution_count": null,
      "outputs": []
    },
    {
      "cell_type": "code",
      "metadata": {
        "id": "h0vAA-uMND44"
      },
      "source": [
        "liste = [1,\"Python\",10.1,\"AI\",9,11.1,\"A\"]\n",
        "liste[2] = \"Programlama\"\n",
        "liste"
      ],
      "execution_count": null,
      "outputs": []
    },
    {
      "cell_type": "code",
      "metadata": {
        "id": "NbFU4HTfND-9"
      },
      "source": [
        "liste = [1,4,7]\n",
        "liste1 = [2,5,8]\n",
        "nliste = liste + liste1\n",
        "nliste"
      ],
      "execution_count": null,
      "outputs": []
    },
    {
      "cell_type": "code",
      "metadata": {
        "id": "UFw3sg_YOfXb"
      },
      "source": [
        "liste3 = liste * 3\n",
        "liste3"
      ],
      "execution_count": null,
      "outputs": []
    },
    {
      "cell_type": "code",
      "metadata": {
        "id": "7fazehOLL8w0"
      },
      "source": [
        "#liste = [koşul for degisken in dizi]\n",
        "liste = [i*2 for i in (1,4,7,2,5,8)]\n",
        "liste"
      ],
      "execution_count": null,
      "outputs": []
    },
    {
      "cell_type": "markdown",
      "metadata": {
        "id": "jyPWCbJ2ZyNM"
      },
      "source": [
        "### Liste Metodları"
      ]
    },
    {
      "cell_type": "code",
      "metadata": {
        "id": "OpdXgKbMOffz"
      },
      "source": [
        "dir(list)"
      ],
      "execution_count": null,
      "outputs": []
    },
    {
      "cell_type": "code",
      "metadata": {
        "id": "PE2TTBa3Ofjw"
      },
      "source": [
        "liste = [6,8,5,4,7,9,5,5,4]\n",
        "liste.append(105) #Append\n",
        "liste"
      ],
      "execution_count": null,
      "outputs": []
    },
    {
      "cell_type": "code",
      "metadata": {
        "id": "gDTKJA4dOfoQ"
      },
      "source": [
        "new_list = liste.copy()\n",
        "new_list  #Copy"
      ],
      "execution_count": null,
      "outputs": []
    },
    {
      "cell_type": "code",
      "metadata": {
        "id": "4_I50dd0OfuX"
      },
      "source": [
        "liste = [6,8,5,4,7,9,5,5,4]\n",
        "liste.remove(6) #Remove\n",
        "liste"
      ],
      "execution_count": null,
      "outputs": []
    },
    {
      "cell_type": "code",
      "metadata": {
        "id": "6jUOQeMWcbIW"
      },
      "source": [
        "liste = [6,8,5,4,7,9,5,5,4]\n",
        "liste.sort() #Sort\n",
        "liste"
      ],
      "execution_count": null,
      "outputs": []
    },
    {
      "cell_type": "code",
      "metadata": {
        "id": "q83z1jq8chYc"
      },
      "source": [
        "liste = [\"a\",\"g\",\"e\",\"c\",\"z\"]\n",
        "liste.sort() #String Sort\n",
        "liste"
      ],
      "execution_count": null,
      "outputs": []
    },
    {
      "cell_type": "code",
      "metadata": {
        "id": "fpMzRDQ3OfxT"
      },
      "source": [
        "liste = [6,8,5,4,7,9,5,5,4]\n",
        "liste.reverse() #Reverse\n",
        "liste"
      ],
      "execution_count": null,
      "outputs": []
    },
    {
      "cell_type": "code",
      "metadata": {
        "id": "UuHjPBq7Of67"
      },
      "source": [
        "liste = [\"Python\", \"ML\", \"Julia\"] \n",
        "del liste[2] #Del\n",
        "liste"
      ],
      "execution_count": null,
      "outputs": []
    },
    {
      "cell_type": "code",
      "metadata": {
        "id": "WAxa0NtUhXuE"
      },
      "source": [
        "liste = [6,8,5,4,7,9,5,5,4]\n",
        "max(liste) #Max"
      ],
      "execution_count": null,
      "outputs": []
    },
    {
      "cell_type": "code",
      "metadata": {
        "id": "oaSHDBnbhXpv"
      },
      "source": [
        "liste = [6,8,5,4,7,9,5,5,4]\n",
        "min(liste) #Min"
      ],
      "execution_count": null,
      "outputs": []
    },
    {
      "cell_type": "code",
      "metadata": {
        "id": "VBQSyPTtOf2y"
      },
      "source": [
        "liste = [6,8,5,4,7,9,5,5,4]\n",
        "liste.pop() #Pop\n",
        "liste"
      ],
      "execution_count": null,
      "outputs": []
    },
    {
      "cell_type": "code",
      "metadata": {
        "id": "uohsupuzjiVF"
      },
      "source": [
        "liste = [6,8,5,4,\"Python\",9,5,5,4]\r\n",
        "liste.count(6) #Count"
      ],
      "execution_count": null,
      "outputs": []
    },
    {
      "cell_type": "code",
      "metadata": {
        "id": "dr2DDMf5ZyNN"
      },
      "source": [
        "liste = [6,8,5,4,\"Python\",9,5,5,4]\n",
        "liste.insert(6,\"Python\") #İnsert (index,değer)\n",
        "liste"
      ],
      "execution_count": null,
      "outputs": []
    },
    {
      "cell_type": "markdown",
      "metadata": {
        "id": "TSyDP52R4s1w"
      },
      "source": [
        "## ***Demetler(Tuplelar)***\n",
        "-Listedekilerdeki gibi demetlerde de aynı şekilde elemanlara erişebilirsiniz.   \n",
        "-Liste ve demetlerin en büyük farkı listeler  değiştirilebilir veri tipiyken demetler değiştirilemez. Demetler tanımlandıktan sonra üzerinde değişiklik yapılamaz."
      ]
    },
    {
      "cell_type": "code",
      "metadata": {
        "id": "TJn4NorasdZW"
      },
      "source": [
        "dir(tuple)"
      ],
      "execution_count": null,
      "outputs": []
    },
    {
      "cell_type": "code",
      "metadata": {
        "id": "cPA4LQB7Of1g"
      },
      "source": [
        "demet = (1.1,4,7,\"Python\",5,8,3,6,9)\n",
        "type(demet)"
      ],
      "execution_count": null,
      "outputs": []
    },
    {
      "cell_type": "code",
      "metadata": {
        "id": "ycRLEmH2LE_G"
      },
      "source": [
        "demet1 = \"Python\",\n",
        "type(demet1)"
      ],
      "execution_count": null,
      "outputs": []
    },
    {
      "cell_type": "code",
      "metadata": {
        "id": "S90HJMreKqFv"
      },
      "source": [
        "demet1 = \"Python\",\"Julia\" \n",
        "#\"...\" : str \"....\", : tuple \n",
        "type(demet1)"
      ],
      "execution_count": null,
      "outputs": []
    },
    {
      "cell_type": "code",
      "metadata": {
        "id": "Wjy47OZROfsv"
      },
      "source": [
        "demet = (1,4,7,2,5,8,3,6,9)\n",
        "demet[1]"
      ],
      "execution_count": null,
      "outputs": []
    },
    {
      "cell_type": "code",
      "metadata": {
        "id": "vqU-7QM6Ofq9"
      },
      "source": [
        "demet[-1]"
      ],
      "execution_count": null,
      "outputs": []
    },
    {
      "cell_type": "code",
      "metadata": {
        "id": "zmGt_RAiOfmr"
      },
      "source": [
        "demet[:6]"
      ],
      "execution_count": null,
      "outputs": []
    },
    {
      "cell_type": "code",
      "metadata": {
        "id": "9y4a1KIY83zs"
      },
      "source": [
        "demet[1:5:2]"
      ],
      "execution_count": null,
      "outputs": []
    },
    {
      "cell_type": "code",
      "metadata": {
        "id": "tIIkEl-B837K"
      },
      "source": [
        "demet[::-1]"
      ],
      "execution_count": null,
      "outputs": []
    },
    {
      "cell_type": "code",
      "metadata": {
        "id": "jRmEMYSDUZZ_"
      },
      "source": [
        "demet = (1,4,7,2,5,8,3,6,9)\n",
        "demet[2] = 2"
      ],
      "execution_count": null,
      "outputs": []
    },
    {
      "cell_type": "code",
      "metadata": {
        "id": "LvfMjJAqflqh"
      },
      "source": [
        "#demetlere ekleme yapabilmek için yeni demet tanımlıyormuş gibi hareket edilmelidir\r\n",
        "\r\n",
        "demet = ('elma', 'armut', 'kiraz')\r\n",
        "demet = demet + ('karpuz',)\r\n",
        "\r\n",
        "print(demet)"
      ],
      "execution_count": null,
      "outputs": []
    },
    {
      "cell_type": "markdown",
      "metadata": {
        "id": "EcosiGT08mlE"
      },
      "source": [
        "### ***Demet Metodları***\n",
        "***-Count , İndex***\n"
      ]
    },
    {
      "cell_type": "code",
      "metadata": {
        "id": "uoi_8GuuOfiO"
      },
      "source": [
        "demet = (3,11,3,\"Trabzon\",9.10,11,\"Python\",55,11)"
      ],
      "execution_count": null,
      "outputs": []
    },
    {
      "cell_type": "code",
      "metadata": {
        "id": "Fd8YU8a8OfeB"
      },
      "source": [
        "demet.count(3)"
      ],
      "execution_count": null,
      "outputs": []
    },
    {
      "cell_type": "code",
      "metadata": {
        "id": "83Y7zFtZOfct"
      },
      "source": [
        "demet.count(11)"
      ],
      "execution_count": null,
      "outputs": []
    },
    {
      "cell_type": "code",
      "metadata": {
        "id": "StxLl0kXgTrv"
      },
      "source": [
        "demet.index(\"Trabzon\")"
      ],
      "execution_count": null,
      "outputs": []
    },
    {
      "cell_type": "code",
      "metadata": {
        "id": "YzxjndtE-NPF"
      },
      "source": [
        "demet.index(\"Python\")"
      ],
      "execution_count": null,
      "outputs": []
    },
    {
      "cell_type": "markdown",
      "metadata": {
        "id": "vDLI0F47s_tg"
      },
      "source": [
        "## ***Sözlükler(Dictionarys)***\n",
        "-Sözlük veri tipi listeler ve demetlerden farklı olarak tek değer ilişkisi ile değil anahtar(key) ve değer(value) ilişkisi ile oluşur.  \n",
        "-Sözlükler elemanlar içinde değişliklik yapabileceğimiz dinamik bir yapıdadır.  \n",
        "-Sıralı yapıda değildirler ve indexlenemezler."
      ]
    },
    {
      "cell_type": "code",
      "metadata": {
        "id": "Z1vpjpOmvsQQ"
      },
      "source": [
        "sözlük = {}\n",
        "type(sözlük) "
      ],
      "execution_count": null,
      "outputs": []
    },
    {
      "cell_type": "code",
      "metadata": {
        "id": "jwisjOomtD9x"
      },
      "source": [
        "kimlik = {\"AD\": \"Python\"}\n",
        "kimlik"
      ],
      "execution_count": null,
      "outputs": []
    },
    {
      "cell_type": "code",
      "metadata": {
        "id": "9oWqvx_YzP49"
      },
      "source": [
        "len(kimlik)"
      ],
      "execution_count": null,
      "outputs": []
    },
    {
      "cell_type": "code",
      "metadata": {
        "id": "2sEQAufpvsk0"
      },
      "source": [
        "#Sözlük oluşturmanın birden fazla yolu mevcut."
      ],
      "execution_count": null,
      "outputs": []
    },
    {
      "cell_type": "code",
      "metadata": {
        "id": "I5BsYkhkzkNf"
      },
      "source": [
        "kimlik = {\"AD\": \"Python\"}\n",
        "kimlik"
      ],
      "execution_count": null,
      "outputs": []
    },
    {
      "cell_type": "code",
      "metadata": {
        "id": "0rmeAmnd_8sq"
      },
      "source": [
        "kimlik = dict()\n",
        "kimlik"
      ],
      "execution_count": null,
      "outputs": []
    },
    {
      "cell_type": "code",
      "metadata": {
        "id": "fctXittsvsuT"
      },
      "source": [
        "kimlik = dict(Ad=\"Python\", yas= 17)\n",
        "kimlik #dict"
      ],
      "execution_count": null,
      "outputs": []
    },
    {
      "cell_type": "code",
      "metadata": {
        "id": "BeKmywInvrNZ"
      },
      "source": [
        "kimlik = {}\n",
        "kimlik[\"Ad\"] = \"Python\"\n",
        "kimlik #Sonradan ekleme"
      ],
      "execution_count": null,
      "outputs": []
    },
    {
      "cell_type": "code",
      "metadata": {
        "id": "13S-T5vl05_M"
      },
      "source": [
        "dic    = {\"Ad\"      : \"Python\",\n",
        "          \"Soyad\"   : \"Programing\",\n",
        "          \"Yas\"     : 21,\n",
        "          \"Numara\"  : 5987124,}\n",
        "dic"
      ],
      "execution_count": null,
      "outputs": []
    },
    {
      "cell_type": "code",
      "metadata": {
        "id": "1rj7DdpY06RG"
      },
      "source": [
        "dic[\"Ad\"]"
      ],
      "execution_count": null,
      "outputs": []
    },
    {
      "cell_type": "code",
      "metadata": {
        "id": "TyJeikTYDruY"
      },
      "source": [
        "dic[\"Ad\"] = \"Java\"\n",
        "dic[\"Yas\"] = 30\n",
        "dic"
      ],
      "execution_count": null,
      "outputs": []
    },
    {
      "cell_type": "markdown",
      "metadata": {
        "id": "9HSq7t8pJKpg"
      },
      "source": [
        "***Sözlük İçinde Liste Kullanımı***"
      ]
    },
    {
      "cell_type": "code",
      "metadata": {
        "id": "qBxyeARsDrzJ"
      },
      "source": [
        "sözlük = {\"A\" : [1,4,7], \"B\": [[9,7],[6,4],[3,1]]}\n",
        "sözlük[\"A\"][1]"
      ],
      "execution_count": null,
      "outputs": []
    },
    {
      "cell_type": "code",
      "metadata": {
        "id": "8qE-Ahr6DrxF"
      },
      "source": [
        "sözlük[\"B\"][2][1]"
      ],
      "execution_count": null,
      "outputs": []
    },
    {
      "cell_type": "code",
      "metadata": {
        "id": "ggjEXMIaWL9H"
      },
      "source": [
        "\"A\" in sözlük #in"
      ],
      "execution_count": null,
      "outputs": []
    },
    {
      "cell_type": "code",
      "metadata": {
        "id": "yCPjHGQkWMBr"
      },
      "source": [
        "del sözlük[\"A\"] #del\n",
        "sözlük"
      ],
      "execution_count": null,
      "outputs": []
    },
    {
      "cell_type": "markdown",
      "metadata": {
        "id": "dZlGlOQmJvZ5"
      },
      "source": [
        "***Sözlük İçinde Sözlük Kullanımı***"
      ]
    },
    {
      "cell_type": "code",
      "metadata": {
        "id": "CBpvIGSz06V1"
      },
      "source": [
        "dic = {\"sözlük\":{\"Arabalar\":{\"Porsche\":\"Lüks\",\"Tofaş\":\"Sıradan\"},\"Harfler\":{\"A\":0,\"B\":5,\"C\":10}}}\n",
        "dic"
      ],
      "execution_count": null,
      "outputs": []
    },
    {
      "cell_type": "code",
      "metadata": {
        "id": "4-5B7hJiJWHB"
      },
      "source": [
        "dic[\"sözlük\"][\"Harfler\"][\"A\"]"
      ],
      "execution_count": null,
      "outputs": []
    },
    {
      "cell_type": "code",
      "metadata": {
        "id": "h9sd674oJV_7"
      },
      "source": [
        "dic[\"sözlük\"][\"Arabalar\"][\"Tofaş\"]"
      ],
      "execution_count": null,
      "outputs": []
    },
    {
      "cell_type": "markdown",
      "metadata": {
        "id": "DMEPtk6VBtsB"
      },
      "source": [
        "### ***Sözlük Metodları***\n"
      ]
    },
    {
      "cell_type": "code",
      "metadata": {
        "id": "ypq-tGq406D-"
      },
      "source": [
        "dir(dict)"
      ],
      "execution_count": null,
      "outputs": []
    },
    {
      "cell_type": "code",
      "metadata": {
        "id": "lP_yxTQA06Bd"
      },
      "source": [
        "kimlik = dict(Ad=\"Python\", yas= 17)\n",
        "new_kimlik = kimlik.copy() #Copy\n",
        "new_kimlik"
      ],
      "execution_count": null,
      "outputs": []
    },
    {
      "cell_type": "code",
      "metadata": {
        "id": "VnQvp3Z-VtRh"
      },
      "source": [
        "kimlik = {\"Ad\": \"Python\",\"Soyad\": \"Programing\"}\n",
        "kimlik.items() #items"
      ],
      "execution_count": null,
      "outputs": []
    },
    {
      "cell_type": "code",
      "metadata": {
        "id": "aUdMK1beVtCA"
      },
      "source": [
        "kimlik = {\"Ad\": \"Python\",\"Soyad\": \"Programing\"}\n",
        "kimlik.values() #values"
      ],
      "execution_count": null,
      "outputs": []
    },
    {
      "cell_type": "code",
      "metadata": {
        "id": "lnqHssZzVtL7"
      },
      "source": [
        "kimlik = {\"Ad\": \"Python\",\"Soyad\": \"Programing\"}\n",
        "kimlik.keys()  #keys"
      ],
      "execution_count": null,
      "outputs": []
    },
    {
      "cell_type": "code",
      "metadata": {
        "id": "7rDCombw058m"
      },
      "source": [
        "kimlik = {\"Ad\": \"Python\",\"Soyad\": \"Programing\"}\n",
        "kimlik.clear() #Clear\n",
        "kimlik"
      ],
      "execution_count": null,
      "outputs": []
    },
    {
      "cell_type": "code",
      "metadata": {
        "id": "YctiZet_VtXL"
      },
      "source": [
        "kimlik = {\"Ad\": \"Python\",\"Soyad\": \"Programing\"}\n",
        "kimlik.pop(\"Soyad\") #pop\n",
        "kimlik"
      ],
      "execution_count": null,
      "outputs": []
    },
    {
      "cell_type": "code",
      "metadata": {
        "id": "N_ykqNShVtUV"
      },
      "source": [
        "kimlik = {\"Adı\": \"Python\",\"Soyadı\": \"Programing\"}\n",
        "kimlik1 = {\"Ad\": \"Java\",\"Soyad\": \"Coder\"}\n",
        "kimlik.update(kimlik1)\n",
        "kimlik  #!aynı anahtar değerlere sahip öğeler yenisi ile değiştirilir."
      ],
      "execution_count": null,
      "outputs": []
    },
    {
      "cell_type": "markdown",
      "metadata": {
        "id": "Sr91lbBCjSQ2"
      },
      "source": [
        "## ***Kümeler***\n",
        "-Listeler, Demetler, Sözlükler gibi her türlü veri tipini barındırabilir.  \n",
        "-Değiştirilebilirler.  \n",
        "-En temel farkları değerler tekrar edilmez ve sıra ile işlem yapmaz.  \n",
        "-Öğe sıralaması olmadığı için indexleme yapamayız."
      ]
    },
    {
      "cell_type": "code",
      "metadata": {
        "id": "QqC5FLYGy6-j"
      },
      "source": [
        "dir(set)"
      ],
      "execution_count": null,
      "outputs": []
    },
    {
      "cell_type": "code",
      "metadata": {
        "id": "1qipUCuB51oO"
      },
      "source": [
        "for i in dir(set): #dir = nesnelerin özelliklerini görmemizi sağlar.\n",
        "     if \"__\" not in i:\n",
        "        print(i)"
      ],
      "execution_count": null,
      "outputs": []
    },
    {
      "cell_type": "code",
      "metadata": {
        "id": "V-rQqJbskLJp"
      },
      "source": [
        "#Herhangi belirleyici bir özellik yok({},(),[]), set parametresi var\n",
        "bos_kume = set()\n",
        "type(bos_kume)"
      ],
      "execution_count": null,
      "outputs": []
    },
    {
      "cell_type": "code",
      "metadata": {
        "id": "rY5R5jbEkwIo"
      },
      "source": [
        "kume = set([\"Python\",\"Java\",10,5.11])\n",
        "kume"
      ],
      "execution_count": null,
      "outputs": []
    },
    {
      "cell_type": "code",
      "metadata": {
        "id": "J_HNjxI0WQxD"
      },
      "source": [
        "kume = set(\"KasımYıldırım\")\n",
        "kume #Her bir öğe bir kez yazılır. "
      ],
      "execution_count": null,
      "outputs": []
    },
    {
      "cell_type": "code",
      "metadata": {
        "id": "rNH12jVxkwcf"
      },
      "source": [
        "liste = [\"Trabzon\", \"Ankara\", \"İstanbul\"]\n",
        "küme = set(liste) #Listeden kümeye dönüşüm\n",
        "type(küme)"
      ],
      "execution_count": null,
      "outputs": []
    },
    {
      "cell_type": "code",
      "metadata": {
        "id": "QjjQVvwFkwTs"
      },
      "source": [
        "demet = (\"Trabzon\", \"Ankara\", \"İstanbul\")\n",
        "kume = set(demet) #Demetten kümeye dönüşüm\n",
        "type(kume)"
      ],
      "execution_count": null,
      "outputs": []
    },
    {
      "cell_type": "code",
      "metadata": {
        "id": "JE-jqp-WkwAx"
      },
      "source": [
        "string = \"Kodlama Dersleri\"\n",
        "kume = set(string) #String ifadeyi kümeye dönüştürme\n",
        "type(kume)"
      ],
      "execution_count": null,
      "outputs": []
    },
    {
      "cell_type": "code",
      "metadata": {
        "id": "RZBCdzAamKvA"
      },
      "source": [
        "\"\"\"Bu arada, bir sözlüğü kümeye çevirdiğinizde, elbette sözlüğün yalnızca anahtarları kümeye eklenecektir. \n",
        "Sözlüğün değerleri ise böyle bir işlemin sonucunda or tadan kaybolur.\"\"\""
      ],
      "execution_count": null,
      "outputs": []
    },
    {
      "cell_type": "code",
      "metadata": {
        "id": "2_kyw2F2mLEa"
      },
      "source": [
        "#Kümeler aynı değeri birden çok tekrar etmez\n",
        "degerler = [\"Python\", \"Java\", \"Php\", \"C\", \"Java\",\n",
        "        \"Python\", \"BWN\", \"Tofaş\"]\n",
        "for i in set(degerler):\n",
        "    print(i)"
      ],
      "execution_count": null,
      "outputs": []
    },
    {
      "cell_type": "code",
      "metadata": {
        "id": "hgwR1B-4mLCU"
      },
      "source": [
        "liste = [\"Python\", \"Java\", \"Php\", \"C\", \"Java\",\n",
        "        \"Python\", \"BWN\", \"Tofaş\"]\n",
        "\n",
        "for i in set(liste):\n",
        "   print(\"{} değerinden {} tane var!\".format(i, liste.count(i)))"
      ],
      "execution_count": null,
      "outputs": []
    },
    {
      "cell_type": "code",
      "metadata": {
        "id": "ecxjNFJYmKsS"
      },
      "source": [
        ""
      ],
      "execution_count": null,
      "outputs": []
    },
    {
      "cell_type": "markdown",
      "metadata": {
        "id": "9QrYqW39oG5X"
      },
      "source": [
        "### ***Küme Üreteçleri (Set Comprehensions)***"
      ]
    },
    {
      "cell_type": "code",
      "metadata": {
        "id": "qi2GbOVnoL6C"
      },
      "source": [
        "import random\n",
        "\n",
        "liste = [random.randint(0, 10000) for i in range(1000)]\n",
        "print(liste)"
      ],
      "execution_count": null,
      "outputs": []
    },
    {
      "cell_type": "markdown",
      "metadata": {
        "id": "8AkvfvpaNGM_"
      },
      "source": [
        "### ***Küme Metodları***"
      ]
    },
    {
      "cell_type": "code",
      "metadata": {
        "id": "w7oZCKyZOrfw"
      },
      "source": [
        "kume = set([1, 4, 7, 2, 5])\n",
        "kume1 = set([1, 3, 6, 9, 7])\n",
        "kume.difference(kume1) #Difference(fark)"
      ],
      "execution_count": null,
      "outputs": []
    },
    {
      "cell_type": "code",
      "metadata": {
        "id": "JT89Wps_XzDe"
      },
      "source": [
        "kume = set([1, 4, 7, 2, 5])\n",
        "kume1 = set([1, 3, 6, 9, 7])\n",
        "print(kume-kume1) #kumenin kume1 değişkeninde farkı (sıralama önemli)"
      ],
      "execution_count": null,
      "outputs": []
    },
    {
      "cell_type": "code",
      "metadata": {
        "id": "ICsZZJMoP1Lv"
      },
      "source": [
        "kume = set([1, 4, 7, 2, 5])\n",
        "kume1 = set([1, 3, 6, 9, 7])\n",
        "kume.intersection(kume1) #intersection(kesişim)"
      ],
      "execution_count": null,
      "outputs": []
    },
    {
      "cell_type": "code",
      "metadata": {
        "id": "0nMdNCsEYSNK"
      },
      "source": [
        "kume = set([1, 4, 7, 2, 5])\n",
        "kume1 = set([1, 3, 6, 9, 7])\n",
        "print(kume&kume1) #Kesişim &"
      ],
      "execution_count": null,
      "outputs": []
    },
    {
      "cell_type": "code",
      "metadata": {
        "id": "Ydjpl3yTP1XW"
      },
      "source": [
        "a = set([1, 4, 7, 9])\n",
        "b = set([5, 1, 3, 6])\n",
        "a.union(b) #Union metodu 2 kümeyi birleştirmemizi sağlar(Her değer bir kez)."
      ],
      "execution_count": null,
      "outputs": []
    },
    {
      "cell_type": "code",
      "metadata": {
        "id": "qwf49Zk2Yi9t"
      },
      "source": [
        "kume = set([1, 4, 7, 2, 5])\n",
        "kume1 = set([1, 3, 6, 9, 7])\n",
        "print(kume|kume1) #Union birleştirme |"
      ],
      "execution_count": null,
      "outputs": []
    },
    {
      "cell_type": "code",
      "metadata": {
        "id": "IqUE_JDioL-j"
      },
      "source": [
        "kume = set([\"Python\" , \"Programming\"])\n",
        "new_kume=kume.copy() #Copy\n",
        "new_kume "
      ],
      "execution_count": null,
      "outputs": []
    },
    {
      "cell_type": "code",
      "metadata": {
        "id": "qdS2bgARoL0e"
      },
      "source": [
        "kume = set([\"Porsche\", \"BMW\", \"Bugatti\"])\n",
        "kume.add(\"Tofaş\") #Add\n",
        "kume"
      ],
      "execution_count": null,
      "outputs": []
    },
    {
      "cell_type": "code",
      "metadata": {
        "id": "EyK1YUwhOrmn"
      },
      "source": [
        "kume = set([\"İstanbul\", \"Patron\", \"Geyik\", \"Hp\"])\n",
        "kume.discard(\"x\") #Discard\n",
        "kume"
      ],
      "execution_count": null,
      "outputs": []
    },
    {
      "cell_type": "code",
      "metadata": {
        "id": "uunFrD5IOrXo"
      },
      "source": [
        "kume = set([\"İstanbul\", \"Patron\", \"Geyik\", \"Hp\"])\n",
        "kume.remove(\"x\") #Remove\n",
        "kume"
      ],
      "execution_count": null,
      "outputs": []
    },
    {
      "cell_type": "code",
      "metadata": {
        "id": "jIvEhhVWYDWO"
      },
      "source": [
        "\"\"\"Remove ve discard metodunu birbirinden ayıran özellik discard metodu ile\n",
        "kümede olmayan bir öğe silmek isterseniz hata mesajı ile karşılaşmazsınız ama remove metodu ile\n",
        "bu işlemi yaparsınız program size hata döndürecektir.\"\"\""
      ],
      "execution_count": null,
      "outputs": []
    },
    {
      "cell_type": "code",
      "metadata": {
        "id": "QQmq2q1cP1Uq"
      },
      "source": [
        "a = set([1, 4, 7])\n",
        "b = set([0, 4, 1, 7, 2, 0])\n",
        "a.issubset(b) #issubset metodu bize elimzideki küme elemanlarının tamamının başka bir kümede olup olmadığını sorgulamamızı sağlar."
      ],
      "execution_count": null,
      "outputs": []
    },
    {
      "cell_type": "code",
      "metadata": {
        "id": "vquqNDKXP1Sl"
      },
      "source": [
        "kume = set([\"BMW\", \"Apple\", \"AI\"])\n",
        "kume1 = set([1, 2, 3])\n",
        "kume.update(kume1) #Update metodu 2 kümeyi toplayarak günceller.\n",
        "print(kume)"
      ],
      "execution_count": null,
      "outputs": []
    },
    {
      "cell_type": "code",
      "metadata": {
        "id": "sRjGe9TaP1Ot"
      },
      "source": [
        "a = set([\"elma\", \"armut\", \"kebap\"])\n",
        "a.pop() #Bir eleman siler ve ekrana bastırır. "
      ],
      "execution_count": null,
      "outputs": []
    },
    {
      "cell_type": "markdown",
      "metadata": {
        "id": "6z9IBPopkdqW"
      },
      "source": [
        "### ***Dondurulmuş Kümeler(Frozenset)***"
      ]
    },
    {
      "cell_type": "code",
      "metadata": {
        "id": "G3nohpAkP1Hk"
      },
      "source": [
        "dir(frozenset)"
      ],
      "execution_count": null,
      "outputs": []
    },
    {
      "cell_type": "code",
      "metadata": {
        "id": "iGqBDOewk_zd"
      },
      "source": [
        "d_kume = frozenset([\"Kocatepe\",\"Mavi\",\"NLP\"])\n",
        "type(d_kume) #frozenset"
      ],
      "execution_count": null,
      "outputs": []
    },
    {
      "cell_type": "markdown",
      "metadata": {
        "id": "o8gzjj7_YCPM"
      },
      "source": [
        "## ***(Examples) Listeler, Demetler, Sözlükler ve Kümeler***"
      ]
    },
    {
      "cell_type": "code",
      "metadata": {
        "id": "sdHhvq-YZBeX"
      },
      "source": [
        "#oluşturulan listeki elemanların en küçüğünü karar yapıları(if,else) ve continue ifadesi kullanarak bulunuz. \n",
        "liste = [9,4,6,9,8,1,2,22,54,3,6,65]\n",
        "\n",
        "mins = 1000\n",
        "for i in liste:\n",
        "  if i < mins:\n",
        "    mins = i\n",
        "  else:\n",
        "   continue\n",
        "print(\"Minimum sayı\",mins)"
      ],
      "execution_count": null,
      "outputs": []
    },
    {
      "cell_type": "code",
      "metadata": {
        "id": "U7kmnPRTkyex"
      },
      "source": [
        "\"\"\"Adım sayısını kullanıcının belirlediği adım sayısı kadar inputu listeye ekleyip listeyi her zaman ekrana\n",
        "yazdıran sonrasında listeyi sıralayıp 0 dan 2. indexe kadar olan sayıları toplam değişkeni ile ekrana yazdıran programı yazalım \"\"\"\n",
        "\n",
        "liste = []\n",
        "n = int(input(\"Adım sayısını belirtiniz : \"))\n",
        "\n",
        "for i in range(1,n):\n",
        "    a = int(input(\"Sayıyı giriniz : \"))\n",
        "    liste.append(a)\n",
        "    print(\"Güncel Liste:\",liste)\n",
        "liste.sort()\n",
        "print(\"Sıralı liste :\",liste)\n",
        "\n",
        "toplam = 0\n",
        "for i in liste[0:2]:\n",
        "    toplam += i\n",
        "print(\"Toplam : \",toplam)"
      ],
      "execution_count": null,
      "outputs": []
    },
    {
      "cell_type": "code",
      "metadata": {
        "id": "oTffGhIOZBU3"
      },
      "source": [
        "\"\"\"telefon numaralarından oluşan bir sözlük oluşturup kullanıcıdan öğrenmek istediği telefon numrası \r\n",
        "sahibini alıp eğer sözlüğe kayıtlı ise numarsını değil ise ahata mesajını ekrana yazdıralım\r\n",
        "Ssonrasında sözlüğü listeye çevirerek kullanıcıdan telefon defterine kayıt etmek istediği ismi alıp listeye ekleyelim en sonunda listeyi bastıralım\"\"\"\r\n",
        "\r\n",
        "telefon_defteri = {\"ahmet öz\" : \"0532 532 32 32\",\r\n",
        "                   \"mehmet su\": \"0543 543 42 42\",\r\n",
        "                   \"seda naz\" : \"0533 533 33 33\",\r\n",
        "                   \"eda ala\"  : \"0212 212 12 12\"}\r\n",
        "\r\n",
        "kişi = input(\"Telefon numarasını öğrenmek için bir kişi adı girin: \")\r\n",
        "\r\n",
        "if kişi in telefon_defteri:\r\n",
        "    print(\"{} adlı kişinin telefon numarası: {}\".format(kişi, telefon_defteri[kişi]))\r\n",
        "else:\r\n",
        "    print(\"Aradığınız kişi telefon rehberinde yok!\")\r\n",
        "    telefon_defteri = list(telefon_defteri)\r\n",
        "    x = input(\"Eklemek istediğiniz kişiyi isim numara şeklinde kaydediniz :\")\r\n",
        "    telefon_defteri.append(x)\r\n",
        "    print(\"Porgram sonlandırılıyor...\")\r\n",
        "print(telefon_defteri)"
      ],
      "execution_count": null,
      "outputs": []
    },
    {
      "cell_type": "code",
      "metadata": {
        "id": "jUwivEmMYoSh"
      },
      "source": [
        "# 2 Kümenin birleşimini, farkını, kesişimini ve simetrik farklarını bulalım\n",
        "\n",
        "E = {0, 2, 4, 6, 8};\n",
        "N = {1, 2, 3, 4, 5};\n",
        "\n",
        "#birleşim\n",
        "print(\"E ve N kümelerinin birleşimi\",E | N)\n",
        "\n",
        "#kesişim\n",
        "print(\"n ve e kümelerinin kesişimi:\",E & N)\n",
        "\n",
        "#fark\n",
        "print(\"E kümesinin N den farkı :\",E - N)\n",
        "\n",
        "# set symmetric difference\n",
        "print(\"N ve e kümelerinin simetrik farkları :\",E ^ N)"
      ],
      "execution_count": null,
      "outputs": []
    },
    {
      "cell_type": "code",
      "metadata": {
        "id": "nObECKCScd04"
      },
      "source": [
        "#5 farklı öğrencinin hepsinin notlarını ve ortalamayı liste kullnarak ekrana yazdıralım\r\n",
        "\r\n",
        "ortalama = 0\r\n",
        "notlar = []\r\n",
        "\r\n",
        "for i in range(5):\r\n",
        "    veri = int(input(\"{}. not: \".format(i+1)))\r\n",
        "    ortalama += veri\r\n",
        "    notlar += [veri]\r\n",
        "\r\n",
        "print(\"Girdiğiniz notlar :\",*notlar)  #* ile notları tek tek yazdırıyoruz yani birbirinden ayırıyoruz\r\n",
        "print(\"Not ortalamanız : \",ortalama/5)"
      ],
      "execution_count": null,
      "outputs": []
    },
    {
      "cell_type": "code",
      "metadata": {
        "id": "_7gINtyBcdyU"
      },
      "source": [
        "\"\"\"Oluşturulan demet içerisinden tek sayıları listeye ekleyip  demet içerisnde hangi değerin kaç tane olduğunu ve en çok tekrar eden rakamın indexini yazdıralım\r\n",
        "en sonunda ise listenin 0 dan 2. index e kadar olan değerleri silelim\"\"\"\r\n",
        "\r\n",
        "demet = (1,5,99,5,88,1,54,9,12)\r\n",
        "liste = []\r\n",
        "\r\n",
        "for i in demet:\r\n",
        "  if i % 2 == 1: \r\n",
        "    liste.append(i)\r\n",
        "    print(\"{} rakamından {} tane var\".format(i,demet.count(i)))\r\n",
        "print(\"En çok tekrar eden rakamın indexi\",demet.index(1))\r\n",
        "\r\n",
        "print(\"Güncel liste :\",liste)\r\n",
        "del liste[0:2]\r\n",
        "print(\"Güncel Liste :\",liste)\r\n"
      ],
      "execution_count": null,
      "outputs": []
    },
    {
      "cell_type": "code",
      "metadata": {
        "id": "VXTgnKnUcdvy"
      },
      "source": [
        "# kümeleri ve demetleri listeye çevirme\r\n",
        "\r\n",
        "language = ['French']\r\n",
        "language_tuple = ('Spanish', 'Portuguese')\r\n",
        "language_set = {'Chinese', 'Japanese'}\r\n",
        "\r\n",
        "language.extend(language_tuple)\r\n",
        "print('New Language List:', language)\r\n",
        "\r\n",
        "language.extend(language_set)\r\n",
        "print('Newer Language List:', language)"
      ],
      "execution_count": null,
      "outputs": []
    },
    {
      "cell_type": "code",
      "metadata": {
        "id": "JJdigMk23xFv"
      },
      "source": [
        "import random \r\n",
        "liste = []\r\n",
        "\r\n",
        "for i in range(10):\r\n",
        "  x = random.randint(1,60) #random 0 1\r\n",
        "  liste.append(x)\r\n",
        "print(liste)\r\n",
        "\r\n",
        "liste.insert(2,\"Python\")\r\n",
        "print(\"Güncel Liste:\",liste)"
      ],
      "execution_count": null,
      "outputs": []
    },
    {
      "cell_type": "code",
      "metadata": {
        "id": "C6hWx2RHC1q7"
      },
      "source": [
        "#Sayı tahmin oyunu\r\n",
        "\r\n",
        "from random import randint\r\n",
        " \r\n",
        "rastgele=randint(1, 50)  #/2 /2\r\n",
        "sayac=0\r\n",
        " \r\n",
        "while True:\r\n",
        "    sayac+=1\r\n",
        "    sayi=int(input(\"1 ile 100 arasında değer girin (0 Çıkış):\"))\r\n",
        "    if(sayi==0):\r\n",
        "        print(\"Oyunu İptal Ettiniz\")\r\n",
        "        break\r\n",
        "    elif sayi < rastgele:\r\n",
        "        print(\"Daha Yüksek Bir Sayı Girin.\")\r\n",
        "        continue\r\n",
        "    elif sayi > rastgele:\r\n",
        "        print(\"Daha Düşük Bir Sayı Girin.\")\r\n",
        "        continue\r\n",
        "    else:\r\n",
        "        print(\"******Tebrikler Tahmin sayınız {0}******\".format(sayac))"
      ],
      "execution_count": null,
      "outputs": []
    },
    {
      "cell_type": "markdown",
      "metadata": {
        "id": "PrF9er2bbLqI"
      },
      "source": [
        "## ***Hata Yönetimi***\n",
        "-Şuana kadar yazdığımız tüm kodlarda her şeyi istediğimiz gibi gideceğini varsayarak yaptık.\n",
        "Ancak bazen her şey planlanan gibi gitmez. Örneğin kullanıcı yaş kısmına karakter dizisi girebilir\n",
        "Bu yüzden programımızın çökmemesi için hata yakalama işlemleri yapıyoruz.\n",
        "\n"
      ]
    },
    {
      "cell_type": "markdown",
      "metadata": {
        "id": "G-S-DGXAbLqI"
      },
      "source": [
        "### ***Try Except***"
      ]
    },
    {
      "cell_type": "code",
      "metadata": {
        "id": "OVwR8K0dbLqI"
      },
      "source": [
        "#Hata yakalamak için try except bloklarından yararlanılır. Öncelikle bir hata oluşturalım ve ne olduğunu görelim\n",
        "\n",
        "ilk_sayı = input(\"ilk sayı: \")\n",
        "ikinci_sayı = input(\"ikinci sayı: \")\n",
        "\n",
        "print(int(ilk_sayı)/int(ikinci_sayı))"
      ],
      "execution_count": null,
      "outputs": []
    },
    {
      "cell_type": "code",
      "metadata": {
        "id": "vftIdljtbLqI"
      },
      "source": [
        "#Yukarıdaki gibi bir sayıyı sıfıra bölmeye çalışırsak hata alırız ve program çöker.\n",
        "#Bunun gibi hatalardan dolayı durmayı önlemek için try except bloklarını kullanacağız\n",
        "\n",
        "ilk_sayı    = input(\"ilk sayı: \")\n",
        "ikinci_sayı = input(\"ikinci sayı: \")\n",
        "\n",
        "try:     #try kısmına yapmak istediğimiz işlemi yazıyoruz\n",
        "    print(ilk_sayı, \"/\", ikinci_sayı, \"=\", int(ilk_sayı) / int(ikinci_sayı))\n",
        "except ZeroDivisionError:     #except kısmına gerçekleşmesi muhtemel(beklediğimiz) hataların sonucunda ne yapıcağımızı yazıyoruz\n",
        "    print(\"Bir sayı sıfıra bölünemez\")"
      ],
      "execution_count": null,
      "outputs": []
    },
    {
      "cell_type": "markdown",
      "metadata": {
        "id": "X44z52VKbLqI"
      },
      "source": [
        "Try ... except çalışma prensibi :                                                                         \n",
        "try:                                                                                   \n",
        "     hata verebileceğini bildiğimiz kodlar                                                       \n",
        "except HataAdı:                                                                                             \n",
        "    hata durumunda yapılacak işlem"
      ]
    },
    {
      "cell_type": "code",
      "metadata": {
        "id": "ojpPxdxMbLqI"
      },
      "source": [
        "# Bir den çok hata gerçekleşme ihtimali olabilir. Bu yüzden birden çok except bloğu olabilir\n",
        "\n",
        "ilk_sayı    = input(\"ilk sayı: \")\n",
        "ikinci_sayı = input(\"ikinci sayı: \")\n",
        "\n",
        "try:     \n",
        "    print(ilk_sayı, \"/\", ikinci_sayı, \"=\", int(ilk_sayı) / int(ikinci_sayı))\n",
        "except ZeroDivisionError:    \n",
        "    print(\"Bir sayı sıfıra bölünemez\")\n",
        "except ValueError:\n",
        "    print(\"Lütfen sadece sayı giriniz\")"
      ],
      "execution_count": null,
      "outputs": []
    },
    {
      "cell_type": "code",
      "metadata": {
        "id": "4IzAl6RpbLqI"
      },
      "source": [
        "#en iyi yöntem her hataya göre ayrı mesaj göstermek olabilir. Ancak istersek ikisini tek bir blokta toplayabiliriz\n",
        "ilk_sayı    = input(\"ilk sayı: \")\n",
        "ikinci_sayı = input(\"ikinci sayı: \")\n",
        "\n",
        "try:     \n",
        "    print(ilk_sayı, \"/\", ikinci_sayı, \"=\", int(ilk_sayı) / int(ikinci_sayı))\n",
        "except (ZeroDivisionError,ValueError):    #parantez içine alıp virgülle ayırmamız gerekiyor\n",
        "    print(\"Hata oluştu!\")"
      ],
      "execution_count": null,
      "outputs": []
    },
    {
      "cell_type": "code",
      "metadata": {
        "id": "10PFtckXbLqI"
      },
      "source": [
        "#expectten sonra hiç bir hata yazmazsak tüm hatalarda o blok çalışır\n",
        "#Ancak bu yöntemle hatamızın ne olduğunu bulmakta zorlanırız. O yüzden çok kullanışlı değildir\n",
        "\n",
        "ilk_sayı    = input(\"ilk sayı: \")\n",
        "ikinci_sayı = input(\"ikinci sayı: \")\n",
        "\n",
        "try:     \n",
        "    print(ilk_sayı, \"/\", ikinci_sayı, \"=\", int(ilk_sayı) / int(ikinci_sayı))\n",
        "except:    \n",
        "    print(\"Hata oluştu!\")"
      ],
      "execution_count": null,
      "outputs": []
    },
    {
      "cell_type": "code",
      "metadata": {
        "id": "91DFFHapbLqI"
      },
      "source": [
        "#Python'da hatalar hep genel bir hata yapısının altındadır. Örneğin işletim sistemindeki hatalar OS Exception altındadır.\n",
        "#Bizde try except ile hata yakalarken tüm hataları tek tek yakalamak yerine Genel hata sınıfını yazabiliriz\n",
        "\n",
        "ilk_sayı    = input(\"ilk sayı: \")\n",
        "ikinci_sayı = input(\"ikinci sayı: \")\n",
        "\n",
        "try:     \n",
        "    print(ilk_sayı, \"/\", ikinci_sayı, \"=\", int(ilk_sayı) / int(ikinci_sayı))\n",
        "except Exception:     #beklediğimiz hatalar Exception hata sınıfına ait hatalar // Programcı Hataları (Error) Program Kusurları (Bug) İstisnalar (Exception)\n",
        "    print(\"Hata oluştu!\")"
      ],
      "execution_count": null,
      "outputs": []
    },
    {
      "cell_type": "markdown",
      "metadata": {
        "id": "4Y29R0LmbLqJ"
      },
      "source": [
        "### ***Try / except as***\n",
        "-Bunu kullanmamızın sebebi bazen hata mesajını direkt pythondaki hata durumundan alıp yazdırmamızdır. Örnekte görelim"
      ]
    },
    {
      "cell_type": "code",
      "metadata": {
        "id": "K7j1Up11E8bM"
      },
      "source": [
        ""
      ],
      "execution_count": null,
      "outputs": []
    },
    {
      "cell_type": "code",
      "metadata": {
        "id": "eicUGKORbLqJ"
      },
      "source": [
        "ilk_sayı    = input(\"ilk sayı: \")\n",
        "ikinci_sayı = input(\"ikinci sayı: \")\n",
        "\n",
        "try:     \n",
        "    print(ilk_sayı, \"/\", ikinci_sayı, \"=\", int(ilk_sayı) / int(ikinci_sayı))\n",
        "except ZeroDivisionError as hata :    \n",
        "    print(hata)   #programa özgün hata mesajı\n",
        "    print('sayı sıfıra bölünemez')   #bizim hata mesajımız"
      ],
      "execution_count": null,
      "outputs": []
    },
    {
      "cell_type": "markdown",
      "metadata": {
        "id": "DcOmjKJ8bLqJ"
      },
      "source": [
        "### ***Try Except Else***"
      ]
    },
    {
      "cell_type": "code",
      "metadata": {
        "id": "T_e5LEt1bLqJ"
      },
      "source": [
        "#koşullu ifadelerde gördüğümüz else ile aynı anlama gelmektedir. Hataları teker teker incelememizi sağlar\n",
        "\n",
        "try:\n",
        "    bölünen = int(input(\"bölünecek sayı: \"))\n",
        "    bölen = int(input(\"bölen sayı: \"))\n",
        "except ValueError:     #ilk girilen değerin sayı olma durumunu inceliyoruz\n",
        "    print(\"Lütfen sadece sayı girin!\")\n",
        "else:        #eğer sayı ise bu sefer sıfıra bölünme durumuna bakıyoruz\n",
        "    try:\n",
        "        print(bölünen/bölen)\n",
        "    except ZeroDivisionError:\n",
        "        print(\"Bir sayıyı 0'a bölemezsiniz!\")"
      ],
      "execution_count": null,
      "outputs": []
    },
    {
      "cell_type": "markdown",
      "metadata": {
        "id": "8ReqISv7bLqJ"
      },
      "source": [
        "### ***Try Except Finally***"
      ]
    },
    {
      "cell_type": "code",
      "metadata": {
        "id": "v3oJggycbLqJ"
      },
      "source": [
        "#bu yapının mantığı işleyişi şu şekildedir.\n",
        "\"\"\"try:\n",
        "    istediğimiz işlemler\n",
        "except birHata:\n",
        "    hata zamanı yapılan işlem\n",
        "finally:\n",
        "    hata olsa da olmasa da yapılacaklar\"\"\"\n",
        "print()"
      ],
      "execution_count": null,
      "outputs": []
    },
    {
      "cell_type": "code",
      "metadata": {
        "id": "VhHQwkyWbLqJ"
      },
      "source": [
        "ilk_sayı    = input(\"ilk sayı: \")\n",
        "ikinci_sayı = input(\"ikinci sayı: \")\n",
        "\n",
        "try:     \n",
        "    print(ilk_sayı, \"/\", ikinci_sayı, \"=\", int(ilk_sayı) / int(ikinci_sayı))\n",
        "except (ZeroDivisionError,ValueError):  \n",
        "    print(\"Hata oluştu!\")\n",
        "finally:\n",
        "    print(\"asdasdasd\")"
      ],
      "execution_count": null,
      "outputs": []
    },
    {
      "cell_type": "markdown",
      "metadata": {
        "id": "HGVNKmOLbLqJ"
      },
      "source": [
        "### ***Hata nesnesi oluşturma***\n",
        "-Bazen programlarımızda yapılan işlemlerin hata vermesini isteriz. Ancak python burada hata vermez. İşte bu noktada kendi hata nesnelerimizi oluşturabiliriz"
      ]
    },
    {
      "cell_type": "code",
      "metadata": {
        "id": "pmJaXA05bLqJ"
      },
      "source": [
        "#hata nesnesi oluşturmamızı sağlayan deyim raise dir.\n",
        "sehir = input('bir şehir giriniz')\n",
        "\n",
        "if sehir == 'istanbul':\n",
        "    raise Exception(\"İstanbul şehrini çalıştıramam\")  #Exception bizim hata sınıfımız onu değiştirebiliriz (ValueError gibi)"
      ],
      "execution_count": null,
      "outputs": []
    },
    {
      "cell_type": "code",
      "metadata": {
        "id": "nd9WrIhPiajR"
      },
      "source": [
        ""
      ],
      "execution_count": null,
      "outputs": []
    },
    {
      "cell_type": "markdown",
      "metadata": {
        "id": "johWQGjzcQO3"
      },
      "source": [
        "## Fonksiyonlar"
      ]
    },
    {
      "cell_type": "markdown",
      "metadata": {
        "id": "v8czTef4cQO5"
      },
      "source": [
        "##### Fonksiyonların Özellikleri\n",
        "1- Her fonksiyonun bir ismi vardır ve fonksiyon_ismi() şeklinde kullanılırlar                                             \n",
        "2- Parantezlerin içerisine fonksiyonlara işlevsellik kazandıran parametreler yazılır.                                       \n",
        "3- Fonksiyonların bazı parametrelerinin varsayılan(default) değerleri vardır. Biz Değiştirmediğimiz sürece o değerler kullanılır => print(end=\\n) örnek print fonksiyonu çalıştıktan sonra alt satıra geçmesini sağlayan end parametresine sahiptir. \n"
      ]
    },
    {
      "cell_type": "markdown",
      "metadata": {
        "id": "Vi4RS2sScQO6"
      },
      "source": [
        "##### Fonksiyon nedir ?\n",
        "Fonksiyonlar programımızda rutin olarak tekrar eden işlemleri veya prosedürleri tek bir ad altında toplayan ve o işlemleri uzunca tekrardan yazmamıza gerek kalmamasını sağlayan araçlardır. Fonksiyonların görevi karmaşık işlemleri bir araya toplayarak, tek seferde yapmamızı sağlamasıdır."
      ]
    },
    {
      "cell_type": "code",
      "metadata": {
        "id": "k0C6qTQHcQO6"
      },
      "source": [
        "# print fonksiyonunun yaptığı işi kısaca bi inceleyelim. Örneğin 4 farklı parametre alsın\n",
        "\n",
        "print(\"istanbul\",\"Üniversites\",\"Python\",\"Programlama\")"
      ],
      "execution_count": null,
      "outputs": []
    },
    {
      "cell_type": "markdown",
      "metadata": {
        "id": "gHfm8JDScQO6"
      },
      "source": [
        "çıktıda gördüğümüz üzere  print() fonksiyonu bizim için bazı işlemleri otomatik olarak gerçekleştirdi.                  \n",
        "1- İlk olarak kendisine verilen parametreleri(değerleri) ekrana bastırıyor\n",
        "2- Ekrana basarken sep=' ' parametresinin etkisiyle aralarına birer boşluk bırakıyor\n",
        "3- end='\\n' parametresi sayesinde ekrana yazdırdıktan sonra otomatik olarak bir alt satıra geçiyor"
      ]
    },
    {
      "cell_type": "code",
      "metadata": {
        "id": "GhXBjD9CcQO6"
      },
      "source": [
        "#Örneğin bi öğrenci kayıt sistemi yapmak isteyelim. Ve her kaydı ekrana tek tek bastırsın.\n",
        "#şuana kadar öğrendiklerimizle bunu şu şekilde yapardık\n",
        "    \n",
        "ogrenci_ad    = \"Kasım\"\n",
        "ogrenci_soyad = \"Yıldırım\"\n",
        "ogrenci_yas  = \"20\"\n",
        "şehir  = \"Trabzon\"\n",
        "\n",
        "print(\"isim           : \", ogrenci_ad)\n",
        "print(\"soyisim        : \", ogrenci_soyad)\n",
        "print(\"yaş            : \", ogrenci_yas)\n",
        "print(\"şehir          : \", şehir)   "
      ],
      "execution_count": null,
      "outputs": []
    },
    {
      "cell_type": "markdown",
      "metadata": {
        "id": "Tc1456yEcQO6"
      },
      "source": [
        "Bir kayıt yapmak istediğimizde her kişi için bu işlemi yapmak zorundayız. Peki biz her seferinde böyle uzun işlem yapmak yerine bir fonksiyon yazsak, Örneğin kayıt(Kasım,Yıldırım,20,Trabzon) ve aldığı bu parametrelere göre hızlıca kayıt yapıp ekrana yazsa daha kolay olmaz mı ? İşte bunun gibi tekrarlayan işlerde fonksiyonları kullanırız"
      ]
    },
    {
      "cell_type": "markdown",
      "metadata": {
        "id": "uvkRQRzjcQO6"
      },
      "source": [
        "### Fonksiyon Tanımlama ve Çağırma\n",
        "\n",
        "Fonksiyonun yaşam döngüsü 2 aşamadan oluşur. Birincisi fonksiyonun tanımlanması ikincisi ise çağrılması"
      ]
    },
    {
      "cell_type": "code",
      "metadata": {
        "id": "qh0ITPsWcQO7"
      },
      "source": [
        "# Fonksiyon tanımlarken dikkat etmemiz gereken husus aynı isimde başka bir fonksiyon olmamasıdır (input,print vs)\n",
        "# FONKSİYON TANIMLAMA \n",
        "\n",
        "def kayıt(ad,soyad,yas,sehir):     #def fonksiyon tanımlarken kullandığımız terimdir.\n",
        "    print(\"-\"*20)                 #Fonksiyonun içindeki işlemleri tanımlarken girintiye dikkat etmelisiniz.\n",
        "    \n",
        "    print(\"isim           : \", ad)\n",
        "    print(\"soyisim        : \", soyad)\n",
        "    print(\"yaş            : \", yas)\n",
        "    print(\"şehir          : \", sehir) \n",
        "    \n",
        "    print(\"-\"*20)"
      ],
      "execution_count": null,
      "outputs": []
    },
    {
      "cell_type": "code",
      "metadata": {
        "id": "oN0vLbU6cQO7"
      },
      "source": [
        "#yukarıda fonksiyonumuzu tanımladıktan sonra artık istediğimiz kadar kayıt yapabiliriz\n",
        "kayıt(\"Kaan\",\"Aydemir\",\"21\",\"İstanbul\")     #Fonksiyonumuzu çağırıyoruz"
      ],
      "execution_count": null,
      "outputs": []
    },
    {
      "cell_type": "code",
      "metadata": {
        "id": "FNeONIt7cQO7"
      },
      "source": [
        "kayıt(\"Elon\",\"Musk\",\"40\",\"Miami\")"
      ],
      "execution_count": null,
      "outputs": []
    },
    {
      "cell_type": "markdown",
      "metadata": {
        "id": "u5wuM4oGcQO7"
      },
      "source": [
        "#### Fonksiyonların Yapısı\n",
        "Yukarıda bir fonksiyonu tanımladık. Şimdi daha detaylı olarak yapısını inceleyelim ve taşlar yerine otursun"
      ]
    },
    {
      "cell_type": "code",
      "metadata": {
        "id": "1YjlKUmscQO7"
      },
      "source": [
        "# def parçacığı, tanımladığımız şeyin bir fonksiyon olduğunu gösterir.(defination'dan gelir) \n",
        "# def'in yanına yazdığımız (yukarıda ki kayıt) ifade ise bizim fonksiyonumuzun ismi oluyor\n",
        "\n",
        "def welcome():\n",
        "    print(\"Hoşgeldiniz\")\n",
        "#Burada welcome isimli bir fonksiyon tanımlamış olduk ve bize çıktı olarak Hoşgeldiniz döndürüyor\n",
        "#Bu şekilde çalıştırdığımızda bir çıktı almayacağız. Bunun sebebi henüz fonksiyonu çağırmadık"
      ],
      "execution_count": null,
      "outputs": []
    },
    {
      "cell_type": "code",
      "metadata": {
        "id": "NP6GWUCgcQO7"
      },
      "source": [
        "welcome()    #Fonksiyonumuzu çağırmış olduk"
      ],
      "execution_count": null,
      "outputs": []
    },
    {
      "cell_type": "markdown",
      "metadata": {
        "id": "PPSjwPClcQO8"
      },
      "source": [
        "welcome() fonksiyonu parametresiz bir fonksiyondur"
      ]
    },
    {
      "cell_type": "code",
      "metadata": {
        "id": "xkBUQTzocQO8"
      },
      "source": [
        "#Bazen yazdığımız fonksiyonlarımızın ne işlem yaptığını unutabiliriz veya başka bir yazılımcı okuduğunda rahatlıkla\n",
        "#anlaması için fonksiyonun işlemleri öncesi bi açıklama dökümanı yazılabilir (mecbur değil ama iyi programlama için faydalı)\n",
        "\n",
        "def welcome():\n",
        "    \"\"\"\n",
        "    Bu fonksiyon bizim katılımcılara Hoşgeldin dememizi sağlar\n",
        "    \"\"\"\n",
        "    print(\"Hoşgeldiniz\")"
      ],
      "execution_count": null,
      "outputs": []
    },
    {
      "cell_type": "code",
      "metadata": {
        "id": "GUFeJFbqcQO9"
      },
      "source": [
        "welcome()   #fonksiyonu çağırdığımızda açıklamasını göremeyiz. "
      ],
      "execution_count": null,
      "outputs": []
    },
    {
      "cell_type": "code",
      "metadata": {
        "id": "eQCFvTmjcQO9"
      },
      "source": [
        "#Fonksiyonun açıklmasına ulaşmak için:\n",
        "print(welcome.__doc__)  #bu şekilde fonksiyonu yaratan kişinin fonksiyon için yazdığı nota ulaşabiliriz"
      ],
      "execution_count": null,
      "outputs": []
    },
    {
      "cell_type": "markdown",
      "metadata": {
        "id": "bPMiL82scQO9"
      },
      "source": [
        "#### Parametre ve Argüman"
      ]
    },
    {
      "cell_type": "markdown",
      "metadata": {
        "id": "lIM54CZKcQO9"
      },
      "source": [
        "##### Fonksiyonları tanımlarken kullandığımız parametre nedir ve ne işe yarar ?"
      ]
    },
    {
      "cell_type": "code",
      "metadata": {
        "id": "XW8U59Q8cQO9"
      },
      "source": [
        "#Örneğin bi küp bulma işlemi olsun ve sonucu ekrana yazdırsın\n",
        "\n",
        "sayi=2\n",
        "print(f\"{sayi} sayısının küpü {sayi**3}\")"
      ],
      "execution_count": null,
      "outputs": []
    },
    {
      "cell_type": "code",
      "metadata": {
        "id": "xEJEYJ6XcQO9"
      },
      "source": [
        "#Her sayı için bunu tekrar tekrar yapmak yerine bunu bir fonksiyon haline getirip her çağrılmada istediğimiz sayıyı hesaplatabiliriz"
      ],
      "execution_count": null,
      "outputs": []
    },
    {
      "cell_type": "markdown",
      "metadata": {
        "id": "lEvjVdgTcQO-"
      },
      "source": [
        "Parametreler fonksiyonlarımızın daha işlevsel hale gelmesini saplayan araçlardır"
      ]
    },
    {
      "cell_type": "code",
      "metadata": {
        "id": "Rwz0wIfGcQO-"
      },
      "source": [
        "def küp(number):\n",
        "    print(f\"{number} sayısının küpü {number**3}\")"
      ],
      "execution_count": null,
      "outputs": []
    },
    {
      "cell_type": "code",
      "metadata": {
        "id": "_3zEbtsOcQO-"
      },
      "source": [
        "küp(2)\n",
        "küp(4)\n",
        "küp(3)"
      ],
      "execution_count": null,
      "outputs": []
    },
    {
      "cell_type": "markdown",
      "metadata": {
        "id": "O6fBqx_lcQO-"
      },
      "source": [
        "Gördüğünüz gibi fonksiyonumuz dışarıdan bir parametre alıyor ve bu değerin küpünü ekrana yazdırıyor.\n",
        "eğer fonksiyonumuz bir parametre almasaydı ya her çağırışta input almamız gerekicekti ya da tek bir değer için hesaplama yapmış olacaktık. Bu da fonksiyonun amaçlarından olan işlevselliği düşürmüş olacaktı"
      ]
    },
    {
      "cell_type": "markdown",
      "metadata": {
        "id": "SVqmV1fqcQO-"
      },
      "source": [
        "#### Varsayılan Değerli Parametreler\n"
      ]
    },
    {
      "cell_type": "markdown",
      "metadata": {
        "id": "uWosrBdscQO-"
      },
      "source": [
        "Dikkat etmemiz gereken bir diğer şey ise yazdığımız fonksiyonlardaki parametrelere varsayılan bir değer atamadık\n",
        "Bu yüzden eğer fonksiyonu çağırırken o parametreye karşılık bir değer girilmezse program hata verecektir"
      ]
    },
    {
      "cell_type": "code",
      "metadata": {
        "id": "phY8O3ZBcQO_"
      },
      "source": [
        "küp()"
      ],
      "execution_count": null,
      "outputs": []
    },
    {
      "cell_type": "code",
      "metadata": {
        "id": "Xo7_3cv6cQO_"
      },
      "source": [
        "#Hata almamak için varsayılan değerde bir parametre atayabiliriz\n",
        "def kur(kurulum_dizini=\"/Desktop\"):\n",
        "    print(f\"Program {kurulum_dizini} dizinine kuruluyor\")"
      ],
      "execution_count": null,
      "outputs": []
    },
    {
      "cell_type": "code",
      "metadata": {
        "id": "LWzK0rilcQO_"
      },
      "source": [
        "kur()"
      ],
      "execution_count": null,
      "outputs": []
    },
    {
      "cell_type": "markdown",
      "metadata": {
        "id": "i3--GRxMcQO_"
      },
      "source": [
        "Yukarıda gördüğümüz üzere bu fonksiyonumuz indirdiğimiz dosyanın nereye kurulacağını ekrana yazdırıyor. Ancak kullanıcı bazen konumu seçmek istemez yani otomatik olarak kurulmasını isteyebilir. İşte bunun için bir parametre değeri vermezse program var sayılan konuma indirilecektir"
      ]
    },
    {
      "cell_type": "markdown",
      "metadata": {
        "id": "Sv7We019cQPA"
      },
      "source": [
        "Parametreleri isimlendirirken istediğimiz ismi verebiliriz. Sadece Dikkat edilmesi gereken veren parametre ismi ile fonksiyon içinde ki kullanılan isim aynı olmalıdır"
      ]
    },
    {
      "cell_type": "markdown",
      "metadata": {
        "id": "VsFjDVA8cQPA"
      },
      "source": [
        "Bir diğer kolaylık ise program ilerletildiğinde sadece fonksiyonda değişiklik yaparak diğer işlemleride otomatik olarak rahatlıkla değiştirmiş oluruz"
      ]
    },
    {
      "cell_type": "markdown",
      "metadata": {
        "id": "CgIsi2OJcQPA"
      },
      "source": [
        "##### Parametreleri Sıralı ve İsimli Kullanma"
      ]
    },
    {
      "cell_type": "markdown",
      "metadata": {
        "id": "x1w73lJGcQPA"
      },
      "source": [
        "yazdığımız fonksiyonlara parametreleri yollarken hep tanımlanırken kullandığımız sıraya göre kullandık. Yani tanımlarken ilk sırada isim var ise fonksiyonu çağırırkende verilen ilk parametre isim olmalıydı. Çünkü python bizim için otomatik sıraya göre parametre ve argümanları birbirine eşleştiriyor."
      ]
    },
    {
      "cell_type": "code",
      "metadata": {
        "id": "_Pk5hQW8cQPA"
      },
      "source": [
        "def kayıt(ad,soyad,yas,sehir):    \n",
        "    print(\"-\"*20)                 \n",
        "    \n",
        "    print(\"isim           : \", ad)\n",
        "    print(\"soyisim        : \", soyad)\n",
        "    print(\"yaş            : \", yas)\n",
        "    print(\"şehir          : \", sehir) \n",
        "    \n",
        "    print(\"-\"*20)\n",
        "\n",
        "kayıt(\"Elon\",\"Musk\",\"40\",\"Miami\")"
      ],
      "execution_count": null,
      "outputs": []
    },
    {
      "cell_type": "markdown",
      "metadata": {
        "id": "6gHoYJNJcQPA"
      },
      "source": [
        "#### parametre isimlerini kullanarak sırasız değer yollamak"
      ]
    },
    {
      "cell_type": "markdown",
      "metadata": {
        "id": "dyQG4IlNcQPA"
      },
      "source": [
        "Bazı durumlarda parametreleri sırasız olarak vermek isteyebiliriz. Bunun sebebi belki bi parametreyi varsayılan değerinde bırakmak istiyor olabiliriz. Veya karışıklık çıkmasın diye hepsinin ismini kullanmak istiyor olabiliriz. Bunun içinde parametrenin isimlerine atayarak işlemi gerçekleştirebiliriz"
      ]
    },
    {
      "cell_type": "code",
      "metadata": {
        "id": "cDaXJJ0lcQPA"
      },
      "source": [
        "def yolculuk(gidilen_yer,saat,konum='ev',arac='araba'):\n",
        "    print(f\"{konum} konumundan {gidilen_yer}'ya {saat}'de {arac} ile gidilecektir\")"
      ],
      "execution_count": null,
      "outputs": []
    },
    {
      "cell_type": "markdown",
      "metadata": {
        "id": "MYumFlGjcQPB"
      },
      "source": [
        "Varsayılan değerli parametreleri ayarlarken dikkat edilmesi gereken bir nokta mevcut. Fonksiyonu tanımlarken varsayışan değerli parametreler sonda olmak zorundadır. Yani varsayılan değere sahip parametrelerden sonra değersiz parametreler gelemez. Python bu noktada hata veriyor."
      ]
    },
    {
      "cell_type": "code",
      "metadata": {
        "id": "_6-aro2kcQPB"
      },
      "source": [
        "yolculuk(saat=3,gidilen_yer='bolu',arac='otobüs')"
      ],
      "execution_count": null,
      "outputs": []
    },
    {
      "cell_type": "markdown",
      "metadata": {
        "id": "4ixrNy5pcQPB"
      },
      "source": [
        "Görüdğünüz gibi parametre değerlerini yollarken sırası karışık olarak yolladık. Özellikle çok fazla parametre alan fonksiyonlarda sırasını bilmek çok zor olacağı için bu şekilde isimli olarak atayabiliriz"
      ]
    },
    {
      "cell_type": "markdown",
      "metadata": {
        "id": "MY6qndrRcQPB"
      },
      "source": [
        "##### Bir örnek yapalım. Pythonda len() fonksiyonu olmadığını varsayalım ve bunu kendimiz yazmaya çalışalım"
      ]
    },
    {
      "cell_type": "code",
      "metadata": {
        "id": "Xa2lEquNcQPB"
      },
      "source": [
        "def uzunluk(kelime):\n",
        "    try:\n",
        "        x=0\n",
        "        for i in kelime:\n",
        "            x +=1\n",
        "        print(x)\n",
        "    except TypeError:\n",
        "        print('Sayının uzunluğu hesaplanamaz')"
      ],
      "execution_count": null,
      "outputs": []
    },
    {
      "cell_type": "code",
      "metadata": {
        "id": "i1Fk7zq2cQPB"
      },
      "source": [
        "uzunluk(\"Eskişehir\")"
      ],
      "execution_count": null,
      "outputs": []
    },
    {
      "cell_type": "code",
      "metadata": {
        "id": "n2t0xjVccQPB"
      },
      "source": [
        "uzunluk(6)"
      ],
      "execution_count": null,
      "outputs": []
    },
    {
      "cell_type": "code",
      "metadata": {
        "id": "_kLMT0P_cQPC"
      },
      "source": [
        "sehirler=['İstanbul','ankara','bolu']\n",
        "uzunluk(sehirler)"
      ],
      "execution_count": null,
      "outputs": []
    },
    {
      "cell_type": "code",
      "metadata": {
        "id": "1tdIThwrcQPC"
      },
      "source": [
        "def yolculuk(konum,gidilen_yer):\n",
        "    print(f\"{konum} konumundan {gidilen_yer}'a gidilecektir\")"
      ],
      "execution_count": null,
      "outputs": []
    },
    {
      "cell_type": "code",
      "metadata": {
        "id": "I_YybHmNcQPC"
      },
      "source": [
        "yolculuk('sefaköy','avcılar')"
      ],
      "execution_count": null,
      "outputs": []
    },
    {
      "cell_type": "markdown",
      "metadata": {
        "id": "G0yMcpKXcQPD"
      },
      "source": [
        "fonksiyonu tanımlarken kullandığımız konum ve gidilen_yer değerleri bizim fonksiyonumuzun parametreleriydi. Bunu daha önceden öğrenmiştik. Bu fonksiyon aldığı parametrelere göre bize bir çıktı oluşturdu.\n",
        "\n",
        "İşte yukarıda kullandığımız sefaköy ve avcılar terimleri bizler için birer argüman oldu. Kısaca ikisini açıklarsak : \n",
        "\n",
        "Yani bir fonksiyonu tanımlarken belirlediğimiz adlara parametre, aynı fonksiyonu çağırırken belirlediğimiz adlara ise argüman deniyor"
      ]
    },
    {
      "cell_type": "markdown",
      "metadata": {
        "id": "qgdhxWlCcQPD"
      },
      "source": [
        "#### Rastgele sayıda isimsiz parametre yollama   (Demet)"
      ]
    },
    {
      "cell_type": "markdown",
      "metadata": {
        "id": "sQzXzkU_cQPD"
      },
      "source": [
        "Şimdiye kadar öğrendiğimiz çoğu fonksiyonun alabileceği max parametre sayısı belliydi. Daha fazlasını vermeye çalışırsak Python bize hata mesajı üretecekti. Ancak İstersek sınırsız sayıda parametre alabilen fonksiyon tanımlamamız mümkün. Gelin örnek üzerinde inceleyelim"
      ]
    },
    {
      "cell_type": "code",
      "metadata": {
        "id": "b9pLIfrccQPD"
      },
      "source": [
        "def sınırsız(*parametreler):\n",
        "    print(parametreler)"
      ],
      "execution_count": null,
      "outputs": []
    },
    {
      "cell_type": "code",
      "metadata": {
        "id": "zn1e3PdPcQPD"
      },
      "source": [
        "sınırsız(1,2,3,4,5,6,7,8)"
      ],
      "execution_count": null,
      "outputs": []
    },
    {
      "cell_type": "markdown",
      "metadata": {
        "id": "e3QrHpnMcQPE"
      },
      "source": [
        "\\* işareti bizim fonksiyonmuzun sınırsız sayıda parametre almasını sağlıyor\n",
        "NOT = pratikte sınırsız desekte teknik olarak alınabilecek parametre sayısı 256'dır\n",
        "\n",
        "Dikkat edilmesi gereken bir nokta iste fonksiyonun bize cevap olarak döndürdüğü sonuç demettir. Bu yüzden bir işlem yapmak istediğimizde demetlerde öğrendiğimiz konular geçerlidir"
      ]
    },
    {
      "cell_type": "code",
      "metadata": {
        "id": "NaFgSQilcQPE"
      },
      "source": [
        "def çarp(*sayılar):\n",
        "    sonuç = 1\n",
        "    for i in sayılar:\n",
        "        sonuç *= i\n",
        "    print(sonuç)"
      ],
      "execution_count": null,
      "outputs": []
    },
    {
      "cell_type": "code",
      "metadata": {
        "id": "dMXpT79scQPE"
      },
      "source": [
        "çarp(2,5,7,4,3,5,7)"
      ],
      "execution_count": null,
      "outputs": []
    },
    {
      "cell_type": "markdown",
      "metadata": {
        "id": "P2OdkZ3RcQPE"
      },
      "source": [
        "\\* işaretini daha öncede öğrenmiştik. Orda yaptığı işlem karakterleri,listeleri birbirinden ayırmaktı. Fonksiyonlarda ise bu tam tersi. Örneklerde de görüldüğü üzere * tüm parametreleri birleştirip bir demet haline getiriyor"
      ]
    },
    {
      "cell_type": "markdown",
      "metadata": {
        "id": "xTH7xcFJcQPE"
      },
      "source": [
        "\\* işaretinin yanındaki ismi istediğimiz gibi verebiliriz. Ancak genellikle *args kullanılır"
      ]
    },
    {
      "cell_type": "markdown",
      "metadata": {
        "id": "x9jf5ajocQPE"
      },
      "source": [
        "### Rastgele Sayıda isimli parametre belirleme  (Sözlük)"
      ]
    },
    {
      "cell_type": "markdown",
      "metadata": {
        "id": "rp-JgsdkcQPE"
      },
      "source": [
        "bir önceki başlıkta fonksiyon tanımlarken rastgele sayıda isimsiz parametreleri belirledik. Şimdi de parametreleri yine sınırsız sayıda ancak isimli olarak belirleyebiliriz. Örnek üzerinde inceleyelim"
      ]
    },
    {
      "cell_type": "code",
      "metadata": {
        "id": "_6_iAdRtcQPF"
      },
      "source": [
        "def fonksiyon(**bilgiler):\n",
        "    print(bilgiler)"
      ],
      "execution_count": null,
      "outputs": []
    },
    {
      "cell_type": "code",
      "metadata": {
        "id": "xonKpnAqcQPF"
      },
      "source": [
        "fonksiyon(isim='Onur',meslek='öğrenci',konu='Python')"
      ],
      "execution_count": null,
      "outputs": []
    },
    {
      "cell_type": "markdown",
      "metadata": {
        "id": "hHSBQhkPcQPF"
      },
      "source": [
        "Gördüğümüz gibi fonksiyonu çağırırken isimlendirdiğimiz parametreleri ve değerlerini sözlük yapısına getirdi. İşte bizde işlem yaparken sözlük tipinde geçerli olan kurallara uyarak işlem yapabiliriz"
      ]
    },
    {
      "cell_type": "code",
      "metadata": {
        "id": "opkhvqCTcQPF"
      },
      "source": [
        "def kayıt(**bilgiler):\n",
        "    print(\"-\"*20)\n",
        "\n",
        "    for key, value in bilgiler.items():\n",
        "        print(\"{}: {}\".format(key, value))\n",
        "\n",
        "    print(\"-\"*20)"
      ],
      "execution_count": null,
      "outputs": []
    },
    {
      "cell_type": "code",
      "metadata": {
        "id": "L0Mry31ycQPF"
      },
      "source": [
        "kayıt(isim='onur',soyad='yılmaz',yas=20,meslek='öğrenci')"
      ],
      "execution_count": null,
      "outputs": []
    },
    {
      "cell_type": "markdown",
      "metadata": {
        "id": "ftauXU8fcQPF"
      },
      "source": [
        "\\** işaretinin yanındaki ismi istediğimiz gibi verebiliriz. Ancak genellikle *kwargs kullanılır"
      ]
    },
    {
      "cell_type": "markdown",
      "metadata": {
        "id": "Bkf7f_ZVcQPF"
      },
      "source": [
        "##### * ve ** işaretlerini bir çok şekilde kullanabiliriz. "
      ]
    },
    {
      "cell_type": "markdown",
      "metadata": {
        "id": "ljR8xMAKcQPG"
      },
      "source": [
        "Örnek olarak bir sözlük oluşturalım. Bunda türkçe kelimelerin karşılıkları olsun. Bizde istediğimiz kelimlerin sözlükte karşılığı olup olmadığını kontrol edelim"
      ]
    },
    {
      "cell_type": "code",
      "metadata": {
        "id": "crMS5u9qcQPG"
      },
      "source": [
        "def ceviri(*args,**kwargs):\n",
        "    for kelime in args:\n",
        "        if kelime in kwargs:\n",
        "            print(f\"{kelime} : {kwargs[kelime]}\")\n",
        "        else:\n",
        "            print(f\"{kelime} kelimesi sözlükte yok\")\n",
        "sözlük={\"kitap\"      : \"book\",\n",
        "        \"bilgisayar\" : \"computer\",\n",
        "        \"sayı\": \"number\"}\n",
        "    \n",
        "ceviri('araba','okul','bilgisayar',**sözlük)"
      ],
      "execution_count": null,
      "outputs": []
    },
    {
      "cell_type": "markdown",
      "metadata": {
        "id": "GVt7LU4icQPG"
      },
      "source": [
        "Dikkat edilmesi gereken bir noktada, ikisini birbiriyle kullanırken sırasının önemidir. args(\\*) her zaman kwargs(\\**) önce gelmelidir. Yoksa Python hata üretecektir"
      ]
    },
    {
      "cell_type": "markdown",
      "metadata": {
        "id": "Wp-5QuYqcQPG"
      },
      "source": [
        "### Return Deyimi"
      ]
    },
    {
      "cell_type": "code",
      "metadata": {
        "id": "0DJUdJ0CcQPG"
      },
      "source": [
        "#Return deyimini anlamak için örnekler üzerinden gidelim. ilk önce basit bir fonksiyon yazalım\n",
        "\n",
        "def isim():\n",
        "    isim=input(\"isim : \")\n",
        "    print(isim)\n",
        "isim()"
      ],
      "execution_count": null,
      "outputs": []
    },
    {
      "cell_type": "markdown",
      "metadata": {
        "id": "6FqoldDGcQPH"
      },
      "source": [
        "Bu fonksiyonumuzu çağırdığımız zaman bizim için girilen ismi ekrana basacaktır. Ancak bu bilgiyi başka yerde kullanamayız. Yani bu fonksiyonumuzun tek görevi girilen ismi ekrana basmaktır. Bazen biz fonksiyonumuzun tek görevinin ekrana yazı yazdırma olmasını istemeyebiliriz. Örneğin yukarıda ki ismi başka bir yerde kullanmak isteyebiliriz"
      ]
    },
    {
      "cell_type": "code",
      "metadata": {
        "id": "aAfIoXbxcQPH"
      },
      "source": [
        "print(f\"Merhaba {isim()}, nasılsın\")"
      ],
      "execution_count": null,
      "outputs": []
    },
    {
      "cell_type": "markdown",
      "metadata": {
        "id": "RRTonlnFcQPH"
      },
      "source": [
        "Görüldüğü üzere fonksiyon yine kendi işlemi olan ekrana yazdırmayı yaptı (2.satır). Ancak başka bir karakter dizisinde kullanmay kalktığımızda beklemediğimiz bir sonuç aldık(None). Şimdi fonksiyonumuzda biraz değişiklik yapalım"
      ]
    },
    {
      "cell_type": "code",
      "metadata": {
        "id": "ule18P_CcQPI"
      },
      "source": [
        "def isim():\n",
        "    isim=input(\"isim : \")\n",
        "    return isim\n",
        "isim()\n",
        "print()"
      ],
      "execution_count": null,
      "outputs": []
    },
    {
      "cell_type": "markdown",
      "metadata": {
        "id": "Fnp4uf_RcQPI"
      },
      "source": [
        "Gördüğünüz gibi fonksiyonu çağırdığımızda yalnızca input kısmı çalıştı daha sonra hiç bir değer ekrana yazılmadı. Bunun sebebi biz isim değişkenini ekrana yazdırmak yerine 'döndürdük'\n",
        "\n",
        "Yani yukarıda yaptığımız işlem şudur; return deyiminin yaptığı iş sayesinde fonksiyonumuz bize bir değer döndürdü. Yani biz bu sayede fonksiyondan dönen değeri istediğimiz her yerde kullanabiliriz"
      ]
    },
    {
      "cell_type": "code",
      "metadata": {
        "id": "a2N7ONA7cQPI"
      },
      "source": [
        "print(f\"Merhaba {isim()}, nasılsın\")"
      ],
      "execution_count": null,
      "outputs": []
    },
    {
      "cell_type": "markdown",
      "metadata": {
        "id": "-SZ6CDUqcQPI"
      },
      "source": [
        "Gördüğünüz üzere burada None gibi bir ifadeyle karşılaşmadık. Yukarıda None olmasının sebebi python fonksiyonundan bir değer dönmediği halde biz onu başka yerde kullanmaya çalışırsak Python kendisi None değer yolluyor ve o fonksiyonun geriye bir değer döndürmediğini anlamamızı sağlıyor"
      ]
    },
    {
      "cell_type": "code",
      "metadata": {
        "id": "P2MSMCWDcQPI"
      },
      "source": [
        "#return deyimini kullandığımız fonksiyonları bir değişkene atayabiliriz. Bu şekilde fonksiyondan dönen değeri değişken olarak kullanabiliriz\n",
        "\n",
        "ad=isim()\n",
        "print(ad)"
      ],
      "execution_count": null,
      "outputs": []
    },
    {
      "cell_type": "markdown",
      "metadata": {
        "id": "X7vDAdJlcQPJ"
      },
      "source": [
        "Dikkat edilmesi gereken bir diğer noktada fonksiyon tanımlanırken return deyiminden sonra o fonksiyonun çalışması sona erer. Bir örnek ile açıklayalım"
      ]
    },
    {
      "cell_type": "code",
      "metadata": {
        "id": "11dYqlh0cQPJ"
      },
      "source": [
        "def kontrol(n):\n",
        "    if n<0:\n",
        "        return 'negatif'\n",
        "    else:\n",
        "        return 'pozitif'\n",
        "s=kontrol(12)\n",
        "print(s)"
      ],
      "execution_count": null,
      "outputs": []
    },
    {
      "cell_type": "code",
      "metadata": {
        "id": "yGIXBnX_cQPJ"
      },
      "source": [
        "#verilen listedeki değerleri harfler ve sayılar olarak döndüren bir fonksiyon yazalım\n",
        "\n",
        "def ayrac(*args):\n",
        "    kelimeler=[]\n",
        "    sayılar=[]\n",
        "    \n",
        "    for i in args:\n",
        "        if type(i)==int or type(i)==float:\n",
        "            sayılar.append(i)\n",
        "        else:\n",
        "            kelimeler.append(i)\n",
        "            \n",
        "    return kelimeler,sayılar\n",
        "\n",
        "kelimeler,sayılar=ayrac(1,'araba','ev',3,5,'istanbul','dsc',2.5)\n",
        "print(kelimeler)\n",
        "print(sayılar)\n"
      ],
      "execution_count": null,
      "outputs": []
    },
    {
      "cell_type": "markdown",
      "metadata": {
        "id": "8FoTltOScQPJ"
      },
      "source": [
        "### Fonksiyonların Kapsamı ve global deyimi"
      ]
    },
    {
      "cell_type": "code",
      "metadata": {
        "id": "-_PqqEQAcQPJ"
      },
      "source": [
        "x = 0\n",
        "\n",
        "def fonk():\n",
        "    x = 1\n",
        "    return x\n",
        "\n",
        "#elimizde böyle bir kod var. fonksiyon içindeki x fonksiyon dışındaki ni etkiler mi ? "
      ],
      "execution_count": null,
      "outputs": []
    },
    {
      "cell_type": "code",
      "metadata": {
        "id": "c0o_GLrocQPK"
      },
      "source": [
        "print('fonksiyon içindeki x: ', fonk())\n",
        "print('fonksiyon dışındaki x: ', x)"
      ],
      "execution_count": null,
      "outputs": []
    },
    {
      "cell_type": "markdown",
      "metadata": {
        "id": "Yo78eeYBcQPK"
      },
      "source": [
        "Görüldüğü üzere fonksiyon içindeki x dışarıyı etkilemedi. Bunun sebebi Python'daki namespace(isim alanı) kavramıdır.\n",
        "Peki isim alanı nedir. Değişkenlerin, fonksiyonların ve sonraki konularda göreceğimiz sınıfların birer kapsama alanı vardır. Buna namespace denir. Dolayısıyla Pythonda her nesnenin geçerli ve etkin olduğu bir alan vardır. Mesela yukarıda ki fonksiyonumuzun dışındaki x ana namespace alanında yer alan global bir değişkendir. Fonksiyonun içinde ki x ise fonk() isim alanı içinde yer alan local bir değişkendir. isimleri aynı olsada isim alanları farklı olduğunda farklı birer değişkenlerdir"
      ]
    },
    {
      "cell_type": "code",
      "metadata": {
        "id": "96ph6oP8cQPK"
      },
      "source": [
        "x = []\n",
        "print('x\\'in ilk hali:', x)\n",
        "\n",
        "def değiştir():\n",
        "    print('x\\'i değiştiriyoruz...')\n",
        "    x.append(1)\n",
        "    return x\n",
        "\n",
        "değiştir()\n",
        "print('x\\'in son hali: ', x)"
      ],
      "execution_count": null,
      "outputs": []
    },
    {
      "cell_type": "markdown",
      "metadata": {
        "id": "BxeLMoTlcQPK"
      },
      "source": [
        "fonksiyon içinde ki x'e yapılan değişiklik genel olarak bir değişime sebep oldu. Yukarda bunun tam tersini söylemiştik bunun sebebi nedir acaba ? Pythonda herhangi bir nesneye gönderme yaptığımızda öncelikle nesneyi mevcut isim alanında arar. Eğer aranan nesne mevcut isim alanında yok ise yukarı doğru tüm isim alanlarını kontrol eder"
      ]
    },
    {
      "cell_type": "markdown",
      "metadata": {
        "id": "JUVzdAQEcQPK"
      },
      "source": [
        "Karakter dizileri gibi değiştirilemeyen dizileri, local isim alanlarında değiştiremiceğiniz gibi yeniden tanımlayamazsınızda. Aynı kural değiştirilebilir nesneler içinde geçerlidir. Bunu Örnek üzerinde inceleyelim\n",
        "Not : Tanımlamak ve yeniden tanımlamak farklı şeylerdir"
      ]
    },
    {
      "cell_type": "code",
      "metadata": {
        "id": "J34Le5UYcQPK"
      },
      "source": [
        "isim_listesi = []\n",
        "\n",
        "def fonk():\n",
        "    isim_listesi += ['Fırat Özgül', 'Orçun Kunek']   #+= yerinde sadece = koyarsak hata vermez\n",
        "    return isim_listesi\n",
        "\n",
        "print(fonk())"
      ],
      "execution_count": null,
      "outputs": []
    },
    {
      "cell_type": "markdown",
      "metadata": {
        "id": "JDp6m-KDcQPL"
      },
      "source": [
        "Yukarıda bahsettiğimiz kural burda geçerli. İsim listesi daha önceden global isim alanında tanımlanmıştı. Ancak local isim alanında aynı değişken tekrar tanımlanmaya çalıştığı için hata verdi. isim_listesi = ['Fırat Özgül', 'Orçun Kunek'] şeklinde bir tanımlama yapmış olsaydık hata almayacaktık. Çünkü local isim alanında hiç var olmayan bir değişken tanımlamış oluyoruz"
      ]
    },
    {
      "cell_type": "markdown",
      "metadata": {
        "id": "Q4FNWID_cQPL"
      },
      "source": [
        "##### Bu bahsettiğimiz hatayı çözmenin bir yolu mevcut. o da global deyimi. Örnek üstünde görelim"
      ]
    },
    {
      "cell_type": "code",
      "metadata": {
        "id": "-Uc6_FyhcQPL"
      },
      "source": [
        "isim_listesi = []\n",
        "\n",
        "def fonk():\n",
        "    global isim_listesi\n",
        "    isim_listesi += ['Fırat Özgül', 'Orçun Kunek']   \n",
        "    return isim_listesi\n",
        "\n",
        "print(fonk())"
      ],
      "execution_count": null,
      "outputs": []
    },
    {
      "cell_type": "markdown",
      "metadata": {
        "id": "noSISGgXcQPL"
      },
      "source": [
        "Burada kullandığımız global değimi isim_listesi değişkeninin global alana taşınmasını sağlıyor. Bu sayede üzerinde değişiklik yapabiliyoruz. Ancak bu deyimi kullanırken dikkatli olmalıyız. Eğer dikkatsiz kullanırsak programımızın hatalı çalışmasına yol açabilir"
      ]
    },
    {
      "cell_type": "markdown",
      "metadata": {
        "id": "pav5uyPwcQPL"
      },
      "source": [
        "#### Pythondaki bazı gömülü fonksiyonlar"
      ]
    },
    {
      "cell_type": "code",
      "metadata": {
        "id": "n-CAQzvOcQPM"
      },
      "source": [
        "# 1- all()\n",
        "'''Türkçede hepsi anlamına gelir. Bu fonksiyonun görevi bir dizi içindeki bütün değerler True ise true, eğer bir tane bile\n",
        "false değeri varsa false değeri döndürür'''\n",
        "\n",
        "sayılar=[1,2,3,4,5]\n",
        "print(all(sayılar))\n",
        "\n",
        "#NOT : 0 hariç tüm sayıların boolen karşılığı True\n",
        "\n",
        "sayılar2=[0,1,2,3]\n",
        "print(all(sayılar2))"
      ],
      "execution_count": null,
      "outputs": []
    },
    {
      "cell_type": "code",
      "metadata": {
        "id": "uK4UaXEJcQPM"
      },
      "source": [
        "isimler=['Onur','yılmaz']\n",
        "print(all(isimler))\n",
        "\n",
        "isimler2=['onur','']   #hiç bir şey yazmazsak False olur. Ancak boşluk karakteri True değerlidir\n",
        "print(all(isimler2))"
      ],
      "execution_count": null,
      "outputs": []
    },
    {
      "cell_type": "code",
      "metadata": {
        "id": "XZyX2-Q-cQPM"
      },
      "source": [
        "#2- any()\n",
        "\"\"\"Dizideki tüm değerler False ise false değeri döner. Her hangi biri True ise true döner\"\"\"\n",
        "sayılar=[1,'']\n",
        "print(any(sayılar))"
      ],
      "execution_count": null,
      "outputs": []
    },
    {
      "cell_type": "code",
      "metadata": {
        "id": "hwGjlSQrcQPM"
      },
      "source": [
        "x = ['', 0, [], (), dict()]  #içi boş veri tiplerinin bool değeri false dır\n",
        "any(x)"
      ],
      "execution_count": null,
      "outputs": []
    },
    {
      "cell_type": "code",
      "metadata": {
        "id": "yBZqWbYzcQPM"
      },
      "source": [
        "#3- filter()\n",
        "'''Dizi niteliğindeki nesneler içerisinde filtreleme işlemi uygulayabiliriz.'''\n",
        "\n",
        "sayılar=[10,24,654,213,455,23,875,23,67,34,12,76,342]\n",
        "#tek sayıları bu listeden ayırmak istiyoruz\n",
        "\n",
        "def tek(sayı):\n",
        "    return sayı %2 == 1\n",
        "print(*filter(tek,sayılar))      #bu iki işlemini yapmamızın sebebi filter bize bir nesne döndürüyor. \n",
        "print(list(filter(tek,sayılar)))   #ama sayıları ekrana yazdırmak için bu iki yöntemden birini yapmalıyız"
      ],
      "execution_count": null,
      "outputs": []
    },
    {
      "cell_type": "markdown",
      "metadata": {
        "id": "j7nOJ-kVcQPN"
      },
      "source": [
        "Filter fonksiyonu iki parametre alır. Bunlardan birincisi filtreleme işlemini belirleyen fonksiyondur. İkinciside filtreleme işleminin yapılacağı ögedir."
      ]
    },
    {
      "cell_type": "code",
      "metadata": {
        "id": "L0Ts9Z_AcQPN"
      },
      "source": [
        "#Filter fonksiyonunu kullanırken * koymasaydık bize bir nesne döndürecekti. Biz ekrana yazdırmak istediğimiz için\n",
        "#* kullanıdk\n",
        "\n",
        "print(filter(tek,sayılar))"
      ],
      "execution_count": null,
      "outputs": []
    },
    {
      "cell_type": "code",
      "metadata": {
        "id": "hw1UgLCTcQPN"
      },
      "source": [
        "notlar ={'kasım':50,\n",
        "        'ahmet':25,\n",
        "        'rabia':75,\n",
        "        'ayşe':100}\n",
        "\n",
        "def filtre(n):\n",
        "    return n>=70\n",
        "\n",
        "print(*filter(filtre,notlar.values()))\n",
        "    "
      ],
      "execution_count": null,
      "outputs": []
    },
    {
      "cell_type": "code",
      "metadata": {
        "id": "cCcMyLW9cQPN"
      },
      "source": [
        "#4- map()\n",
        "'''map fonksiyonunu istediğimiz verileri belirli bir işlem yaptırmak istediğimizde kullanırız'''\n",
        "\n",
        "sayılar=[1,2,3,4,5,6,8]\n",
        "\n",
        "def kare(n):\n",
        "    return n**2\n",
        "print(list(map(kare,sayılar)))"
      ],
      "execution_count": null,
      "outputs": []
    },
    {
      "cell_type": "code",
      "metadata": {
        "id": "xxe7xC5WcQPN"
      },
      "source": [
        "#5- zip()\n",
        "\n",
        "list1=['a','b','c']\n",
        "list2=['d','e','f']\n",
        "\n",
        "#listelerin elemanlarını birbirleriyle eşleştirmek istiyorsak zip fonksiyonu kullanırız.\n",
        "print(*zip(list1,list2))"
      ],
      "execution_count": null,
      "outputs": []
    },
    {
      "cell_type": "code",
      "metadata": {
        "id": "KVpK5c_ycQPN"
      },
      "source": [
        "isimler=['Onur','Yıldırım','Ebru']\n",
        "yaslar=['20','24','27']\n",
        "\n",
        "for i,y in zip(isimler,yaslar):\n",
        "    print(f'{i} {y} yasında')"
      ],
      "execution_count": null,
      "outputs": []
    },
    {
      "cell_type": "markdown",
      "metadata": {
        "id": "-BpmcKjDcQPO"
      },
      "source": [
        "### Lambda fonksiyonları"
      ]
    },
    {
      "cell_type": "markdown",
      "metadata": {
        "id": "E8_lUBkwcQPO"
      },
      "source": [
        "işlevsellik açısından daha kullanışlı olan, def gibi daha çok alan kaplamayan tek satırda kolayca fonksiyon tanımlamamıza yarayan fonksiyonlardır. Örnek üzerinde inceleyelim"
      ]
    },
    {
      "cell_type": "code",
      "metadata": {
        "id": "5aaeZFpfcQPO"
      },
      "source": [
        "#Örneğin kare alma fonksiyonundan ilerleyelim\n",
        "\n",
        "def kareAl(n):\n",
        "    return n**2\n",
        "\n",
        "liste=[1,3,5,7,9]\n",
        "\n",
        "print(list(map(kareAl,liste)))"
      ],
      "execution_count": null,
      "outputs": []
    },
    {
      "cell_type": "code",
      "metadata": {
        "id": "AktXpiX3cQPO"
      },
      "source": [
        "#Ancak biz kare alma işlemini bir kez gerçekleştireceksek eğer ismi olman fonksiyon tanımlayabilirz\n",
        "# Bu fonksiyonlara lambda fonksiyonları denilmektedir"
      ],
      "execution_count": null,
      "outputs": []
    },
    {
      "cell_type": "code",
      "metadata": {
        "id": "uOD5CjlAcQPO"
      },
      "source": [
        "result= list(map(lambda n : n**2,liste))\n",
        "print(result)"
      ],
      "execution_count": null,
      "outputs": []
    },
    {
      "cell_type": "code",
      "metadata": {
        "id": "mnDnowstcQPO"
      },
      "source": [
        "#lambda fonksiyonunu normal fonksiyon gibi kullanmak istersek eğer bir isim verip aynı şekilde kullanabiliriz\n",
        "\n",
        "squared=lambda n : n**2\n"
      ],
      "execution_count": null,
      "outputs": []
    },
    {
      "cell_type": "code",
      "metadata": {
        "scrolled": true,
        "id": "NcMeO8AbcQPO"
      },
      "source": [
        "print(squared(3))"
      ],
      "execution_count": null,
      "outputs": []
    },
    {
      "cell_type": "code",
      "metadata": {
        "id": "m-CRf6V0cQPO"
      },
      "source": [
        "#lambda fonksiyonlarına fonksiyonda yollayabiliriz\n",
        "\n",
        "fonk= lambda x, func : x + func(x)"
      ],
      "execution_count": null,
      "outputs": []
    },
    {
      "cell_type": "code",
      "metadata": {
        "id": "l5wnBYxScQPP"
      },
      "source": [
        "print(fonk(3,lambda x : x**3))"
      ],
      "execution_count": null,
      "outputs": []
    },
    {
      "cell_type": "code",
      "metadata": {
        "id": "tgosWcTPcQPP"
      },
      "source": [
        "#Matematikteki denklemleri lambda fonksiyonları ile yazabilirsiniz\n",
        "\n",
        "a = lambda x,y : x**2 + 3*x*y + 4*y\n",
        "print(a(2,7))"
      ],
      "execution_count": null,
      "outputs": []
    },
    {
      "cell_type": "markdown",
      "metadata": {
        "id": "UKpXXfmW6HDW"
      },
      "source": [
        "## ***Nesne Yönelimli Programlama(OOP)***"
      ]
    },
    {
      "cell_type": "code",
      "metadata": {
        "id": "bnVF62c1cQPP"
      },
      "source": [
        "class Yazılımcı():\r\n",
        "    \r\n",
        "    def __init__(self,isim,soyisim,numara,maaş,diller):\r\n",
        "        self.isim = isim\r\n",
        "        self.soyisim = soyisim\r\n",
        "        self.numara = numara    # Yazılımcı objelerinin özellikleri \r\n",
        "        self.maaş = maaş\r\n",
        "        self.diller = diller\r\n",
        "    def bilgilerigöster(self):\r\n",
        "        print(\"\"\"\r\n",
        "        Çalışan Bilgisi:\r\n",
        "        \r\n",
        "        İsim :  {}\r\n",
        "        \r\n",
        "        Soyisim : {}\r\n",
        "        \r\n",
        "        Şirket Numarası: {}\r\n",
        "        \r\n",
        "        Maaş :  {}\r\n",
        "        \r\n",
        "        Diller: {}\r\n",
        "        \"\"\".format(self.isim,self.soyisim,self.numara,self.maaş,self.diller))\r\n",
        " \r\n",
        "yazılımcı1 =  Yazılımcı(\"Mustafa Murat\",\"Coşkun\",12345,3000,[\"Python\",\"C\",\"Java\"])\r\n",
        " \r\n",
        "yazılımcı1.bilgilerigöster()"
      ],
      "execution_count": null,
      "outputs": []
    },
    {
      "cell_type": "code",
      "metadata": {
        "id": "eu10vocq6EFH"
      },
      "source": [
        "class Yazılımcı():\r\n",
        "    \r\n",
        "    def __init__(self,isim,soyisim,numara,maaş,diller):\r\n",
        "        self.isim = isim\r\n",
        "        self.soyisim = soyisim\r\n",
        "        self.numara = numara    # Yazılımcı objelerinin özellikleri \r\n",
        "        self.maaş = maaş\r\n",
        "        self.diller = diller\r\n",
        "    def bilgilerigöster(self):\r\n",
        "        print(\"\"\"\r\n",
        "        Çalışan Bilgisi:\r\n",
        "        \r\n",
        "        İsim :  {}\r\n",
        "        \r\n",
        "        Soyisim : {}\r\n",
        "        \r\n",
        "        Şirket Numarası: {}\r\n",
        "        \r\n",
        "        Maaş :  {}\r\n",
        "        \r\n",
        "        Diller: {}\r\n",
        "        \"\"\".format(self.isim,self.soyisim,self.numara,self.maaş,self.diller))\r\n",
        "    def dil_ekle(self,yeni_dil):\r\n",
        "        print(\"Dil ekleniyor.\")\r\n",
        "        self.diller.append(yeni_dil)\r\n",
        "    def maas_yukselt(self,zam_miktarı):\r\n",
        "        print(\"Maaş yükseliyor...\")\r\n",
        "        \r\n",
        "        self.maaş += 250\r\n",
        " \r\n",
        "yazılımcı1 =  Yazılımcı(\"Mustafa Murat\",\"Coşkun\",12345,3000,[\"Python\",\"C\",\"Java\"])\r\n",
        "yazılımcı1.bilgilerigöster()\r\n",
        " "
      ],
      "execution_count": null,
      "outputs": []
    },
    {
      "cell_type": "code",
      "metadata": {
        "id": "o8gb5sDs6mq5"
      },
      "source": [
        "yazılımcı1.maas_yukselt(500)\r\n",
        " \r\n",
        "yazılımcı1.bilgilerigöster()"
      ],
      "execution_count": null,
      "outputs": []
    },
    {
      "cell_type": "code",
      "metadata": {
        "id": "dvHhoNjw6wRI"
      },
      "source": [
        "yazılımcı1.dil_ekle(\"Javascript\")\r\n",
        "\r\n",
        "yazılımcı1.bilgilerigöster()"
      ],
      "execution_count": null,
      "outputs": []
    },
    {
      "cell_type": "code",
      "metadata": {
        "id": "xFKGV5168XC4"
      },
      "source": [
        ""
      ],
      "execution_count": null,
      "outputs": []
    },
    {
      "cell_type": "markdown",
      "metadata": {
        "id": "y0sBWfEK_cCv"
      },
      "source": [
        "# *Class(OOP)*"
      ]
    },
    {
      "cell_type": "code",
      "metadata": {
        "id": "4zgrLZbr_cC2"
      },
      "source": [
        "c1 = [\"s1\", 4]      #(ismi,yarıçapı)"
      ],
      "execution_count": null,
      "outputs": []
    },
    {
      "cell_type": "code",
      "metadata": {
        "id": "Wy7WAcZ9_cC3"
      },
      "source": [
        "c1[1]"
      ],
      "execution_count": null,
      "outputs": []
    },
    {
      "cell_type": "code",
      "metadata": {
        "id": "u27NsSTM_cC4"
      },
      "source": [
        "3.14 * c1[1] * c1[1]   #dairenin alanını bulduk "
      ],
      "execution_count": null,
      "outputs": []
    },
    {
      "cell_type": "code",
      "metadata": {
        "id": "dZPuS6p3_cC4"
      },
      "source": [
        "c1[0] = \"s2\"       #ismini değiştik"
      ],
      "execution_count": null,
      "outputs": []
    },
    {
      "cell_type": "code",
      "metadata": {
        "id": "v2slmXU7_cC5"
      },
      "source": [
        "\"\"\" Mesala bunları ard arda 1000 kere yapmak istersek her şey için farklı farklı yöntemler kullanmak zorunda olucaz.\n",
        "bunları yapabilmek için biz bir nesne tanımlamalıyız.\n",
        "nesne : daire tanımlamak lazım.\n",
        "sınıflar nesne üretmemizi sağlayan veri tipleridir.\n",
        "1 kere daire nesnesini yarattığımız zaman diğer tüm\n",
        "dairlerimiz için bu nesneyi kullanıp istediğimiz işlemleri kolay bir şekilde yapabilicez.\"\"\""
      ],
      "execution_count": null,
      "outputs": []
    },
    {
      "cell_type": "code",
      "metadata": {
        "id": "qW5k2Rot_cC5"
      },
      "source": [
        "#self1: anahtar sözcüğü kullanarak sınıfın methodlarına python ile erişebilir.\n",
        "#toString içine self yazarsak toStringi Circle classına bağlar.\n",
        "class Circle():\n",
        "    #böyle yaparak pi değerini tüm Circle içerisinde erişebilirz.\n",
        "    global pi \n",
        "    pi=3.14\n",
        "    \n",
        "    #constructor: (yani bir dairenin temeldeki özelliklerini,temel niteliklerini tanımlamak)\n",
        "    #clasların içinde kullandığımız fonk. method olarak adlandırırız.\n",
        "    def __init__(self,name,r):\n",
        "        self.class_name=name   #self sözcüğü ile Circle classına bağlamış oldu.\n",
        "        self.class_r=r\n",
        "#dairenin içindeki claslara erişmek için\n",
        "    def toString(self):            \n",
        "        print(self.class_name)\n",
        "        print(self.class_r)\n",
        "        \n",
        "#dairemizin alanını bulmak için\n",
        "    def findArea(self):  \n",
        "        area=pi*self.class_r*self.class_r  \n",
        "        print(self.area)\n",
        "        \n",
        "#class_name ismini değiştirmek için buraya \"name\" input olarak girdik.\n",
        "    def setName(self,name): \n",
        "        self.class_name=name \n",
        "\n",
        "#class_name değiştikten sonra ne olduğuna bakmak için\n",
        "    def getName(self):  \n",
        "        print(self.class_name)\n",
        "        return self.class_name\n",
        "\n",
        "#bir tane method yazdık ve içeriğine daha karar vermedik pass yazarsak hiçbir hata çıkmıcak.\n",
        "    def emp(self): \n",
        "        pass\n",
        "   "
      ],
      "execution_count": 2,
      "outputs": []
    },
    {
      "cell_type": "code",
      "metadata": {
        "id": "lPdi63K8_cC6"
      },
      "source": [
        "#bir obje tanımladık.\n",
        "c1 = Circle(\"s1\",2)"
      ],
      "execution_count": 3,
      "outputs": []
    },
    {
      "cell_type": "code",
      "metadata": {
        "id": "lLUoD2o5_cC6"
      },
      "source": [
        "c1.toString()"
      ],
      "execution_count": null,
      "outputs": []
    },
    {
      "cell_type": "code",
      "metadata": {
        "id": "q7PkQEoB_cC6"
      },
      "source": [
        "c1.findArea()"
      ],
      "execution_count": null,
      "outputs": []
    },
    {
      "cell_type": "code",
      "metadata": {
        "id": "f25wyf88_cC7"
      },
      "source": [
        "c1.setName(\"s2\")      #class_name isnini s2 olarak değiştik\n",
        "name=c1.getName()     #o ismi tekrardan çekip name isimli parametreye eşitliyorum."
      ],
      "execution_count": null,
      "outputs": []
    },
    {
      "cell_type": "markdown",
      "metadata": {
        "id": "7aD93RyU_cC8"
      },
      "source": [
        "## *PYTHON PAKETLERİ*"
      ]
    },
    {
      "cell_type": "markdown",
      "metadata": {
        "id": "x0WqtBkg_cC8"
      },
      "source": [
        "* ***module<package<library***\n",
        "* ***birden fazla modül bir araya gelirse package oluşur***"
      ]
    },
    {
      "cell_type": "code",
      "metadata": {
        "id": "_c_pSl9y_cC9"
      },
      "source": [
        "import numpy # modül\n",
        "# matematiksel işlemler için\n",
        "a = numpy.array([1, 2, 3])\n",
        "a"
      ],
      "execution_count": null,
      "outputs": []
    },
    {
      "cell_type": "code",
      "metadata": {
        "id": "u_EaHxJW_cC9"
      },
      "source": [
        "numpy.mean(a)  # ortalama aldık"
      ],
      "execution_count": null,
      "outputs": []
    },
    {
      "cell_type": "code",
      "metadata": {
        "id": "0Czd5rO7_cC9"
      },
      "source": [
        "c = numpy.random.randint(3) # rastgele 3'e kadar bir sayı verdi\n",
        "c"
      ],
      "execution_count": null,
      "outputs": []
    },
    {
      "cell_type": "code",
      "metadata": {
        "id": "9vG75lJu_cC-"
      },
      "source": [
        "# numpyı bölüm bölüm import "
      ],
      "execution_count": null,
      "outputs": []
    },
    {
      "cell_type": "code",
      "metadata": {
        "id": "RyIqmbIR_cC-"
      },
      "source": [
        "from numpy import random"
      ],
      "execution_count": null,
      "outputs": []
    },
    {
      "cell_type": "code",
      "metadata": {
        "id": "c0BO8Ytw_cC-"
      },
      "source": [
        "import numpy as np\n",
        "# numpy modülünü import et np kısaltmasıyla kullan\n",
        "a = np.array([1, 2, 3])\n",
        "a"
      ],
      "execution_count": null,
      "outputs": []
    },
    {
      "cell_type": "markdown",
      "metadata": {
        "id": "ZkE1C5Aw_cC-"
      },
      "source": [
        "## *NUMPY*"
      ]
    },
    {
      "cell_type": "code",
      "metadata": {
        "id": "ijx5qBuV_cC_"
      },
      "source": [
        "# çok boyutlu diziler ve matrislerle yapılan matematiksel işlemlerde kullanılır.\n",
        "# çok hızlıdır."
      ],
      "execution_count": null,
      "outputs": []
    },
    {
      "cell_type": "code",
      "metadata": {
        "id": "U2d2rM4-_cC_"
      },
      "source": [
        "import numpy as np\n",
        "arr = np.array([[1, 2 ,3], [4, 5, 6]])  #2 boyutlu array oluştu\n",
        "arr.shape                          # boyutuna baktık 2 satır 3 sutün"
      ],
      "execution_count": null,
      "outputs": []
    },
    {
      "cell_type": "code",
      "metadata": {
        "id": "C_i0sN0v_cC_"
      },
      "source": [
        "type(arr)"
      ],
      "execution_count": null,
      "outputs": []
    },
    {
      "cell_type": "code",
      "metadata": {
        "id": "KrS-55ra_cC_"
      },
      "source": [
        "arr.ndim   #2 boyutlu"
      ],
      "execution_count": null,
      "outputs": []
    },
    {
      "cell_type": "code",
      "metadata": {
        "id": "_9SMmsS1_cDA"
      },
      "source": [
        "arr.size   # eleman sayısıarr"
      ],
      "execution_count": null,
      "outputs": []
    },
    {
      "cell_type": "code",
      "metadata": {
        "id": "TE71N0Hn_cDA"
      },
      "source": [
        "arr.dtype  # intlerden oluşan bir array"
      ],
      "execution_count": null,
      "outputs": []
    },
    {
      "cell_type": "markdown",
      "metadata": {
        "id": "hEb3X4NW_cDA"
      },
      "source": [
        "* ***indexing***"
      ]
    },
    {
      "cell_type": "code",
      "metadata": {
        "id": "6zaTWHe0_cDA"
      },
      "source": [
        "arr[0, 0]"
      ],
      "execution_count": null,
      "outputs": []
    },
    {
      "cell_type": "code",
      "metadata": {
        "id": "sH7otXct_cDB"
      },
      "source": [
        "arr[1, 1]"
      ],
      "execution_count": null,
      "outputs": []
    },
    {
      "cell_type": "code",
      "metadata": {
        "id": "AKOYVe3x_cDB"
      },
      "source": [
        "arr[1, -1]    #en sonuncu satırı verdi"
      ],
      "execution_count": null,
      "outputs": []
    },
    {
      "cell_type": "code",
      "metadata": {
        "id": "3GMdT2Ol_cDB"
      },
      "source": [
        "arr[1, :]     #1.satırdaki tüm sutunları yazdırdı"
      ],
      "execution_count": null,
      "outputs": []
    },
    {
      "cell_type": "markdown",
      "metadata": {
        "id": "ndTg_e5n_cDB"
      },
      "source": [
        "* ***Math***"
      ]
    },
    {
      "cell_type": "code",
      "metadata": {
        "id": "FQvMympB_cDC"
      },
      "source": [
        "a = np.array([1, 2, 3, 4, 5])    #tek boyutlu vektör\n",
        "a+1"
      ],
      "execution_count": null,
      "outputs": []
    },
    {
      "cell_type": "code",
      "metadata": {
        "id": "-iu94nKf_cDC"
      },
      "source": [
        "a-3"
      ],
      "execution_count": null,
      "outputs": []
    },
    {
      "cell_type": "code",
      "metadata": {
        "id": "zbo4aYe7_cDC"
      },
      "source": [
        "a*3"
      ],
      "execution_count": null,
      "outputs": []
    },
    {
      "cell_type": "code",
      "metadata": {
        "id": "G2GhgIng_cDC"
      },
      "source": [
        "a**2 \n",
        "#karesi"
      ],
      "execution_count": null,
      "outputs": []
    },
    {
      "cell_type": "markdown",
      "metadata": {
        "id": "pOx1CKmQ_cDC"
      },
      "source": [
        "* ***mean, max, std***"
      ]
    },
    {
      "cell_type": "code",
      "metadata": {
        "id": "uTqXAjk7_cDD"
      },
      "source": [
        "a = np.array([1, 2, 3, 4, 5])\n",
        "np.mean(a)"
      ],
      "execution_count": null,
      "outputs": []
    },
    {
      "cell_type": "code",
      "metadata": {
        "id": "LgS1xzCX_cDD"
      },
      "source": [
        "np.std(a)   #standart sapması"
      ],
      "execution_count": null,
      "outputs": []
    },
    {
      "cell_type": "code",
      "metadata": {
        "id": "wenIZXW4_cDD"
      },
      "source": [
        "np.max(a) "
      ],
      "execution_count": null,
      "outputs": []
    },
    {
      "cell_type": "code",
      "metadata": {
        "id": "Bw1Dpnw5_cDD"
      },
      "source": [
        "np.min(a)"
      ],
      "execution_count": null,
      "outputs": []
    },
    {
      "cell_type": "markdown",
      "metadata": {
        "id": "plxi6Noc_cDD"
      },
      "source": [
        "* ***create array***"
      ]
    },
    {
      "cell_type": "code",
      "metadata": {
        "id": "t0dBgVap_cDE"
      },
      "source": [
        "#kendimiz yazamıcağımz kadar büyük bir array oluşturmak istersek;"
      ],
      "execution_count": null,
      "outputs": []
    },
    {
      "cell_type": "code",
      "metadata": {
        "id": "Jder4eVg_cDE"
      },
      "source": [
        "g = np.arange(1, 100)"
      ],
      "execution_count": null,
      "outputs": []
    },
    {
      "cell_type": "code",
      "metadata": {
        "id": "JVMZKoYA_cDE"
      },
      "source": [
        "g"
      ],
      "execution_count": null,
      "outputs": []
    },
    {
      "cell_type": "code",
      "metadata": {
        "id": "0-Bwfe81_cDE"
      },
      "source": [
        "g2 = g.reshape((3, -1))  \n",
        "g2 \n",
        "#-1 koyarsak 3 tane satır yap geri kalan değerleride bu 3 satıra göre kaç tane sutün gerekiyorsa ona göre ayarla\n",
        "#matrix oluşuyor"
      ],
      "execution_count": null,
      "outputs": []
    },
    {
      "cell_type": "markdown",
      "metadata": {
        "id": "a2vnW9iY_cDE"
      },
      "source": [
        "* ***allacotion***"
      ]
    },
    {
      "cell_type": "code",
      "metadata": {
        "id": "db60rA1r_cDF"
      },
      "source": [
        "\"\"\"sayılardan oluşan bir array oluşturmak için yer ayırtmak istiyorum.\n",
        "yani ben bir tane kocaman bir matrix yapıcam bu matrix sıfırlardan oluşucak \n",
        "ilerleyen zamanlarda algoritmamda belli başlı değerler çıktıkça bu sıfırlara\n",
        "yerini değiştircek uygun olan yere yeni değerler gelicek\"\"\""
      ],
      "execution_count": null,
      "outputs": []
    },
    {
      "cell_type": "code",
      "metadata": {
        "id": "L1WLBO53_cDF"
      },
      "source": [
        "z = np.zeros([5, 5])\n",
        "z"
      ],
      "execution_count": null,
      "outputs": []
    },
    {
      "cell_type": "code",
      "metadata": {
        "id": "WawZ-Gjs_cDF"
      },
      "source": [
        "z[2,1] = 5   #rezervasyon yapıldı."
      ],
      "execution_count": null,
      "outputs": []
    },
    {
      "cell_type": "code",
      "metadata": {
        "id": "Do7DhmOB_cDF"
      },
      "source": [
        "z"
      ],
      "execution_count": null,
      "outputs": []
    },
    {
      "cell_type": "code",
      "metadata": {
        "id": "09J0lQBY_cDG"
      },
      "source": [
        "liste = []\n",
        "liste.append(5) \n",
        "#böylede yapılırdı ama bu gidip 5 sayısını listenin en sonuna ekleyeceği için bu yavaşlatıyor.\n",
        "#bu yüzden rezervasyon yaptırmam gerekiyor."
      ],
      "execution_count": null,
      "outputs": []
    },
    {
      "cell_type": "markdown",
      "metadata": {
        "id": "seuYx9Ug_cDG"
      },
      "source": [
        "* ***Concat***"
      ]
    },
    {
      "cell_type": "code",
      "metadata": {
        "id": "bUPJ_80p_cDG"
      },
      "source": [
        "#birleştirme işlemi yapar."
      ],
      "execution_count": null,
      "outputs": []
    },
    {
      "cell_type": "code",
      "metadata": {
        "id": "Jf_ZVFpl_cDG"
      },
      "source": [
        "x = np.array([1, 2, 3])\n",
        "y = np.array([3, 2, 1])"
      ],
      "execution_count": null,
      "outputs": []
    },
    {
      "cell_type": "code",
      "metadata": {
        "id": "VLdz48_t_cDG"
      },
      "source": [
        "np.concatenate([x, y])"
      ],
      "execution_count": null,
      "outputs": []
    },
    {
      "cell_type": "markdown",
      "metadata": {
        "id": "0Lh4bUcX_cDH"
      },
      "source": [
        "* ***random***"
      ]
    },
    {
      "cell_type": "code",
      "metadata": {
        "id": "uMdSToIW_cDH"
      },
      "source": [
        "a=np.random.randint(10, size = (5, 5))    #0'dan 10'na kadar 5' 5'lik rastegele matrix oluşturdu\n",
        "a"
      ],
      "execution_count": null,
      "outputs": []
    },
    {
      "cell_type": "code",
      "metadata": {
        "id": "iyzj7BT3_cDH"
      },
      "source": [
        "b=np.random.randint(10, size = 5 )        #1 boyutlu vektör elde ederiz.\n",
        "b"
      ],
      "execution_count": null,
      "outputs": []
    },
    {
      "cell_type": "code",
      "metadata": {
        "id": "taCEZnaf_cDH"
      },
      "source": [
        "np.argmax(b)                          #en büyük sayının indexini verir."
      ],
      "execution_count": null,
      "outputs": []
    },
    {
      "cell_type": "code",
      "metadata": {
        "id": "H1LlZQDcSJGe"
      },
      "source": [
        "ji"
      ],
      "execution_count": null,
      "outputs": []
    },
    {
      "cell_type": "markdown",
      "metadata": {
        "id": "hSfn6KmQ_cDH"
      },
      "source": [
        "## *PANDAS*"
      ]
    },
    {
      "cell_type": "code",
      "metadata": {
        "id": "a3MB_lSj_cDI"
      },
      "source": [
        "import pandas as pd"
      ],
      "execution_count": null,
      "outputs": []
    },
    {
      "cell_type": "markdown",
      "metadata": {
        "id": "lM7CZ9a3_cDI"
      },
      "source": [
        "* ***Series***"
      ]
    },
    {
      "cell_type": "code",
      "metadata": {
        "id": "hQoj45mL_cDI"
      },
      "source": [
        "s = pd.Series([1, 2, 3, 4, 5])\n",
        "s"
      ],
      "execution_count": null,
      "outputs": []
    },
    {
      "cell_type": "markdown",
      "metadata": {
        "id": "Ka8o7O3y_cDI"
      },
      "source": [
        "* ***DataFrame***"
      ]
    },
    {
      "cell_type": "code",
      "metadata": {
        "id": "8vdmuZRk_cDI"
      },
      "source": [
        "#dataframe oluşturmak için dictionary gerekli"
      ],
      "execution_count": null,
      "outputs": []
    },
    {
      "cell_type": "code",
      "metadata": {
        "id": "R39f1jpK_cDI"
      },
      "source": [
        "dictionary = {\"country\": [\"Turkey\", \"Russia\", \"France\", \"China\", \"South Africa\", \"Spain\"],\n",
        "              \"capital\": [\"Ankara\", \"Moscow\", \"Paris\", \"Beijing\", \"Pretoria\", \"Madrid\"],\n",
        "              \"area\": [5.5, 17.1, 4,1, 1.5, 4],\n",
        "              \"population\": [80, 150, 80, 1500, 50, 70]}"
      ],
      "execution_count": null,
      "outputs": []
    },
    {
      "cell_type": "code",
      "metadata": {
        "id": "RrzDPkl5_cDJ"
      },
      "source": [
        "data = pd.DataFrame(dictionary)"
      ],
      "execution_count": null,
      "outputs": []
    },
    {
      "cell_type": "code",
      "metadata": {
        "id": "JKo_4G4W_cDJ"
      },
      "source": [
        "data"
      ],
      "execution_count": null,
      "outputs": []
    },
    {
      "cell_type": "code",
      "metadata": {
        "id": "0Bn0qwNS_cDJ"
      },
      "source": [
        "data.head()   #sadece ilk 5 satırını görürüz."
      ],
      "execution_count": null,
      "outputs": []
    },
    {
      "cell_type": "code",
      "metadata": {
        "id": "0KlC8O1s_cDJ"
      },
      "source": [
        "data.tail()   #son 5 satırı"
      ],
      "execution_count": null,
      "outputs": []
    },
    {
      "cell_type": "code",
      "metadata": {
        "id": "iZF0isPZ_cDJ"
      },
      "source": [
        "data.info()   #dataframe hakkında genel bilgi verir"
      ],
      "execution_count": null,
      "outputs": []
    },
    {
      "cell_type": "code",
      "metadata": {
        "id": "yG0ThN_D_cDK"
      },
      "source": [
        "#burdaki object string anlamına gelmektedir. karakter dizimiz"
      ],
      "execution_count": null,
      "outputs": []
    },
    {
      "cell_type": "code",
      "metadata": {
        "id": "UWBMjX82_cDK"
      },
      "source": [
        "data.to_csv(\"data.txt\")   \n",
        "#virgüllerle ayrılmış şekilde txt dosyası olarak kaydet"
      ],
      "execution_count": null,
      "outputs": []
    },
    {
      "cell_type": "code",
      "metadata": {
        "id": "AwsCGtQb_cDK"
      },
      "source": [
        "data1 = pd.read_csv(\"data.txt\")   \n",
        "#daha önce oluşan indexlerde gözüktü\n",
        "#bunu ortadan kaldırmak için"
      ],
      "execution_count": null,
      "outputs": []
    },
    {
      "cell_type": "markdown",
      "metadata": {
        "id": "lAu9NvPi_cDK"
      },
      "source": [
        "* ***indexing***\n",
        "   * ***iloc, loc***"
      ]
    },
    {
      "cell_type": "markdown",
      "metadata": {
        "id": "AfnXVu2T_cDK"
      },
      "source": [
        "* ***Berlirli bir değerin olduğu satırları aramak istiyorsak; loc metodu kullanabiliriz.***\n",
        "* ***iloc: normal pythonda kullandığımız indexlemeyle aynıdır.***"
      ]
    },
    {
      "cell_type": "markdown",
      "metadata": {
        "id": "YrhRndJs_cDL"
      },
      "source": [
        "* ***example***"
      ]
    },
    {
      "cell_type": "code",
      "metadata": {
        "id": "dAPcmsxw_cDL"
      },
      "source": [
        "#>>>s = pd.Series(list(\"abcdef\"), index = [49, 48, 47, 0, 1, 2]) \n",
        "# 49    a\n",
        "# 48    b\n",
        "# 47    c\n",
        "# 0     d\n",
        "# 1     e\n",
        "# 2     f\n",
        "\n",
        "#>>>s.loc[0]     # value at index label 0\n",
        "# 'd'\n",
        "\n",
        "#>>> s.iloc[0]   # value at index location 0\n",
        "# 'a'\n",
        "\n",
        "#>>> s.loc[0:1]  # rows at index labels between 0 and 1 (inclusive)\n",
        "# 0    d\n",
        "# 1    e\n",
        "\n",
        "#>>>s.iloc[0:1]  # rows at index location between 0 and 1 (exclusive)"
      ],
      "execution_count": null,
      "outputs": []
    },
    {
      "cell_type": "code",
      "metadata": {
        "id": "ypto4UFo_cDL"
      },
      "source": [
        "data1.iloc[3,4] "
      ],
      "execution_count": null,
      "outputs": []
    },
    {
      "cell_type": "code",
      "metadata": {
        "id": "zZEHRjjy_cDL"
      },
      "source": [
        "data1.iloc[:,2] "
      ],
      "execution_count": null,
      "outputs": []
    },
    {
      "cell_type": "code",
      "metadata": {
        "id": "lHoERLbs_cDL"
      },
      "source": [
        "data1.loc[:,\"country\"] "
      ],
      "execution_count": null,
      "outputs": []
    },
    {
      "cell_type": "code",
      "metadata": {
        "id": "DyQCfvym_cDM"
      },
      "source": [
        "data1 = data1.iloc[:,1:] \n",
        "#tüm satırları al 1'den başla en sona git\n",
        "#dataframede index kısmı ortadan kalkmış oluyor."
      ],
      "execution_count": null,
      "outputs": []
    },
    {
      "cell_type": "code",
      "metadata": {
        "id": "QudiGcVs_cDM"
      },
      "source": [
        "data1"
      ],
      "execution_count": null,
      "outputs": []
    },
    {
      "cell_type": "markdown",
      "metadata": {
        "id": "WonX2pgd_cDM"
      },
      "source": [
        "* ***filter***"
      ]
    },
    {
      "cell_type": "code",
      "metadata": {
        "id": "BS4u862V_cDM"
      },
      "source": [
        "filter1 = data.loc[:,\"population\"] > 100   #tüm satırlara bak"
      ],
      "execution_count": null,
      "outputs": []
    },
    {
      "cell_type": "code",
      "metadata": {
        "id": "uN1hdCCL_cDM"
      },
      "source": [
        "filter1"
      ],
      "execution_count": null,
      "outputs": []
    },
    {
      "cell_type": "code",
      "metadata": {
        "id": "0gPh0wyV_cDN"
      },
      "source": [
        "data2 = data1[filter1]   #sadece populasyonu 100'den büyük olan sayıları bana vermiş olur"
      ],
      "execution_count": null,
      "outputs": []
    },
    {
      "cell_type": "code",
      "metadata": {
        "id": "dOEmmMwB_cDN"
      },
      "source": [
        "data2"
      ],
      "execution_count": null,
      "outputs": []
    },
    {
      "cell_type": "markdown",
      "metadata": {
        "id": "AB4yCVii_cDN"
      },
      "source": [
        "* ***numpy***"
      ]
    },
    {
      "cell_type": "code",
      "metadata": {
        "id": "5mCSMqGw_cDN"
      },
      "source": [
        "import numpy as np\n",
        "import pandas as pd\n",
        "n = data1.values #numpy'çevirdik\n",
        "n"
      ],
      "execution_count": null,
      "outputs": []
    },
    {
      "cell_type": "markdown",
      "metadata": {
        "id": "mJfFSxU5_cDN"
      },
      "source": [
        "* ***save pickle***"
      ]
    },
    {
      "cell_type": "code",
      "metadata": {
        "id": "8bunwHCT_cDO"
      },
      "source": [
        "data.to_pickle(\"data_pickle.pk1\")\n",
        "\n",
        "data_p = pd.read_pickle(\"data_pickle.pk1\")\n",
        "#algoritma sonucu oluşan verileri kaydedicez ve her istediğimizde veriyi yüklüyoruz inceleyebiliyoruz.\n",
        "#veriyi kaydetmek önemli bir adım"
      ],
      "execution_count": null,
      "outputs": []
    },
    {
      "cell_type": "code",
      "metadata": {
        "id": "cXQxytQt_cDO"
      },
      "source": [
        "data_p"
      ],
      "execution_count": null,
      "outputs": []
    },
    {
      "cell_type": "markdown",
      "metadata": {
        "id": "P841JgEn_cDO"
      },
      "source": [
        "* ***list comprehension***"
      ]
    },
    {
      "cell_type": "code",
      "metadata": {
        "id": "udOIT1gH_cDP"
      },
      "source": [
        "data.population = [i + 10 for i in data.population]  \n",
        "#for döngüsüyle data.population içerisinde dolaşıcam ve her bir değer 10 sayısını eklicem"
      ],
      "execution_count": null,
      "outputs": []
    },
    {
      "cell_type": "code",
      "metadata": {
        "id": "D3c7xITy_cDP"
      },
      "source": [
        "data.population"
      ],
      "execution_count": null,
      "outputs": []
    },
    {
      "cell_type": "markdown",
      "metadata": {
        "id": "089RCNk6_cDP"
      },
      "source": [
        "* ***drop***"
      ]
    },
    {
      "cell_type": "code",
      "metadata": {
        "id": "Int3q-0-_cDP"
      },
      "source": [
        "data.drop([\"area\"], axis=1 )  #area sutünü kalktı."
      ],
      "execution_count": null,
      "outputs": []
    },
    {
      "cell_type": "markdown",
      "metadata": {
        "id": "b6X1LQ8V_cDQ"
      },
      "source": [
        "## *MATPLOTLİB & SEABORN*"
      ]
    },
    {
      "cell_type": "markdown",
      "metadata": {
        "id": "Cu7NnLXl_cDQ"
      },
      "source": [
        "* ***matplotlib***"
      ]
    },
    {
      "cell_type": "code",
      "metadata": {
        "id": "Sc47-_aB_cDQ"
      },
      "source": [
        "#python kütüphanesi için üretilmiş bir çizim kütüphanesidir."
      ],
      "execution_count": null,
      "outputs": []
    },
    {
      "cell_type": "code",
      "metadata": {
        "id": "JKYBbYfM_cDQ"
      },
      "source": [
        "import matplotlib.pyplot as plt\n",
        "import numpy as np"
      ],
      "execution_count": null,
      "outputs": []
    },
    {
      "cell_type": "code",
      "metadata": {
        "id": "JhDdXW5i_cDQ"
      },
      "source": [
        "x = np.linspace(0, 10, 100)    #0 ile 100 arasında 10 tane sayı ver\n",
        "y = np.linspace(-5, 5, 100) "
      ],
      "execution_count": null,
      "outputs": []
    },
    {
      "cell_type": "code",
      "metadata": {
        "id": "3lIGhgTP_cDR"
      },
      "source": [
        "\n",
        "fig, ax = plt.subplots(figsize = (6, 3))\n",
        "ax.plot(x,y, color = \"red\", linewidth = 3 )      #kalınlığı:3\n",
        "ax.scatter(x,y, color = \"green\", marker = \"*\" )  #kırmızının altına çizildi\n",
        "#eksenlerin isimlerini verdik\n",
        "plt.xlabel(\"x\")\n",
        "plt.ylabel(\"y\")\n",
        "plt.savefig(\"x_y.png\") \n",
        "plt.show()"
      ],
      "execution_count": null,
      "outputs": []
    },
    {
      "cell_type": "code",
      "metadata": {
        "id": "0oe10njD_cDR"
      },
      "source": [
        "fig = plt.figure()\n",
        "ax = fig.add_subplot(111)               #1.satır 1.sutün 1 tane\n",
        "ax.plot(x,y, color = \"red\", linewidth =3 ) \n",
        "ax.scatter(x,y, color= \"green\", marker = \"*\" ) \n",
        "\n",
        "plt.xlabel(\"x\")\n",
        "plt.ylabel(\"y\")\n",
        "plt.savefig(\"x_y.png\") \n",
        "plt.show()"
      ],
      "execution_count": null,
      "outputs": []
    },
    {
      "cell_type": "code",
      "metadata": {
        "id": "-EZkTKB-_cDR"
      },
      "source": [
        "fig, ax = plt.subplots(figsize = (6, 3))\n",
        "ax.scatter(x,y, color = \"green\",  marker = \"*\")  #*'lı olarak çizdirdi grafiği'\n",
        "plt.show()"
      ],
      "execution_count": null,
      "outputs": []
    },
    {
      "cell_type": "markdown",
      "metadata": {
        "id": "dHmK9gWu_cDR"
      },
      "source": [
        "* ***Seaborn***"
      ]
    },
    {
      "cell_type": "code",
      "metadata": {
        "id": "-Sv6cgh-_cDR"
      },
      "source": [
        "#python için bir görselleştirme kütüphanesidir.\n",
        "#istatistiksel grafikleri görselleştirmek çok kolaydır."
      ],
      "execution_count": null,
      "outputs": []
    },
    {
      "cell_type": "code",
      "metadata": {
        "id": "PRGdIg8h_cDS"
      },
      "source": [
        "import seaborn as sns\n",
        "a = np.random.randint(5, size = 100)   #5'e kadar 100 tane\n",
        "a"
      ],
      "execution_count": null,
      "outputs": []
    },
    {
      "cell_type": "code",
      "metadata": {
        "id": "XPuYpUnL_cDS"
      },
      "source": [
        "plt.figure()\n",
        "sns.countplot(a);  #count kaç tane olduğu"
      ],
      "execution_count": null,
      "outputs": []
    },
    {
      "cell_type": "markdown",
      "metadata": {
        "id": "4CCvKakB_cDS"
      },
      "source": [
        "* ***Random***"
      ]
    },
    {
      "cell_type": "code",
      "metadata": {
        "id": "P5rn4Psc_cDS"
      },
      "source": [
        "import random"
      ],
      "execution_count": null,
      "outputs": []
    },
    {
      "cell_type": "code",
      "metadata": {
        "id": "S-_AYM5S_cDS"
      },
      "source": [
        "random.seed(2)    \n",
        "#her bastığımda farklı sayılar çıkıyor bunları sabitleyebiliriz.\n",
        "#bu bizim random generate etmek için kullandığımız algoritmanın start pointini 2'ye eşitliyor.\n",
        "#start point her zaman 2 ise sonuç olarak ortaya çıkardığı random sayıda her zaman bir önceki sayıya eşit olmuş olacak.\n",
        "\n",
        "a = random.random()         #0 ile 1 arasında\n",
        "a"
      ],
      "execution_count": null,
      "outputs": []
    },
    {
      "cell_type": "code",
      "metadata": {
        "id": "r590pxex_cDT"
      },
      "source": [
        "b = random.uniform(1, 10)    #1 ile 10 arasında flaot sayı return edicek\n",
        "b"
      ],
      "execution_count": null,
      "outputs": []
    },
    {
      "cell_type": "code",
      "metadata": {
        "id": "3WKKSaIP_cDT"
      },
      "source": [
        "c = random.randint(1, 10)    #10 da dahil\n",
        "c"
      ],
      "execution_count": null,
      "outputs": []
    },
    {
      "cell_type": "code",
      "metadata": {
        "id": "y5dFfCo-_cDT"
      },
      "source": [
        "d = random.randrange(0, 101, 2)  #çift sayıları verir.\n",
        "d"
      ],
      "execution_count": null,
      "outputs": []
    },
    {
      "cell_type": "markdown",
      "metadata": {
        "id": "GrKGvJ4u_cDT"
      },
      "source": [
        "## İNPUT & OUTPUT"
      ]
    },
    {
      "cell_type": "code",
      "metadata": {
        "id": "HZ6BQ7us_cDU"
      },
      "source": [
        "save_txt = \"hello world\"                #string variable oluşturduk.\n",
        "text_file = open(\"save_string.txt\", \"w\") #bunu write yaparak dosyayı oluşturduk.\n",
        "text_file.write(save_txt)               #save_txt write edildi.\n",
        "text_file.close()                            "
      ],
      "execution_count": null,
      "outputs": []
    },
    {
      "cell_type": "markdown",
      "metadata": {
        "id": "vAFBkRDB_cDU"
      },
      "source": [
        "* ***load***"
      ]
    },
    {
      "cell_type": "code",
      "metadata": {
        "id": "EaLeJ8MF_cDU"
      },
      "source": [
        "load_file = open(\"save_string.txt\", \"r\")\n",
        "#kaydettiğimiz bir dosyayı yükleyip okuma yapılır.\n",
        "load_file.read()"
      ],
      "execution_count": null,
      "outputs": []
    },
    {
      "cell_type": "markdown",
      "metadata": {
        "id": "XT5BOLQ6_cDV"
      },
      "source": [
        "## En Yaygın Hatalar"
      ]
    },
    {
      "cell_type": "code",
      "metadata": {
        "id": "cF9Q909i_cDV"
      },
      "source": [
        "# 1-) import  etmeyi unutmak\n",
        "# 2-) array creation (parantez koymayı falan unutmak)\n",
        "# 3-) return (return yazmaksak methodumuz içindeki parametreyi kullanamayız.)\n",
        "# 4-) indentation: tab koymayınca hata verir.\n",
        "# if True:\n",
        "# print(\"12\")\n",
        "# 5-) remember figure()"
      ],
      "execution_count": null,
      "outputs": []
    },
    {
      "cell_type": "markdown",
      "metadata": {
        "id": "XQ2JJ8vX71v5"
      },
      "source": [
        "# *Dosya Açma ve Yazma İşlemleri*"
      ]
    },
    {
      "cell_type": "markdown",
      "metadata": {
        "id": "IrOQ_zNd71v_"
      },
      "source": [
        "   * ***Dosya Açmak***"
      ]
    },
    {
      "cell_type": "markdown",
      "metadata": {
        "id": "mtYdZEwD71wA"
      },
      "source": [
        "* ***Bir dosyayı açmak için open() fonksiyonunu kullanırız. Yapısı şu şekildedir;***\n",
        "\n",
        "* ***open(dosya_adı,dosya_erişme_kipi)***\n",
        "  * ***Dosya adını istediğimiz isimde verebiliriz. Dosya erişme kipi ise bizim dosya üzerindeki işlemlerimizi belirler.***\n",
        " \n",
        "\n",
        "\n",
        "  * ***“w” dosya kipi***\n",
        "* ***Dosyalarımızı açmak ve dosyalarımıza yazmak için “write” anlamına gelen “w” kipini kullanırız. “w” kipi eğer oluşturmak istediğimiz dizinde öyle bir dosya yoksa dosyayı oluşturuyor , eğer öyle bir dosya varsa dosyayı silip tekrar oluşturuyor. Yani, eğer açmak istediğimiz dosyadan zaten varsa ve dosyanın içi doluysa “w” kipi dosyadaki bilgileri silip tekrar oluşturacaktır. (Biraz Tehlikeli)***\n"
      ]
    },
    {
      "cell_type": "code",
      "metadata": {
        "id": "4iqwwRn_71wB"
      },
      "source": [
        "open(\"bilgiler.txt\", \"w\") # Dosyayı bulunduğumuz dizinde açıyor."
      ],
      "execution_count": null,
      "outputs": []
    },
    {
      "cell_type": "code",
      "metadata": {
        "id": "VnqCTGW471wC"
      },
      "source": [
        "file = open(\"bilgiler.txt\", \"w\") # Dosya üzerinde işlem yapacak dosya imlecini file isimli değişkene atıyoruz."
      ],
      "execution_count": null,
      "outputs": []
    },
    {
      "cell_type": "markdown",
      "metadata": {
        "id": "hlaSMydL71wC"
      },
      "source": [
        "## Dosyaları Kapatmak\n",
        "\n",
        "   * ***Bir dosya üzerinde işlem yaptığımızda o dosyayı kapatmak sistem kaynaklarının gereksiz kullanılmaması açısından önemlidir. Çünkü programımız bitse bile dosyanın kapanacağı garanti değildir. Bu yüzden işlerimiz bittiği zaman dosyayı kapatmalıyız.***"
      ]
    },
    {
      "cell_type": "code",
      "metadata": {
        "id": "SdlZMYx271wC"
      },
      "source": [
        "file.close()  # Dosyayı kapatmak"
      ],
      "execution_count": null,
      "outputs": []
    },
    {
      "cell_type": "markdown",
      "metadata": {
        "id": "bo8swRZq71wD"
      },
      "source": [
        "* ***Eğer bir dosyayı bulunduğumuz dizinde değil de başka bir dizinde açmak istersek, dizinin yolunu özellikle belirtmeliyiz.***"
      ]
    },
    {
      "cell_type": "code",
      "metadata": {
        "id": "e8xSkQ-P71wD"
      },
      "source": [
        "file = open(\"D:/CASPER/Desktop/bilgiler.txt\",\"w\") # çalıştırdığımızda masaüstünde bilgiler.txt oluşacaktır.\n",
        "file.close() "
      ],
      "execution_count": null,
      "outputs": []
    },
    {
      "cell_type": "markdown",
      "metadata": {
        "id": "X2Qnugpa71wD"
      },
      "source": [
        "## “w” Kipiyle Dosyalara Yazmak\n",
        "* ***İlk olarak dosyayı “w” kipiyle açıyoruz.***"
      ]
    },
    {
      "cell_type": "code",
      "metadata": {
        "id": "gYpcmJMt71wE"
      },
      "source": [
        "file = open(\"bilgiler.txt\",\"w\",encoding=\"utf-8\") # Türkçe karakter kullanacaksak encoding=\"utf-8\" parametresini veriyoruz.\n",
        "file.write(\"Mustafa Murat Coşkun\") # write fonksiyonu ile dosyamıza yazıyoruz. 20 bytelık yani 20 karakter yazıldı.\n",
        " \n",
        "file.close()"
      ],
      "execution_count": null,
      "outputs": []
    },
    {
      "cell_type": "markdown",
      "metadata": {
        "id": "v6NX08YF71wE"
      },
      "source": [
        "* ***write fonksiyonuyla dosyamıza herhangi bir şey yazabiliriz. Ancak “w” kipi her seferinde dosyayı tekrar oluşturduğu için dosyayı tekrar açtığımızda bilgiler kaybolacaktır.***"
      ]
    },
    {
      "cell_type": "code",
      "metadata": {
        "id": "kUF6haMV71wE"
      },
      "source": [
        "file = open(\"bilgiler.txt\",\"w\",encoding=\"utf-8\")\n",
        "file.close()"
      ],
      "execution_count": null,
      "outputs": []
    },
    {
      "cell_type": "markdown",
      "metadata": {
        "id": "SBKf8q9j71wE"
      },
      "source": [
        "* ***“a” Kipiyle Dosyalara Yazmak***\n",
        "  * ***“append” (ekleme) kelimesinin kısaltması olan “a” kipiyle bir dosyayı açtığımızda , dosya eğer yoksa oluşturulur. Eğer öyle bir dosya mevcut ise, dosya tekrar oluşturulmaz ve dosya imleci dosyanın sonuna giderek dosyaya ekleme yapmamızı sağlar.***"
      ]
    },
    {
      "cell_type": "code",
      "metadata": {
        "id": "aoqbK8dT71wE"
      },
      "source": [
        "file = open(\"bilgiler.txt\",\"a\",encoding=\"utf-8\")\n",
        "file.write(\"Mustafa Murat Coşkun\") \n",
        "file.close()"
      ],
      "execution_count": null,
      "outputs": []
    },
    {
      "cell_type": "code",
      "metadata": {
        "id": "fLqb2L1M71wF"
      },
      "source": [
        "#dosyayı tekrar açıyoruz"
      ],
      "execution_count": null,
      "outputs": []
    },
    {
      "cell_type": "code",
      "metadata": {
        "id": "Rc8N5LGH71wF"
      },
      "source": [
        "file = open(\"bilgiler.txt\",\"a\",encoding=\"utf-8\")\n",
        "file.write(\"Mehmet Gençol\")  # Dosyanın sonuna ekleme yaptık.\n",
        "file.close()"
      ],
      "execution_count": null,
      "outputs": []
    },
    {
      "cell_type": "markdown",
      "metadata": {
        "id": "PYlm0z4H71wF"
      },
      "source": [
        "* ***eğer buradaki isimleri dosyalara alt alta yazmak istersek “\\n” karakterini kullanmalıyız.***"
      ]
    },
    {
      "cell_type": "code",
      "metadata": {
        "id": "hjFwvaTG71wF"
      },
      "source": [
        "file = open(\"bilgiler.txt\",\"a\",encoding=\"utf-8\")\n",
        "file.write(\"Mustafa Murat Coşkun\\n\")\n",
        "file.write(\"Mehmet Gençol\\n\")\n",
        "file.write(\"Oğuz Artıran\\n\")\n",
        "file.write(\"Serhat Say\\n\")\n",
        "file.write(\"Mert Erasrlan\\n\")\n",
        "file.close()"
      ],
      "execution_count": null,
      "outputs": []
    },
    {
      "cell_type": "markdown",
      "metadata": {
        "id": "Iy0pxBlj71wG"
      },
      "source": [
        "## Dosya Okuma İşlemleri\n",
        "\n",
        "   * ***Dosyaları okumak ve verileri almak için “r” kipiyle açmamız gerekiyor. “r” kipiyle açtığımız dosya eğer bulunmuyorsa “FileNotFoundError” hatası dönecektir.***"
      ]
    },
    {
      "cell_type": "code",
      "metadata": {
        "id": "cao5CSUE71wG"
      },
      "source": [
        "file = open(\"bilgiler.txt\",\"r\", encoding=\"utf-8\")\n",
        "file.close()"
      ],
      "execution_count": null,
      "outputs": []
    },
    {
      "cell_type": "code",
      "metadata": {
        "id": "ZMT5ERPH71wG"
      },
      "source": [
        "file = open(\"bilgiler2.txt\",\"r\",encoding=\"utf-8\")  # böyle bir dosya yok . O yüzden FileNotFoundError hatası döndü."
      ],
      "execution_count": null,
      "outputs": []
    },
    {
      "cell_type": "markdown",
      "metadata": {
        "id": "mmafhgIO71wG"
      },
      "source": [
        "* ***Dosya işlemlerini daha güvenli yazmak try,except bloklarını kullanabiliriz***\n",
        "\n"
      ]
    },
    {
      "cell_type": "code",
      "metadata": {
        "id": "wBHjb6HV71wG"
      },
      "source": [
        "try:\n",
        "    file = open(\"bilgiler2.txt\",\"r\",encoding= \"utf-8\")\n",
        "except FileNotFoundError:\n",
        "    print(\"Dosya Bulunamadı....\")"
      ],
      "execution_count": null,
      "outputs": []
    },
    {
      "cell_type": "markdown",
      "metadata": {
        "id": "ehhuEEPM71wH"
      },
      "source": [
        "* ***Bir dosyanın içinden bilgileri nasıl okuyacağız ?***"
      ]
    },
    {
      "cell_type": "markdown",
      "metadata": {
        "id": "Ecl32GRQ71wH"
      },
      "source": [
        "* ***For döngüsü ile okuma***\n",
        "  * ***Şöyle bir kullanım dosyamızdaki herbir satırı tek tek okuyacaktır.***"
      ]
    },
    {
      "cell_type": "code",
      "metadata": {
        "id": "OrDWdohV71wH"
      },
      "source": [
        "file = open(\"bilgiler.txt\",\"r\",encoding= \"utf-8\") # Dosyayı okuma kipiyle açıyoruz. Türkçe karaktere dikkat.\n",
        " \n",
        "for i in file: # Tıpkı listeler gibi dosyanın her bir satırı üzerinde geziniyoruz.\n",
        "    print(i) # Her bir satırı ekrana basıyoruz.\n",
        "file.close()"
      ],
      "execution_count": null,
      "outputs": []
    },
    {
      "cell_type": "markdown",
      "metadata": {
        "id": "QMJzQ_Ua71wH"
      },
      "source": [
        "* ***Burada her bir satırımız boşluklu yazıldı. Bunun nedeni, hem her satır sonunda “\\n” karakterinin olması hem de print fonksiyonun bir alt satıra geçmek için boşluk bırakmasıdır. Bunu önlemek için varsayılan değer olarak “\\n” karakteri alan end parametresine kendimiz değer verebiliriz.***"
      ]
    },
    {
      "cell_type": "code",
      "metadata": {
        "id": "DZq0iwi471wI"
      },
      "source": [
        "file = open(\"bilgiler.txt\",\"r\",encoding= \"utf-8\") # Dosyayı okuma kipiyle açıyoruz. Türkçe karaktere dikkat.\n",
        " \n",
        "for i in file: # Tıpkı listeler gibi dosyanın her bir satırı üzerinde geziniyoruz.\n",
        "    print(i,end = \"\") # Her bir satırı ekrana basıyoruz. end parametresi \\n yerine boşluk alacak.\n",
        "file.close()\n",
        " "
      ],
      "execution_count": null,
      "outputs": []
    },
    {
      "cell_type": "markdown",
      "metadata": {
        "id": "NgVYfzkk71wI"
      },
      "source": [
        "* ***read() fonksiyonu***\n",
        "  * ***read() fonksiyonu eğer içine hiçbir değer vermezsek bütün dosyamızı okuyacaktır.***"
      ]
    },
    {
      "cell_type": "code",
      "metadata": {
        "id": "XW9okNrT71wI"
      },
      "source": [
        "file = open(\"bilgiler.txt\",\"r\",encoding=\"utf-8\")\n",
        " \n",
        "icerik = file.read() \n",
        " \n",
        "print(\"Dosya İçeriği: \")\n",
        "\n",
        "print(icerik)\n",
        "\n",
        "print(\"Dosya İçeriği 2: \") \n",
        "icerik2 = file.read()\n",
        "# file değişkeni bir imleç görevi gördüğü için dosyanın en sonuna gitti. \n",
        "# Tekrar okuma işlemi yaparsak dosyanın geri kalanında hiçbir şey olmadığı için içerik2 stringi boş kalmış oldu.\n",
        " \n",
        "file.close()\n",
        " "
      ],
      "execution_count": null,
      "outputs": []
    },
    {
      "cell_type": "markdown",
      "metadata": {
        "id": "Pl6h_ip371wI"
      },
      "source": [
        "   * ***read() fonksiyonuyla bir dosyayı okuduğumuzda dosya imlecimiz dosyanın en sonuna gider ve read() fonksiyonu 2. okuma da artık boş string döner.***"
      ]
    },
    {
      "cell_type": "code",
      "metadata": {
        "id": "-Hg7J13A71wJ"
      },
      "source": [
        "file = open(\"bilgiler.txt\",\"r\",encoding=\"utf-8\")\n",
        " \n",
        "icerik = file.read() \n",
        " \n",
        "print(\"1. Okuma : Dosya İçeriği:\\n\",icerik,sep =\"\")\n",
        " \n",
        "icerik2 = file.read()\n",
        " \n",
        "print(\"2. Okuma : Dosya İçeriği:\\n\",icerik2,sep =\"\")\n",
        " \n",
        "file.close()"
      ],
      "execution_count": null,
      "outputs": []
    },
    {
      "cell_type": "markdown",
      "metadata": {
        "id": "LFZp1tWO71wJ"
      },
      "source": [
        "* ***readline() fonksiyonu***\n",
        "  * ***readline() fonksiyonu her çağrıldığında dosyanın sadece bir satırını okur. Her seferinde dosya imlecimiz (file) bir satır atlayarak devam eder.***\n",
        "\n"
      ]
    },
    {
      "cell_type": "code",
      "metadata": {
        "id": "WRScZOaB71wJ"
      },
      "source": [
        "file = open(\"bilgiler.txt\",\"r\",encoding=\"utf-8\")\n",
        "print(file.readline())\n",
        "print(file.readline())\n",
        "print(file.readline())\n",
        "print(file.readline())\n",
        "print(file.readline())\n",
        "print(\"-------------\")\n",
        "print(file.readline()) # Okuyacak herhangi bir şey kalmayınca readline fonksiyonu boş string döner.\n",
        "file.close()"
      ],
      "execution_count": null,
      "outputs": []
    },
    {
      "cell_type": "markdown",
      "metadata": {
        "id": "wyzHKCHS71wJ"
      },
      "source": [
        "* ***readlines() fonksiyonu***\n",
        "  * ***readlines() fonksiyonu dosyanın bütün satırları bir liste şeklinde döner.***"
      ]
    },
    {
      "cell_type": "code",
      "metadata": {
        "id": "DgoHE5DI71wK"
      },
      "source": [
        "file = open(\"bilgiler.txt\",\"r\",encoding=\"utf-8\")\n",
        " \n",
        "liste = file.readlines()\n",
        "liste\n",
        " "
      ],
      "execution_count": null,
      "outputs": []
    },
    {
      "cell_type": "code",
      "metadata": {
        "id": "_TBQvtTU71wK"
      },
      "source": [
        "file.close()"
      ],
      "execution_count": null,
      "outputs": []
    },
    {
      "cell_type": "markdown",
      "metadata": {
        "id": "CcKqhr2U71wK"
      },
      "source": [
        "## Dosyalarda Kullanılan Fonksiyonlar\n",
        "   * ***Dosyaları Otomatik Kapatma***\n",
        "* ***Dosyalarda işlemlerimiz bittiği zaman dosyamızı kapatmamız gerekiyor. Ancak çoğu zaman dosyaları kapatmayı unutabiliriz. Bunun için Pythonda dosyalarda işimiz bitince otomatik kapatma özelliği bulunuyor.***\n",
        "\n",
        "* ***with open(dosya_adı,dosya_kipi) as file:***\n",
        "  * ***Dosya işlemleri***"
      ]
    },
    {
      "cell_type": "code",
      "metadata": {
        "id": "X_oII9R571wK"
      },
      "source": [
        "with open(\"bilgiler.txt\",\"r\",encoding = \"utf-8\") as file:\n",
        "    for i in file:\n",
        "        print(i)"
      ],
      "execution_count": null,
      "outputs": []
    },
    {
      "cell_type": "markdown",
      "metadata": {
        "id": "liebIVo071wL"
      },
      "source": [
        "* ***Eğer dosya işlemlerini bu blok içinde yaparsak işlemimiz bittiği zaman dosyamız otomatik olarak kapanacaktır.***"
      ]
    },
    {
      "cell_type": "markdown",
      "metadata": {
        "id": "rlFlb2q871wL"
      },
      "source": [
        "* ***Dosyaları İleri Geri Sarmak***\n",
        "  * ***dosyaları okurken sadece dosyanın en başından başlayabiliyorduk ve dosya imlecimiz okuma işleminin sonunda , dosyanın en sonuna gidiyordu. Ancak biz çoğu zaman dosya imlecini (file) dosyanın herhangi bir yerine götürmek isteyebiliriz. Bunun için Pythondaki seek() fonksiyonunu kullanacağız. Ancak ondan önce dosya imlecinin hangi byteda olduğunu söyleyen tell() fonksiyonudur.***"
      ]
    },
    {
      "cell_type": "code",
      "metadata": {
        "id": "nEljr4o_71wL"
      },
      "source": [
        "with open(\"bilgiler.txt\",\"r\",encoding = \"utf-8\") as file:\n",
        "    print(file.tell())"
      ],
      "execution_count": null,
      "outputs": []
    },
    {
      "cell_type": "markdown",
      "metadata": {
        "id": "0kSBSrcc71wM"
      },
      "source": [
        "* ***Şu anda hiçbir işlem yapmadığımız için tell() fonksiyonu dosyanın en başında (0. byteda) olduğumuzu söyledi. Peki bir dosya imlecini dosyanın 20.byte’ına götürmek için ne yapacağız ? Bunun için de seek() fonksiyonunu kullanacağız.***"
      ]
    },
    {
      "cell_type": "code",
      "metadata": {
        "id": "zX1bSogg71wM"
      },
      "source": [
        "with open(\"bilgiler.txt\",\"r\",encoding = \"utf-8\") as file:\n",
        "    file.seek(20) # 20.byte götürdük.\n",
        "    print(file.tell()) "
      ],
      "execution_count": null,
      "outputs": []
    },
    {
      "cell_type": "markdown",
      "metadata": {
        "id": "kojbqLC771wM"
      },
      "source": [
        "* ***Peki biz bir dosyanın belirli bir byte’ına(karakter) gidip sadece belli sayıda karakteri nasıl okuyacağız ? Eğer biz read() fonksiyonuna bir sayı değeri verirsek sadece o sayı değeri kadar alanı okuyacaktır.***"
      ]
    },
    {
      "cell_type": "code",
      "metadata": {
        "id": "RvwHXjWt71wM"
      },
      "source": [
        "with open(\"bilgiler.txt\",\"r\",encoding = \"utf-8\") as file:\n",
        "    file.seek(5) # 5.byte gidiyoruz.\n",
        "    icerik = file.read(10)  # 5.byte'n itibaren10 karakteri okuyoruz.\n",
        "    print(icerik)\n",
        "    print(file.tell())"
      ],
      "execution_count": null,
      "outputs": []
    },
    {
      "cell_type": "code",
      "metadata": {
        "id": "4Wyha-pa71wN"
      },
      "source": [
        "with open(\"bilgiler.txt\",\"r\",encoding = \"utf-8\") as file:\n",
        "    file.seek(5) # 5.byte gidiyoruz.\n",
        "    icerik = file.read(10)  # 10 karakteri okuyoruz.\n",
        "    print(file.tell()) # dosya değişkenimin nerde olduğunu gösterir.\n",
        "    print(icerik)\n",
        "    file.seek(0)  # dosyam en başa gitmiş oldu.\n",
        "    icerik2 = file.read(6)\n",
        "    print(icerik2)"
      ],
      "execution_count": null,
      "outputs": []
    },
    {
      "cell_type": "markdown",
      "metadata": {
        "id": "Q_SAvmws71wN"
      },
      "source": [
        "* ***Dosyalarda Değişiklik Yapmak***\n",
        "  * ***seek() ve write()***\n",
        "    * ***Eğer biz bir dosyanın belli bir yerine seek() fonksiyonu ile gidip, write() fonksiyonunu kullanırsak, yazdığımız değerler öncesinde bulunan değerlerin üzerine yazılacaktır. Bunun için hem okuma hem de yazma işlemimizi yapmamızı sağlayan “r+” kipini kullanacağız.***"
      ]
    },
    {
      "cell_type": "code",
      "metadata": {
        "id": "kva6ncGp71wN"
      },
      "source": [
        "with open(\"bilgiler.txt\",\"r+\",encoding = \"utf-8\") as file:\n",
        "    print(file.read())"
      ],
      "execution_count": null,
      "outputs": []
    },
    {
      "cell_type": "code",
      "metadata": {
        "id": "VaeiFWTz71wO"
      },
      "source": [
        "with open(\"bilgiler.txt\",\"r+\",encoding = \"utf-8\") as file: \n",
        "    file.seek(10) # 10. byte\n",
        "    file.write(\"Deneme\")"
      ],
      "execution_count": null,
      "outputs": []
    },
    {
      "cell_type": "code",
      "metadata": {
        "id": "G2ikRBkU71wO"
      },
      "source": [
        "with open(\"bilgiler.txt\",\"r+\",encoding = \"utf-8\") as file:\n",
        "    print(file.read())"
      ],
      "execution_count": null,
      "outputs": []
    },
    {
      "cell_type": "markdown",
      "metadata": {
        "id": "i7cX8fpI71wO"
      },
      "source": [
        "* ***Dosyanın Sonunda Değişiklik Yapmak***\n",
        "   * ***Dosyaların sonunda değişiklik yapmak için, dosyamızı “a” kipiyle açarız ve sadece dosyanın sonuna write() ile ekleme yaparız.***"
      ]
    },
    {
      "cell_type": "code",
      "metadata": {
        "id": "9svnVWfh71wO"
      },
      "source": [
        "with open(\"bilgiler.txt\",\"r+\",encoding = \"utf-8\") as file:\n",
        "    print(file.read())"
      ],
      "execution_count": null,
      "outputs": []
    },
    {
      "cell_type": "code",
      "metadata": {
        "id": "w6aJ_A4n71wP"
      },
      "source": [
        "with open(\"bilgiler.txt\",\"a\",encoding = \"utf-8\") as file:\n",
        "    file.write(\"Mert Erarslan\\n\") \n",
        "# \"append\" metoduyla açılan bir dosyanın imleci direk dosyanın sonunda olduğu için sadece write"
      ],
      "execution_count": null,
      "outputs": []
    },
    {
      "cell_type": "code",
      "metadata": {
        "id": "whXqgB9E71wP"
      },
      "source": [
        "with open(\"bilgiler.txt\",\"r\",encoding = \"utf-8\") as file:\n",
        "    print(file.read())"
      ],
      "execution_count": null,
      "outputs": []
    },
    {
      "cell_type": "markdown",
      "metadata": {
        "id": "xFtvM_zq71wP"
      },
      "source": [
        "* ***Dosyanın Başında Değişiklik Yapmak***\n",
        "   * ***“bilgiler.txt” dosyamızın başına bir tane satır eklemek için ne yapabiliriz ? Bunun için dosyamızı bütünüyle string halinde alıp daha sonra satırımızı string’in başına eklememiz gerekiyor. Daha sonra dosyanın en başına seek() fonksiyonuyla giderek ,direk write() fonksiyonunu kullanabiliriz.***"
      ]
    },
    {
      "cell_type": "code",
      "metadata": {
        "id": "Qrp2bT3E71wP"
      },
      "source": [
        "with open(\"bilgiler.txt\",\"r+\",encoding = \"utf-8\") as file:\n",
        "    icerik = file.read()\n",
        "    print(icerik)"
      ],
      "execution_count": null,
      "outputs": []
    },
    {
      "cell_type": "code",
      "metadata": {
        "id": "Cmvh4r3D71wQ"
      },
      "source": [
        "with open(\"bilgiler.txt\",\"r+\",encoding = \"utf-8\") as file:\n",
        "    icerik = file.read()\n",
        "    \n",
        "    icerik = \"Semih Aktaş\\n\" + icerik\n",
        "    file.seek(0) # dosyanın en başına gidip\n",
        "    file.write(icerik) # eski bilgilerin üzerine yeni bilgi yazıldı."
      ],
      "execution_count": null,
      "outputs": []
    },
    {
      "cell_type": "code",
      "metadata": {
        "id": "sVHfxM9X71wQ"
      },
      "source": [
        "with open(\"bilgiler.txt\",\"r+\",encoding = \"utf-8\") as file:\n",
        "    icerik = file.read()\n",
        "    print(icerik)"
      ],
      "execution_count": null,
      "outputs": []
    },
    {
      "cell_type": "markdown",
      "metadata": {
        "id": "Vh4RI16V71wQ"
      },
      "source": [
        "* ***Dosyanın Ortasında Değişiklik Yapmak****\n",
        "   * ***Dosyaların ortasına herhangi bir satır eklemek için ilk olarak her bir satırı liste halinde almamızı sağlayan readlines() fonksiyonunu kullanacağız. Daha sonra bu listenin herhangi bir yerine bir eleman ekleyerek bu listeyi for döngüsü ile dosyaya yazacağız.***"
      ]
    },
    {
      "cell_type": "code",
      "metadata": {
        "id": "s6sqFixn71wQ"
      },
      "source": [
        "with open(\"bilgiler.txt\",\"r+\",encoding = \"utf-8\") as file:\n",
        "    print(file.readlines())"
      ],
      "execution_count": null,
      "outputs": []
    },
    {
      "cell_type": "markdown",
      "metadata": {
        "id": "37l5oziS71wQ"
      },
      "source": [
        "   * ***Örneğin , “Oğuz Artıran” satırının altına bir tane daha satır eklemek istiyoruz. Bunun için bu listenin 4.indeksine insert() metoduyla bir satır ekleyeceğiz. Daha sonra dosyanın en başına giderek bu listeyi tek tek for döngüsü ile yazacağız.***"
      ]
    },
    {
      "cell_type": "code",
      "metadata": {
        "id": "Akuruj3n71wR"
      },
      "source": [
        "with open(\"bilgiler.txt\",\"r+\",encoding = \"utf-8\") as file:\n",
        "    liste = file.readlines()\n",
        "    liste.insert(4,\"Mehmet Keper\\n\")\n",
        "    file.seek(0)\n",
        "    for satır in liste:\n",
        "        file.write(satır)"
      ],
      "execution_count": null,
      "outputs": []
    },
    {
      "cell_type": "code",
      "metadata": {
        "id": "H3IPVT0371wR"
      },
      "source": [
        "with open(\"bilgiler.txt\",\"r+\",encoding = \"utf-8\") as file:\n",
        "    icerik = file.read()\n",
        "    print(icerik)"
      ],
      "execution_count": null,
      "outputs": []
    },
    {
      "cell_type": "markdown",
      "metadata": {
        "id": "9SrsiYU671wR"
      },
      "source": [
        "* ***Pythonda bir dosyaya listenin içindeki değerleri yazmak için for döngüsü dışında pratik bir fonksiyon bulunuyor. writelines fonksiyonu içine verdiğimiz listeyi dosyaya yazacaktır.***"
      ]
    },
    {
      "cell_type": "code",
      "metadata": {
        "id": "hq0mkQd071wR"
      },
      "source": [
        "with open(\"bilgiler.txt\",\"r+\",encoding = \"utf-8\") as file:\n",
        "    liste = file.readlines()\n",
        "    liste.insert(4,\"Ahmet Baltacı\\n\")\n",
        "    file.seek(0)\n",
        "    file.writelines(liste)\n",
        " \n",
        "with open(\"bilgiler.txt\",\"r+\",encoding = \"utf-8\") as file:\n",
        "    icerik = file.read()\n",
        "    print(icerik)\n",
        " "
      ],
      "execution_count": null,
      "outputs": []
    },
    {
      "cell_type": "code",
      "metadata": {
        "id": "nlNojfdS71wR"
      },
      "source": [
        ""
      ],
      "execution_count": null,
      "outputs": []
    },
    {
      "cell_type": "markdown",
      "metadata": {
        "id": "vDqW43gE9V5R"
      },
      "source": [
        "# *Neden Numpy ?* \n",
        "\n",
        "Numerik Hesaplamalar ve yer kavramını azaltma\n"
      ]
    },
    {
      "cell_type": "code",
      "metadata": {
        "id": "VBSmNbCJ9V5T"
      },
      "source": [
        "a = [1,2,3,4]\n",
        "b = [2,3,4,5]\n",
        "\n",
        "a\n",
        "b #en son ne yazdıysak onu çalıştırır"
      ],
      "execution_count": null,
      "outputs": []
    },
    {
      "cell_type": "code",
      "metadata": {
        "id": "9Rm6ZZTo9V5U"
      },
      "source": [
        "a = [1,2,3,4]\n",
        "b = [2,3,4,5]"
      ],
      "execution_count": null,
      "outputs": []
    },
    {
      "cell_type": "code",
      "metadata": {
        "id": "WOcDb2EN9V5U"
      },
      "source": [
        "ab = []\n",
        "\n",
        "for i in range(0, len(a)):\n",
        "    ab.append(a[i]*b[i])\n",
        "print(ab)"
      ],
      "execution_count": null,
      "outputs": []
    },
    {
      "cell_type": "code",
      "metadata": {
        "id": "_3yTvu1h9V5V"
      },
      "source": [
        "import numpy as np"
      ],
      "execution_count": null,
      "outputs": []
    },
    {
      "cell_type": "code",
      "metadata": {
        "id": "3Tlfb-qq9V5V"
      },
      "source": [
        "a = np.array([1,2,3,4]) #numpy içindeki veri tipidir \n",
        "b = np.array([2,3,4,5])"
      ],
      "execution_count": null,
      "outputs": []
    },
    {
      "cell_type": "code",
      "metadata": {
        "id": "UNM-i-8I9V5W"
      },
      "source": [
        "a * b"
      ],
      "execution_count": null,
      "outputs": []
    },
    {
      "cell_type": "code",
      "metadata": {
        "id": "1YDxeyMv9V5W"
      },
      "source": [
        "np.array([1,2,3,4,5])"
      ],
      "execution_count": null,
      "outputs": []
    },
    {
      "cell_type": "code",
      "metadata": {
        "id": "TYfPpGQE9V5W"
      },
      "source": [
        "a = np.array([1,2,3,4,5])"
      ],
      "execution_count": null,
      "outputs": []
    },
    {
      "cell_type": "code",
      "metadata": {
        "id": "L0ctrAkX9V5W"
      },
      "source": [
        "type(a)"
      ],
      "execution_count": null,
      "outputs": []
    },
    {
      "cell_type": "code",
      "metadata": {
        "id": "ftcJOwaE9V5X"
      },
      "source": [
        "np.array([13.5,3,14,2], dtype = \"int\") #sabit tip sağlar her elemen için yer tutmaz"
      ],
      "execution_count": null,
      "outputs": []
    },
    {
      "cell_type": "markdown",
      "metadata": {
        "id": "1ysb1YIv9V5X"
      },
      "source": [
        "## Sıfırdan Array Oluşturma"
      ]
    },
    {
      "cell_type": "code",
      "metadata": {
        "id": "_B-tB_HG9V5Y"
      },
      "source": [
        "np.zeros(10, dtype = int)"
      ],
      "execution_count": null,
      "outputs": []
    },
    {
      "cell_type": "code",
      "metadata": {
        "id": "Kmsn4f3y9V5Y"
      },
      "source": [
        "np.ones((3,5), dtype = int)"
      ],
      "execution_count": null,
      "outputs": []
    },
    {
      "cell_type": "code",
      "metadata": {
        "id": "5JpYQWX79V5Y"
      },
      "source": [
        "np.full((3,5), 3) #2 boyutlu array"
      ],
      "execution_count": null,
      "outputs": []
    },
    {
      "cell_type": "code",
      "metadata": {
        "id": "CO6UcMco9V5Z"
      },
      "source": [
        "np.arange(0,31,3)"
      ],
      "execution_count": null,
      "outputs": []
    },
    {
      "cell_type": "code",
      "metadata": {
        "id": "eZqEj_jY9V5Z"
      },
      "source": [
        "np.linspace(0,1,10)"
      ],
      "execution_count": null,
      "outputs": []
    },
    {
      "cell_type": "code",
      "metadata": {
        "id": "zzZVs6hT9V5Z"
      },
      "source": [
        "np.random.normal(10, 4,(3,4)) #(ortalama,standart sapma, boyut) 3 e 4 lük matris 2 boyutlu array"
      ],
      "execution_count": null,
      "outputs": []
    },
    {
      "cell_type": "code",
      "metadata": {
        "id": "tGvVtr239V5a"
      },
      "source": [
        "#tek boyutlu array vektör 2 boyutlu array matristir."
      ],
      "execution_count": null,
      "outputs": []
    },
    {
      "cell_type": "code",
      "metadata": {
        "id": "S7XNK61l9V5a"
      },
      "source": [
        "np.random.randint(0,10,(3,3))"
      ],
      "execution_count": null,
      "outputs": []
    },
    {
      "cell_type": "markdown",
      "metadata": {
        "id": "knC-zb739V5a"
      },
      "source": [
        "## Numpy Array Özellikleri\n",
        "\n",
        "* **ndim** : _boyut_sayısı_ \n",
        "* **shape**: _boyut_bilgisi_\n",
        "* **size** : _Toplam Elemen Sayısı_\n",
        "* **dtype**: _Array Veri Tipi_"
      ]
    },
    {
      "cell_type": "code",
      "metadata": {
        "id": "_4-H1uEq9V5a"
      },
      "source": [
        "import numpy as np"
      ],
      "execution_count": null,
      "outputs": []
    },
    {
      "cell_type": "code",
      "metadata": {
        "id": "qwg3Ypvc9V5a"
      },
      "source": [
        "np.random.randint(10, size = 10)"
      ],
      "execution_count": null,
      "outputs": []
    },
    {
      "cell_type": "code",
      "metadata": {
        "id": "33hXRzsj9V5b"
      },
      "source": [
        "a = np.random.randint(10, size = 10)"
      ],
      "execution_count": null,
      "outputs": []
    },
    {
      "cell_type": "code",
      "metadata": {
        "id": "egIvaCji9V5b"
      },
      "source": [
        "a.ndim #boyut bilgisi"
      ],
      "execution_count": null,
      "outputs": []
    },
    {
      "cell_type": "code",
      "metadata": {
        "id": "uTYSAGwl9V5b"
      },
      "source": [
        "a.shape #boyut bilgisi"
      ],
      "execution_count": null,
      "outputs": []
    },
    {
      "cell_type": "code",
      "metadata": {
        "id": "u8ND7FtO9V5b"
      },
      "source": [
        "a.size #toplam eleman sayısı"
      ],
      "execution_count": null,
      "outputs": []
    },
    {
      "cell_type": "code",
      "metadata": {
        "id": "Yi34MA-09V5c"
      },
      "source": [
        "a.dtype"
      ],
      "execution_count": null,
      "outputs": []
    },
    {
      "cell_type": "code",
      "metadata": {
        "id": "CkL4EUtD9V5c"
      },
      "source": [
        "b = np.random.randint(10, size = (3,5))"
      ],
      "execution_count": null,
      "outputs": []
    },
    {
      "cell_type": "code",
      "metadata": {
        "id": "4lqfr8sl9V5c"
      },
      "source": [
        "b"
      ],
      "execution_count": null,
      "outputs": []
    },
    {
      "cell_type": "code",
      "metadata": {
        "id": "HXaT2H8L9V5c"
      },
      "source": [
        "b.ndim "
      ],
      "execution_count": null,
      "outputs": []
    },
    {
      "cell_type": "code",
      "metadata": {
        "id": "gwMFtrEO9V5c"
      },
      "source": [
        "b.shape"
      ],
      "execution_count": null,
      "outputs": []
    },
    {
      "cell_type": "code",
      "metadata": {
        "id": "L2ujagkS9V5d"
      },
      "source": [
        "b.size"
      ],
      "execution_count": null,
      "outputs": []
    },
    {
      "cell_type": "code",
      "metadata": {
        "id": "iXQQm_cR9V5d"
      },
      "source": [
        "b.dtype"
      ],
      "execution_count": null,
      "outputs": []
    },
    {
      "cell_type": "markdown",
      "metadata": {
        "id": "V6WMMFlS9V5d"
      },
      "source": [
        "## Yeniden Şekillendirme(reshaping)"
      ]
    },
    {
      "cell_type": "code",
      "metadata": {
        "id": "-TFEc3EM9V5e"
      },
      "source": [
        "import numpy as np"
      ],
      "execution_count": null,
      "outputs": []
    },
    {
      "cell_type": "code",
      "metadata": {
        "id": "oAQNwxbV9V5e"
      },
      "source": [
        "np.arange(1,10)"
      ],
      "execution_count": null,
      "outputs": []
    },
    {
      "cell_type": "code",
      "metadata": {
        "id": "mNiUuI1k9V5e"
      },
      "source": [
        "np.arange(1,10).reshape((3,3))"
      ],
      "execution_count": null,
      "outputs": []
    },
    {
      "cell_type": "code",
      "metadata": {
        "id": "GfAz8Wdh9V5e"
      },
      "source": [
        "a = np.arange(1,10)\n",
        "a"
      ],
      "execution_count": null,
      "outputs": []
    },
    {
      "cell_type": "code",
      "metadata": {
        "id": "byJ-sbXu9V5e"
      },
      "source": [
        "a.ndim"
      ],
      "execution_count": null,
      "outputs": []
    },
    {
      "cell_type": "code",
      "metadata": {
        "id": "6d3gNfvK9V5f"
      },
      "source": [
        "b = a.reshape((1,9)) #2 köşeli parantez matristir"
      ],
      "execution_count": null,
      "outputs": []
    },
    {
      "cell_type": "code",
      "metadata": {
        "id": "Lggsir5c9V5f"
      },
      "source": [
        "b.ndim"
      ],
      "execution_count": null,
      "outputs": []
    },
    {
      "cell_type": "markdown",
      "metadata": {
        "id": "lpdrC9Lc9V5f"
      },
      "source": [
        "## Array Birleştirme(Concatenation)"
      ]
    },
    {
      "cell_type": "code",
      "metadata": {
        "id": "8nnf0UqU9V5f"
      },
      "source": [
        "x = np.array([1,2,3])\n",
        "y = np.array([4,5,6])"
      ],
      "execution_count": null,
      "outputs": []
    },
    {
      "cell_type": "code",
      "metadata": {
        "id": "1NMds3he9V5f"
      },
      "source": [
        "np.concatenate([x,y])"
      ],
      "execution_count": null,
      "outputs": []
    },
    {
      "cell_type": "code",
      "metadata": {
        "id": "bVtVaEzU9V5g"
      },
      "source": [
        "z = np.array([7,8,9])"
      ],
      "execution_count": null,
      "outputs": []
    },
    {
      "cell_type": "code",
      "metadata": {
        "id": "5tE0GjRA9V5g"
      },
      "source": [
        "np.concatenate([x,y,z])"
      ],
      "execution_count": null,
      "outputs": []
    },
    {
      "cell_type": "code",
      "metadata": {
        "id": "Xel1Vz0u9V5g"
      },
      "source": [
        "#iki boyut"
      ],
      "execution_count": null,
      "outputs": []
    },
    {
      "cell_type": "code",
      "metadata": {
        "id": "8PZVMMCG9V5g"
      },
      "source": [
        "a = np.array([[1,2,3],\n",
        "              [4,5,6]])"
      ],
      "execution_count": null,
      "outputs": []
    },
    {
      "cell_type": "code",
      "metadata": {
        "id": "Ifc_kcgP9V5g"
      },
      "source": [
        "np.concatenate([a,a])"
      ],
      "execution_count": null,
      "outputs": []
    },
    {
      "cell_type": "code",
      "metadata": {
        "id": "pur3MIrt9V5g"
      },
      "source": [
        "np.concatenate([a,a], axis = 1) # 0 alt 1 yan "
      ],
      "execution_count": null,
      "outputs": []
    },
    {
      "cell_type": "markdown",
      "metadata": {
        "id": "bKR-cn7r9V5h"
      },
      "source": [
        "## Array Ayırma(Splitting)"
      ]
    },
    {
      "cell_type": "code",
      "metadata": {
        "id": "pa5Jh2hp9V5h"
      },
      "source": [
        "x = np.array([1,2,3,99,99,3,2,1])"
      ],
      "execution_count": null,
      "outputs": []
    },
    {
      "cell_type": "code",
      "metadata": {
        "id": "A0QcZEaJ9V5h"
      },
      "source": [
        "np.split(x, [3,5]) # e kadar"
      ],
      "execution_count": null,
      "outputs": []
    },
    {
      "cell_type": "code",
      "metadata": {
        "id": "Nqi-WGn39V5h"
      },
      "source": [
        "a,b,c = np.split(x , [3,5])"
      ],
      "execution_count": null,
      "outputs": []
    },
    {
      "cell_type": "code",
      "metadata": {
        "id": "mmLnpfKB9V5h"
      },
      "source": [
        "a"
      ],
      "execution_count": null,
      "outputs": []
    },
    {
      "cell_type": "code",
      "metadata": {
        "id": "MLVVpi8r9V5i"
      },
      "source": [
        "b"
      ],
      "execution_count": null,
      "outputs": []
    },
    {
      "cell_type": "code",
      "metadata": {
        "id": "hy7rnJcH9V5i"
      },
      "source": [
        "c"
      ],
      "execution_count": null,
      "outputs": []
    },
    {
      "cell_type": "code",
      "metadata": {
        "id": "T916sgCt9V5i"
      },
      "source": [
        "#iki boyutlu ayırma"
      ],
      "execution_count": null,
      "outputs": []
    },
    {
      "cell_type": "code",
      "metadata": {
        "id": "F2SGX-oZ9V5i"
      },
      "source": [
        "m = np.arange(16).reshape(4,4)\n",
        "m"
      ],
      "execution_count": null,
      "outputs": []
    },
    {
      "cell_type": "code",
      "metadata": {
        "id": "x2AILlQ09V5i"
      },
      "source": [
        "np.vsplit(m, [2]) #2 ye kadar"
      ],
      "execution_count": null,
      "outputs": []
    },
    {
      "cell_type": "code",
      "metadata": {
        "id": "h-HfaThL9V5j"
      },
      "source": [
        "ust, alt = np.vsplit(m,[2])"
      ],
      "execution_count": null,
      "outputs": []
    },
    {
      "cell_type": "code",
      "metadata": {
        "id": "iscJ9Ez49V5j"
      },
      "source": [
        "ust"
      ],
      "execution_count": null,
      "outputs": []
    },
    {
      "cell_type": "code",
      "metadata": {
        "id": "mW7MtWom9V5j"
      },
      "source": [
        "alt"
      ],
      "execution_count": null,
      "outputs": []
    },
    {
      "cell_type": "code",
      "metadata": {
        "id": "QFMlrTId9V5j"
      },
      "source": [
        "m"
      ],
      "execution_count": null,
      "outputs": []
    },
    {
      "cell_type": "code",
      "metadata": {
        "id": "sptren_h9V5j"
      },
      "source": [
        "np.hsplit(m,[2])"
      ],
      "execution_count": null,
      "outputs": []
    },
    {
      "cell_type": "code",
      "metadata": {
        "id": "j2Oa_7qm9V5k"
      },
      "source": [
        "sag , sol = np.hsplit(m,[2])"
      ],
      "execution_count": null,
      "outputs": []
    },
    {
      "cell_type": "code",
      "metadata": {
        "id": "1geDZdeA9V5k"
      },
      "source": [
        "sag"
      ],
      "execution_count": null,
      "outputs": []
    },
    {
      "cell_type": "code",
      "metadata": {
        "id": "KfIM2CmF9V5k"
      },
      "source": [
        "sol"
      ],
      "execution_count": null,
      "outputs": []
    },
    {
      "cell_type": "markdown",
      "metadata": {
        "id": "oYIvLUC89V5k"
      },
      "source": [
        "## Array Sıralama(Sorting)"
      ]
    },
    {
      "cell_type": "code",
      "metadata": {
        "id": "pd-of4PE9V5k"
      },
      "source": [
        "v = np.array([2,5,9,78,4])\n",
        "v"
      ],
      "execution_count": null,
      "outputs": []
    },
    {
      "cell_type": "code",
      "metadata": {
        "id": "SRdCAWCG9V5l"
      },
      "source": [
        "np.sort(v)"
      ],
      "execution_count": null,
      "outputs": []
    },
    {
      "cell_type": "code",
      "metadata": {
        "id": "4_l82-sI9V5l"
      },
      "source": [
        "v.sort() #ölümcül fonk yeniden düzenler \n",
        "v"
      ],
      "execution_count": null,
      "outputs": []
    },
    {
      "cell_type": "code",
      "metadata": {
        "id": "rwwNeU4Y9V5l"
      },
      "source": [
        "#iki boyutlu array sıralama"
      ],
      "execution_count": null,
      "outputs": []
    },
    {
      "cell_type": "code",
      "metadata": {
        "id": "xBXD71Bl9V5l"
      },
      "source": [
        "x = np.random.normal(20,5,(3,3))\n",
        "x"
      ],
      "execution_count": null,
      "outputs": []
    },
    {
      "cell_type": "code",
      "metadata": {
        "id": "o5BIk1D99V5l"
      },
      "source": [
        "np.sort(x, axis = 1) #1 satır 2 sütun"
      ],
      "execution_count": null,
      "outputs": []
    },
    {
      "cell_type": "code",
      "metadata": {
        "id": "9bgr7BzB9V5m"
      },
      "source": [
        "np.sort(x, axis = 0)"
      ],
      "execution_count": null,
      "outputs": []
    },
    {
      "cell_type": "code",
      "metadata": {
        "id": "7-1IHq_K9V5m"
      },
      "source": [
        "np.random.randint(10, size = (3,3,2)) #3 tane 3 e 2 lik matris"
      ],
      "execution_count": null,
      "outputs": []
    },
    {
      "cell_type": "code",
      "metadata": {
        "id": "gQtV09Ri9V5m"
      },
      "source": [
        "5*np.array([1,2,3])"
      ],
      "execution_count": null,
      "outputs": []
    },
    {
      "cell_type": "markdown",
      "metadata": {
        "id": "5tdSpy1s9V5m"
      },
      "source": [
        "## İndex ile Elemanlara Erişmek"
      ]
    },
    {
      "cell_type": "code",
      "metadata": {
        "id": "Tkafn1W09V5n"
      },
      "source": [
        "import numpy as np\n",
        "a = np.random.randint(10, size= 10)\n",
        "a"
      ],
      "execution_count": null,
      "outputs": []
    },
    {
      "cell_type": "code",
      "metadata": {
        "id": "1yC6pHK49V5n"
      },
      "source": [
        "a[0]"
      ],
      "execution_count": null,
      "outputs": []
    },
    {
      "cell_type": "code",
      "metadata": {
        "id": "Tc7SkEWN9V5n"
      },
      "source": [
        "a[0] = 100"
      ],
      "execution_count": null,
      "outputs": []
    },
    {
      "cell_type": "code",
      "metadata": {
        "id": "ThWzz8PJ9V5n"
      },
      "source": [
        "a"
      ],
      "execution_count": null,
      "outputs": []
    },
    {
      "cell_type": "code",
      "metadata": {
        "id": "G1mi5_vk9V5n"
      },
      "source": [
        "m = np.random.randint(10, size= (3,5)) #size = 5 tek boyutlu size = (3,5) 2 boyutlu array\n",
        "m"
      ],
      "execution_count": null,
      "outputs": []
    },
    {
      "cell_type": "code",
      "metadata": {
        "id": "kR7h4lyd9V5o"
      },
      "source": [
        "m[0][0]"
      ],
      "execution_count": null,
      "outputs": []
    },
    {
      "cell_type": "code",
      "metadata": {
        "id": "FTrhYGEk9V5o"
      },
      "source": [
        "m[1][1]"
      ],
      "execution_count": null,
      "outputs": []
    },
    {
      "cell_type": "code",
      "metadata": {
        "id": "6Cpxavqb9V5o"
      },
      "source": [
        "m[2][4] #m[2,4]"
      ],
      "execution_count": null,
      "outputs": []
    },
    {
      "cell_type": "code",
      "metadata": {
        "id": "HJUYy9399V5p"
      },
      "source": [
        "m[2,4] = 99\n",
        "m"
      ],
      "execution_count": null,
      "outputs": []
    },
    {
      "cell_type": "code",
      "metadata": {
        "id": "9apq4e5Z9V5p"
      },
      "source": [
        "m[1,4] = 2.2 #oluşturmada ondalık varsa hepsi ondalık dışarıdan float eklersek ama eklemez çünkü oturmuş tip var ayak uyduramamaz\n",
        "m"
      ],
      "execution_count": null,
      "outputs": []
    },
    {
      "cell_type": "markdown",
      "metadata": {
        "id": "5AS8SED59V5p"
      },
      "source": [
        "## Slicing ile Elemanlara Erişmek(Array Alt Kümesine Erişmek)"
      ]
    },
    {
      "cell_type": "code",
      "metadata": {
        "id": "DqOGsUYM9V5p"
      },
      "source": [
        "import numpy as np"
      ],
      "execution_count": null,
      "outputs": []
    },
    {
      "cell_type": "code",
      "metadata": {
        "id": "AhT7K1x_9V5p"
      },
      "source": [
        "a = np.arange(20,30)\n",
        "a"
      ],
      "execution_count": null,
      "outputs": []
    },
    {
      "cell_type": "code",
      "metadata": {
        "id": "AhkakYxe9V5q"
      },
      "source": [
        "a[0:3]"
      ],
      "execution_count": null,
      "outputs": []
    },
    {
      "cell_type": "code",
      "metadata": {
        "id": "YS7-IHeh9V5q"
      },
      "source": [
        "# iki boyutlu slice işlemleri"
      ],
      "execution_count": null,
      "outputs": []
    },
    {
      "cell_type": "code",
      "metadata": {
        "id": "4hkYRrih9V5q"
      },
      "source": [
        "m = np.random.randint(10, size = (5,5))\n",
        "m"
      ],
      "execution_count": null,
      "outputs": []
    },
    {
      "cell_type": "code",
      "metadata": {
        "id": "r44wuJR29V5q"
      },
      "source": [
        "m[:,0]"
      ],
      "execution_count": null,
      "outputs": []
    },
    {
      "cell_type": "code",
      "metadata": {
        "id": "8L1362Ri9V5q"
      },
      "source": [
        "m[:,1]"
      ],
      "execution_count": null,
      "outputs": []
    },
    {
      "cell_type": "code",
      "metadata": {
        "id": "rdv_9LyN9V5r"
      },
      "source": [
        "m[0,:] #0.satır ve tüm sütunlar"
      ],
      "execution_count": null,
      "outputs": []
    },
    {
      "cell_type": "code",
      "metadata": {
        "id": "Ds6Cqr6_9V5r"
      },
      "source": [
        "m[0]"
      ],
      "execution_count": null,
      "outputs": []
    },
    {
      "cell_type": "code",
      "metadata": {
        "id": "dhid7fLn9V5r"
      },
      "source": [
        "m[1,:]"
      ],
      "execution_count": null,
      "outputs": []
    },
    {
      "cell_type": "code",
      "metadata": {
        "id": "7HefAgJk9V5r"
      },
      "source": [
        "m[0:2 , 0:3]"
      ],
      "execution_count": null,
      "outputs": []
    },
    {
      "cell_type": "code",
      "metadata": {
        "id": "VsM_94IU9V5s"
      },
      "source": [
        "m[::,:2] #m[::,:2]"
      ],
      "execution_count": null,
      "outputs": []
    },
    {
      "cell_type": "code",
      "metadata": {
        "id": "dN1RARQt9V5s"
      },
      "source": [
        "m"
      ],
      "execution_count": null,
      "outputs": []
    },
    {
      "cell_type": "code",
      "metadata": {
        "id": "8Xpj3Kyw9V5s"
      },
      "source": [
        "m[1:3,0:2]"
      ],
      "execution_count": null,
      "outputs": []
    },
    {
      "cell_type": "markdown",
      "metadata": {
        "id": "L3LDX2l69V5s"
      },
      "source": [
        "## Alt Küme Üzerinde İşlem Yapmak"
      ]
    },
    {
      "cell_type": "code",
      "metadata": {
        "id": "Jidy49MD9V5s"
      },
      "source": [
        "import numpy as np\n",
        "a = np.random.randint(10, size = (5,5))\n",
        "a"
      ],
      "execution_count": null,
      "outputs": []
    },
    {
      "cell_type": "code",
      "metadata": {
        "id": "wQVx88Tr9V5t"
      },
      "source": [
        "alt_a = a[0:3,0:2]\n",
        "alt_a"
      ],
      "execution_count": null,
      "outputs": []
    },
    {
      "cell_type": "code",
      "metadata": {
        "id": "dliZyCUM9V5t"
      },
      "source": [
        "alt_a[0,0] = 9999\n",
        "alt_a[1,1] = 888\n",
        "alt_a"
      ],
      "execution_count": null,
      "outputs": []
    },
    {
      "cell_type": "code",
      "metadata": {
        "id": "dTmihzt_9V5t"
      },
      "source": [
        "a"
      ],
      "execution_count": null,
      "outputs": []
    },
    {
      "cell_type": "code",
      "metadata": {
        "id": "F0cIRoV79V5t"
      },
      "source": [
        "m = np.random.randint(10, size = (5,5))\n",
        "m"
      ],
      "execution_count": null,
      "outputs": []
    },
    {
      "cell_type": "code",
      "metadata": {
        "id": "mfE8YoTg9V5u"
      },
      "source": [
        "alt_b = m[0:3,0:2].copy()\n",
        "alt_b"
      ],
      "execution_count": null,
      "outputs": []
    },
    {
      "cell_type": "code",
      "metadata": {
        "id": "HFr_9TXh9V5u"
      },
      "source": [
        "alt_b[0,0]  = 55\n",
        "alt_b"
      ],
      "execution_count": null,
      "outputs": []
    },
    {
      "cell_type": "code",
      "metadata": {
        "id": "RGTmwIYc9V5v"
      },
      "source": [
        "m"
      ],
      "execution_count": null,
      "outputs": []
    },
    {
      "cell_type": "markdown",
      "metadata": {
        "id": "Ck-EsQuF9V5v"
      },
      "source": [
        "## Fancy Index İle Elemanlara Erişmek"
      ]
    },
    {
      "cell_type": "code",
      "metadata": {
        "id": "Ql7TEvhV9V5w"
      },
      "source": [
        "import numpy as np\n",
        "v = np.arange(0,30,3)\n",
        "v"
      ],
      "execution_count": null,
      "outputs": []
    },
    {
      "cell_type": "code",
      "metadata": {
        "id": "K0hHFeBy9V5w"
      },
      "source": [
        "v[1]"
      ],
      "execution_count": null,
      "outputs": []
    },
    {
      "cell_type": "code",
      "metadata": {
        "id": "XFUSAJKQ9V5w"
      },
      "source": [
        "v[3]"
      ],
      "execution_count": null,
      "outputs": []
    },
    {
      "cell_type": "code",
      "metadata": {
        "id": "ecC7tHlx9V5w"
      },
      "source": [
        "[v[1], v[2], v[3]]"
      ],
      "execution_count": null,
      "outputs": []
    },
    {
      "cell_type": "code",
      "metadata": {
        "id": "XEowLsZ-9V5x"
      },
      "source": [
        "al_getir = [1,3,5]"
      ],
      "execution_count": null,
      "outputs": []
    },
    {
      "cell_type": "code",
      "metadata": {
        "id": "91joqVIT9V5x"
      },
      "source": [
        "v"
      ],
      "execution_count": null,
      "outputs": []
    },
    {
      "cell_type": "code",
      "metadata": {
        "id": "ZAqEYhaF9V5x"
      },
      "source": [
        "v[al_getir]"
      ],
      "execution_count": null,
      "outputs": []
    },
    {
      "cell_type": "code",
      "metadata": {
        "id": "nCZgOkpA9V5x"
      },
      "source": [
        "# 2 boyutta fancy"
      ],
      "execution_count": null,
      "outputs": []
    },
    {
      "cell_type": "code",
      "metadata": {
        "id": "z7YCg5fF9V5x"
      },
      "source": [
        "m = np.arange(9).reshape((3,3))\n",
        "m"
      ],
      "execution_count": null,
      "outputs": []
    },
    {
      "cell_type": "code",
      "metadata": {
        "id": "ZLHOPBmD9V5y"
      },
      "source": [
        "satir = np.array([0,1])\n",
        "sutun = np.array([1,2])"
      ],
      "execution_count": null,
      "outputs": []
    },
    {
      "cell_type": "code",
      "metadata": {
        "id": "mmlZU8Em9V5y"
      },
      "source": [
        "m[satir,sutun]"
      ],
      "execution_count": null,
      "outputs": []
    },
    {
      "cell_type": "code",
      "metadata": {
        "id": "eLN8PYh19V5y"
      },
      "source": [
        "# basit index ile fancy index"
      ],
      "execution_count": null,
      "outputs": []
    },
    {
      "cell_type": "code",
      "metadata": {
        "id": "whDazkaB9V5y"
      },
      "source": [
        "m"
      ],
      "execution_count": null,
      "outputs": []
    },
    {
      "cell_type": "code",
      "metadata": {
        "id": "v8nWygRK9V5y"
      },
      "source": [
        "m[0,[1,2]]"
      ],
      "execution_count": null,
      "outputs": []
    },
    {
      "cell_type": "code",
      "metadata": {
        "id": "rmUi176o9V5z"
      },
      "source": [
        "#slice ile fancy"
      ],
      "execution_count": null,
      "outputs": []
    },
    {
      "cell_type": "code",
      "metadata": {
        "id": "UEm-qg409V5z"
      },
      "source": [
        "m[0:, [1,2]]"
      ],
      "execution_count": null,
      "outputs": []
    },
    {
      "cell_type": "markdown",
      "metadata": {
        "id": "YU8oUwtt9V5z"
      },
      "source": [
        "## Koşullu Eleman İşlemleri"
      ]
    },
    {
      "cell_type": "code",
      "metadata": {
        "id": "91SIBZRk9V5z"
      },
      "source": [
        "import numpy as np\n",
        "v = np.array([1,2,3,4,5])\n",
        "v"
      ],
      "execution_count": null,
      "outputs": []
    },
    {
      "cell_type": "code",
      "metadata": {
        "id": "2w0TvoBU9V5z"
      },
      "source": [
        "v > 5"
      ],
      "execution_count": null,
      "outputs": []
    },
    {
      "cell_type": "code",
      "metadata": {
        "id": "jyERtyix9V50"
      },
      "source": [
        "v > 3"
      ],
      "execution_count": null,
      "outputs": []
    },
    {
      "cell_type": "code",
      "metadata": {
        "id": "yzpbMqtx9V50"
      },
      "source": [
        "v[v< 3]"
      ],
      "execution_count": null,
      "outputs": []
    },
    {
      "cell_type": "code",
      "metadata": {
        "id": "K-_zEAIu9V50"
      },
      "source": [
        "v[v <= 3]"
      ],
      "execution_count": null,
      "outputs": []
    },
    {
      "cell_type": "code",
      "metadata": {
        "id": "m7y0vpDx9V50"
      },
      "source": [
        "v"
      ],
      "execution_count": null,
      "outputs": []
    },
    {
      "cell_type": "code",
      "metadata": {
        "id": "0z2xeHKZ9V50"
      },
      "source": [
        "v * 2"
      ],
      "execution_count": null,
      "outputs": []
    },
    {
      "cell_type": "code",
      "metadata": {
        "id": "kkzEacv49V51"
      },
      "source": [
        "v / 5"
      ],
      "execution_count": null,
      "outputs": []
    },
    {
      "cell_type": "markdown",
      "metadata": {
        "id": "P2XTj4FN9V51"
      },
      "source": [
        "## Matematiksel İşlemler"
      ]
    },
    {
      "cell_type": "code",
      "metadata": {
        "id": "IMdvspyy9V51"
      },
      "source": [
        "import numpy as np\n",
        "v = np.array([1,2,3,4,5])\n",
        "v"
      ],
      "execution_count": null,
      "outputs": []
    },
    {
      "cell_type": "code",
      "metadata": {
        "id": "d94r2EQD9V51"
      },
      "source": [
        "v - 1"
      ],
      "execution_count": null,
      "outputs": []
    },
    {
      "cell_type": "code",
      "metadata": {
        "id": "DfNhEHsf9V52"
      },
      "source": [
        "v * 5"
      ],
      "execution_count": null,
      "outputs": []
    },
    {
      "cell_type": "code",
      "metadata": {
        "id": "S3X4touK9V52"
      },
      "source": [
        "#ufunc"
      ],
      "execution_count": null,
      "outputs": []
    },
    {
      "cell_type": "code",
      "metadata": {
        "id": "VyJh1tkW9V52"
      },
      "source": [
        "np.subtract(v,1)"
      ],
      "execution_count": null,
      "outputs": []
    },
    {
      "cell_type": "code",
      "metadata": {
        "id": "p_Z33Ia29V53"
      },
      "source": [
        "np.add(v,1)"
      ],
      "execution_count": null,
      "outputs": []
    },
    {
      "cell_type": "code",
      "metadata": {
        "id": "LObmzsDP9V53"
      },
      "source": [
        "np.multiply(v,4)"
      ],
      "execution_count": null,
      "outputs": []
    },
    {
      "cell_type": "code",
      "metadata": {
        "id": "Gc8d9wSh9V53"
      },
      "source": [
        "np.divide(v,3)"
      ],
      "execution_count": null,
      "outputs": []
    },
    {
      "cell_type": "code",
      "metadata": {
        "id": "6zgIxURy9V53"
      },
      "source": [
        "v**2"
      ],
      "execution_count": null,
      "outputs": []
    },
    {
      "cell_type": "code",
      "metadata": {
        "id": "Qkf58Cj49V54"
      },
      "source": [
        "np.power(v,3)"
      ],
      "execution_count": null,
      "outputs": []
    },
    {
      "cell_type": "code",
      "metadata": {
        "id": "NZA8_oPI9V54"
      },
      "source": [
        "v % 2"
      ],
      "execution_count": null,
      "outputs": []
    },
    {
      "cell_type": "code",
      "metadata": {
        "id": "a-XKEYRy9V54"
      },
      "source": [
        "np.mod(v,2)"
      ],
      "execution_count": null,
      "outputs": []
    },
    {
      "cell_type": "code",
      "metadata": {
        "id": "3Sc7mKZe9V54"
      },
      "source": [
        "np.absolute(np.array([-3])) #mutlak değer"
      ],
      "execution_count": null,
      "outputs": []
    },
    {
      "cell_type": "code",
      "metadata": {
        "id": "aozZNaqt9V55"
      },
      "source": [
        "np.sin(360)"
      ],
      "execution_count": null,
      "outputs": []
    },
    {
      "cell_type": "code",
      "metadata": {
        "id": "AOzJGvQI9V55"
      },
      "source": [
        "np.cos(180)"
      ],
      "execution_count": null,
      "outputs": []
    },
    {
      "cell_type": "code",
      "metadata": {
        "id": "PSCIqLQF9V55"
      },
      "source": [
        "v = np.array([1,2,3])"
      ],
      "execution_count": null,
      "outputs": []
    },
    {
      "cell_type": "code",
      "metadata": {
        "id": "G7yYSTvc9V55"
      },
      "source": [
        "np.log(v)"
      ],
      "execution_count": null,
      "outputs": []
    },
    {
      "cell_type": "code",
      "metadata": {
        "id": "-fI0FgOD9V56"
      },
      "source": [
        "np.log10(v) #log ___ taban değişimi"
      ],
      "execution_count": null,
      "outputs": []
    },
    {
      "cell_type": "code",
      "metadata": {
        "id": "YXD9c4G79V56"
      },
      "source": [
        "?np"
      ],
      "execution_count": null,
      "outputs": []
    },
    {
      "cell_type": "code",
      "metadata": {
        "id": "9fNCq0Eu9V56"
      },
      "source": [
        "#cheatsheet"
      ],
      "execution_count": null,
      "outputs": []
    },
    {
      "cell_type": "markdown",
      "metadata": {
        "id": "SGDhVcio9V56"
      },
      "source": [
        "## İstatiksel Hesaplamalar"
      ]
    },
    {
      "cell_type": "code",
      "metadata": {
        "id": "dorXJEOJ9V57"
      },
      "source": [
        "np.mean(v,axis=0)  #Returns mean along specific axis"
      ],
      "execution_count": null,
      "outputs": []
    },
    {
      "cell_type": "code",
      "metadata": {
        "id": "LYm9rLtM9V57"
      },
      "source": [
        "v.sum()  #Returns sum of arr"
      ],
      "execution_count": null,
      "outputs": []
    },
    {
      "cell_type": "code",
      "metadata": {
        "id": "AQPv47yc9V57"
      },
      "source": [
        "v.min()  #Returns minimum value of arr"
      ],
      "execution_count": null,
      "outputs": []
    },
    {
      "cell_type": "code",
      "metadata": {
        "id": "Iq4hK7Ca9V57"
      },
      "source": [
        "v.max(axis=0)  #Returns maximum value of specific axis"
      ],
      "execution_count": null,
      "outputs": []
    },
    {
      "cell_type": "code",
      "metadata": {
        "id": "ammgLhao9V58"
      },
      "source": [
        "np.var(v)  #Returns the variance of array"
      ],
      "execution_count": null,
      "outputs": []
    },
    {
      "cell_type": "code",
      "metadata": {
        "id": "oZWi7kCN9V58"
      },
      "source": [
        "np.std(v)  #Returns the standard deviation of specific axis"
      ],
      "execution_count": null,
      "outputs": []
    },
    {
      "cell_type": "markdown",
      "metadata": {
        "id": "CqRtVJ9A9V58"
      },
      "source": [
        "## Numpy İle İki Bilinmeyenli Denklem Çözümü"
      ]
    },
    {
      "cell_type": "code",
      "metadata": {
        "id": "IIETi7vu9V58"
      },
      "source": [
        "import numpy as np"
      ],
      "execution_count": null,
      "outputs": []
    },
    {
      "cell_type": "markdown",
      "metadata": {
        "id": "VpKMIa0O9V58"
      },
      "source": [
        "5 * x0 + x1 = 12   \n",
        "x0 + 3 * x1 = 10"
      ]
    },
    {
      "cell_type": "code",
      "metadata": {
        "id": "3hyG0FEl9V59"
      },
      "source": [
        "a = np.array([[5,1],[1,3]]) # 5 birinci bilinemeyen kat sayısı  1 2.bilinmeyen kat sayısı\n",
        "# 1 birinci bilinemeyen kat sayısı  3 2.bilinmeyen kat sayısı x1 önünde gizli bir 1 bulunur belirtmemiz lazım"
      ],
      "execution_count": null,
      "outputs": []
    },
    {
      "cell_type": "code",
      "metadata": {
        "id": "4-WmzN829V59"
      },
      "source": [
        "a = np.array([[5,1],[1,3]])\n",
        "b = np.array([12,10]) #eşitliğin karşılığındaki değerler"
      ],
      "execution_count": null,
      "outputs": []
    },
    {
      "cell_type": "code",
      "metadata": {
        "id": "qQOZUcHm9V59"
      },
      "source": [
        "a"
      ],
      "execution_count": null,
      "outputs": []
    },
    {
      "cell_type": "code",
      "metadata": {
        "id": "uAmXxRtS9V59"
      },
      "source": [
        "b"
      ],
      "execution_count": null,
      "outputs": []
    },
    {
      "cell_type": "code",
      "metadata": {
        "id": "S5KFvLNM9V5-"
      },
      "source": [
        "x = np.linalg.solve(a,b) #1.ve 2.argüman arasındaki ilişki sonucundaki katsayıları hesapla\n",
        "x"
      ],
      "execution_count": null,
      "outputs": []
    },
    {
      "cell_type": "code",
      "metadata": {
        "id": "EJTC_1i89V5-"
      },
      "source": [
        "a = np.array([[4, 7, 4, 5, 9],\n",
        "        [2, 5, 0, 7, 7],\n",
        "        [1, 9, 0, 8, 2]])\n",
        "a[:,2]"
      ],
      "execution_count": null,
      "outputs": []
    },
    {
      "cell_type": "code",
      "metadata": {
        "id": "eHjQSPDo9V5-"
      },
      "source": [
        ""
      ],
      "execution_count": null,
      "outputs": []
    },
    {
      "cell_type": "markdown",
      "metadata": {
        "id": "0yp5Bu7c9oic"
      },
      "source": [
        "# *Veriye İlk Bakış (Veri Görselleştirme)*"
      ]
    },
    {
      "cell_type": "code",
      "metadata": {
        "id": "PdyDQYTb9oik"
      },
      "source": [
        "#Veri seti hikayesi ve yapısının incelenemesi"
      ],
      "execution_count": null,
      "outputs": []
    },
    {
      "cell_type": "code",
      "metadata": {
        "id": "7ZsaELsG9oil"
      },
      "source": [
        "import seaborn as sns\n",
        "planets = sns.load_dataset(\"planets\")\n",
        "planets.head()"
      ],
      "execution_count": null,
      "outputs": []
    },
    {
      "cell_type": "code",
      "metadata": {
        "id": "oj0HzByh9oim"
      },
      "source": [
        "#Soru 1 ----> #veri setinin hikayesi nedir?"
      ],
      "execution_count": null,
      "outputs": []
    },
    {
      "cell_type": "code",
      "metadata": {
        "id": "os0STNf19oin"
      },
      "source": [
        "df = planets.copy()"
      ],
      "execution_count": null,
      "outputs": []
    },
    {
      "cell_type": "code",
      "metadata": {
        "id": "X-hkUBXu9oin"
      },
      "source": [
        "df.head()"
      ],
      "execution_count": null,
      "outputs": []
    },
    {
      "cell_type": "code",
      "metadata": {
        "id": "OS6c0ZUq9oio"
      },
      "source": [
        "df.tail()"
      ],
      "execution_count": null,
      "outputs": []
    },
    {
      "cell_type": "code",
      "metadata": {
        "id": "4FxKLJPz9oio"
      },
      "source": [
        "# veri seti yapısal bilgileri"
      ],
      "execution_count": null,
      "outputs": []
    },
    {
      "cell_type": "code",
      "metadata": {
        "id": "zZMFlSqc9oip"
      },
      "source": [
        "df.info()"
      ],
      "execution_count": null,
      "outputs": []
    },
    {
      "cell_type": "code",
      "metadata": {
        "id": "CEv25vxz9oip"
      },
      "source": [
        "df.dtypes"
      ],
      "execution_count": null,
      "outputs": []
    },
    {
      "cell_type": "code",
      "metadata": {
        "id": "xbA0asGb9oiq"
      },
      "source": [
        "#objective tipini kategorik tipine dönüştürlmeli"
      ],
      "execution_count": null,
      "outputs": []
    },
    {
      "cell_type": "code",
      "metadata": {
        "id": "Pc55Gt-b9oiq"
      },
      "source": [
        "import pandas as pd\n",
        "df.method = pd.Categorical(df.method)\n",
        "df.dtypes"
      ],
      "execution_count": null,
      "outputs": []
    },
    {
      "cell_type": "code",
      "metadata": {
        "id": "RiG-8-YO9oir"
      },
      "source": [
        "df.head()"
      ],
      "execution_count": null,
      "outputs": []
    },
    {
      "cell_type": "markdown",
      "metadata": {
        "id": "3I9O3oPs9oir"
      },
      "source": [
        "## Veri Setinin Betimlenmesi"
      ]
    },
    {
      "cell_type": "code",
      "metadata": {
        "id": "MaKOfYSn9oir"
      },
      "source": [
        "import seaborn as sns\n",
        "planets = sns.load_dataset(\"planets\")\n",
        "df = planets.copy()"
      ],
      "execution_count": null,
      "outputs": []
    },
    {
      "cell_type": "code",
      "metadata": {
        "id": "TI3jKJ-g9ois"
      },
      "source": [
        "df.head()"
      ],
      "execution_count": null,
      "outputs": []
    },
    {
      "cell_type": "code",
      "metadata": {
        "id": "RwKVqka29ois"
      },
      "source": [
        "df.shape"
      ],
      "execution_count": null,
      "outputs": []
    },
    {
      "cell_type": "code",
      "metadata": {
        "id": "sapcC-Vr9oit"
      },
      "source": [
        "df.columns"
      ],
      "execution_count": null,
      "outputs": []
    },
    {
      "cell_type": "code",
      "metadata": {
        "id": "ZGZ5fw8b9oit"
      },
      "source": [
        "df.describe().T #eksik gözlemleri göz ardı eder ve kategorik değişkenleri dışarda bırakır"
      ],
      "execution_count": null,
      "outputs": []
    },
    {
      "cell_type": "code",
      "metadata": {
        "id": "8GpXcPAt9oiu"
      },
      "source": [
        " df.describe(include = \"all\").T"
      ],
      "execution_count": null,
      "outputs": []
    },
    {
      "cell_type": "markdown",
      "metadata": {
        "id": "t6wBl_CD9oiu"
      },
      "source": [
        "## Eksik Değerlerin İncelenmesi"
      ]
    },
    {
      "cell_type": "code",
      "metadata": {
        "id": "HEiIOPJu9oiu"
      },
      "source": [
        "import seaborn as sns\n",
        "planets = sns.load_dataset(\"planets\")\n",
        "df = planets.copy()\n",
        "df.head()"
      ],
      "execution_count": null,
      "outputs": []
    },
    {
      "cell_type": "code",
      "metadata": {
        "id": "m6-BBJ5S9oiv"
      },
      "source": [
        "#hiç eksik gözlem(değer) var mı?\n",
        "df.isnull().values.any()"
      ],
      "execution_count": null,
      "outputs": []
    },
    {
      "cell_type": "code",
      "metadata": {
        "id": "tKeBbBy39oiv"
      },
      "source": [
        "#hangi değişkende kaçar tane var\n",
        "df.isnull().sum()"
      ],
      "execution_count": null,
      "outputs": []
    },
    {
      "cell_type": "code",
      "metadata": {
        "id": "Jaqy9FPm9oiv"
      },
      "source": [
        "#df[\"degisken_ismi\"].fillna(0, inplace = True) tüm değersizleri 0 yapmak"
      ],
      "execution_count": null,
      "outputs": []
    },
    {
      "cell_type": "code",
      "metadata": {
        "id": "ww9or9xb9oiw"
      },
      "source": [
        "#df[\"mass\"].fillna(df.mass.mean(), inplace = True) mass değişkeni içindeki eksik değerler yerine ortalamayı eklemek"
      ],
      "execution_count": null,
      "outputs": []
    },
    {
      "cell_type": "code",
      "metadata": {
        "id": "vwqZHg4_9oiw"
      },
      "source": [
        "#df.fillna(df.mean(), inplace = True) tüm eksik değerlerin içine ortlama değişkeni atanacak"
      ],
      "execution_count": null,
      "outputs": []
    },
    {
      "cell_type": "markdown",
      "metadata": {
        "id": "Mu-gLAiu9oiw"
      },
      "source": [
        "## Kategorik Değişken Özellikleri"
      ]
    },
    {
      "cell_type": "code",
      "metadata": {
        "id": "QMO9KMRK9oix"
      },
      "source": [
        "import seaborn as sns\n",
        "planets = sns.load_dataset(\"planets\")\n",
        "df = planets.copy()\n",
        "df.head()"
      ],
      "execution_count": null,
      "outputs": []
    },
    {
      "cell_type": "markdown",
      "metadata": {
        "id": "ANHlsRMf9oix"
      },
      "source": [
        "Sadece Kategorik Değişkenler ve Özetleri"
      ]
    },
    {
      "cell_type": "code",
      "metadata": {
        "id": "PDG88s-E9oix"
      },
      "source": [
        "kat_df = df.select_dtypes(include = [\"object\"]) #dataframe içerisinde istediğimiz tipe göre değişken seçmek için kulalnılır."
      ],
      "execution_count": null,
      "outputs": []
    },
    {
      "cell_type": "code",
      "metadata": {
        "id": "3bqktid39oiy"
      },
      "source": [
        "kat_df.head()"
      ],
      "execution_count": null,
      "outputs": []
    },
    {
      "cell_type": "markdown",
      "metadata": {
        "id": "21ZfW5Fh9oiy"
      },
      "source": [
        "Kategorik Değişkenin Sınıflarına ve Sınıf Sayısına Erişmek"
      ]
    },
    {
      "cell_type": "code",
      "metadata": {
        "id": "AbMJD8NU9oiy"
      },
      "source": [
        "kat_df.method.unique()"
      ],
      "execution_count": null,
      "outputs": []
    },
    {
      "cell_type": "code",
      "metadata": {
        "id": "18dov0Xq9oiz"
      },
      "source": [
        "kat_df[\"method\"].value_counts().count()"
      ],
      "execution_count": null,
      "outputs": []
    },
    {
      "cell_type": "markdown",
      "metadata": {
        "id": "gBR83aML9oiz"
      },
      "source": [
        "Kategorik Değişkenin Sınıflarının Frekanslarına Erişmek"
      ]
    },
    {
      "cell_type": "code",
      "metadata": {
        "id": "AF-iR8vu9oiz"
      },
      "source": [
        "kat_df[\"method\"].value_counts()"
      ],
      "execution_count": null,
      "outputs": []
    },
    {
      "cell_type": "code",
      "metadata": {
        "id": "3kAg0b6k9oi0"
      },
      "source": [
        "df[\"method\"].value_counts().plot.barh(); #barh eklemek sütun grafiği ver demek"
      ],
      "execution_count": null,
      "outputs": []
    },
    {
      "cell_type": "markdown",
      "metadata": {
        "id": "WV63FeU19oi0"
      },
      "source": [
        "## Sürekli Değişken Özetleri"
      ]
    },
    {
      "cell_type": "code",
      "metadata": {
        "id": "VQFfWEs19oi0"
      },
      "source": [
        "import seaborn as sns\n",
        "planets = sns.load_dataset(\"planets\")\n",
        "df = planets.copy()\n",
        "df.head()"
      ],
      "execution_count": null,
      "outputs": []
    },
    {
      "cell_type": "code",
      "metadata": {
        "id": "ll1rnxUs9oi1"
      },
      "source": [
        "df_num = df.select_dtypes(include = [\"float64\",\"int64\"])\n",
        "df_num.head()"
      ],
      "execution_count": null,
      "outputs": []
    },
    {
      "cell_type": "code",
      "metadata": {
        "id": "kUqADKjv9oi1"
      },
      "source": [
        "df_num.describe().T #betimsel istatistikler discribe"
      ],
      "execution_count": null,
      "outputs": []
    },
    {
      "cell_type": "code",
      "metadata": {
        "id": "Y1g6hj5I9oi1"
      },
      "source": [
        "df_num[\"distance\"].describe()"
      ],
      "execution_count": null,
      "outputs": []
    },
    {
      "cell_type": "code",
      "metadata": {
        "id": "w1ObAOyI9oi2"
      },
      "source": [
        "print(\"Ortalama: \" + str(df_num[\"distance\"].mean()))\n",
        "print(\"Dolu Gözlem Sayısı: \" + str(df_num[\"distance\"].count())) \n",
        "print(\"Maksimum Değer: \" + str(df_num[\"distance\"].max()))\n",
        "print(\"Minimum Değer: \" + str(df_num[\"distance\"].min()))\n",
        "print(\"Medyan: \" + str(df_num[\"distance\"].median()))\n",
        "print(\"Standart Sapma: \" + str(df_num[\"distance\"].std()))"
      ],
      "execution_count": null,
      "outputs": []
    },
    {
      "cell_type": "markdown",
      "metadata": {
        "id": "yjTaulJu9oi2"
      },
      "source": [
        "## Dağılım Grafikleri"
      ]
    },
    {
      "cell_type": "markdown",
      "metadata": {
        "id": "0T4CmaMY9oi3"
      },
      "source": [
        "* Barplot"
      ]
    },
    {
      "cell_type": "markdown",
      "metadata": {
        "id": "ZzcCClW-9oi3"
      },
      "source": [
        "-Sütun grafik tekniği kategorik verileri görselleştirmek için kullanılır"
      ]
    },
    {
      "cell_type": "markdown",
      "metadata": {
        "id": "ZTVf1yOP9oi3"
      },
      "source": [
        "Veri Seti Hikayesi\n",
        "\n",
        "price: dolar cinsinde fiyat ( 326– 18,823)\n",
        "\n",
        "carat: ağırlık (0.2–5.01)\n",
        "\n",
        "cut: kalite (Fair, Good, Very Good, Premium, Ideal)\n",
        "\n",
        "color: renk (from J (worst) to D (best))\n",
        "\n",
        "clarity: temizliği, berraklığı (I1 (worst), SI2, SI1, VS2, VS1, VVS2, VVS1, IF (best))\n",
        "\n",
        "x: length in mm (0–10.74)\n",
        "\n",
        "y: width in mm (0–58.9)\n",
        "\n",
        "z: depth in mm (0–31.8)\n",
        "\n",
        "depth: toplam derinlik yüzdesi = z / mean(x, y) = 2 * z / (x + y) (43–79)\n",
        "\n",
        "table: elmasın en geniş noktasına göre genişliği (43–95)"
      ]
    },
    {
      "cell_type": "code",
      "metadata": {
        "id": "7Ei6qhZ-9oi3"
      },
      "source": [
        "import seaborn as sns\n",
        "diamonds = sns.load_dataset(\"diamonds\")\n",
        "df = diamonds.copy()\n",
        "df.head()"
      ],
      "execution_count": null,
      "outputs": []
    },
    {
      "cell_type": "markdown",
      "metadata": {
        "id": "XP0j7IMl9oi4"
      },
      "source": [
        "Veri Setine Hızlı Bakış"
      ]
    },
    {
      "cell_type": "code",
      "metadata": {
        "id": "5uXAVAUv9oi4"
      },
      "source": [
        "df.info() "
      ],
      "execution_count": null,
      "outputs": []
    },
    {
      "cell_type": "code",
      "metadata": {
        "id": "fKfs5A0U9oi5"
      },
      "source": [
        "df.describe().T"
      ],
      "execution_count": null,
      "outputs": []
    },
    {
      "cell_type": "code",
      "metadata": {
        "id": "j359syl-9oi5"
      },
      "source": [
        "df.head()"
      ],
      "execution_count": null,
      "outputs": []
    },
    {
      "cell_type": "code",
      "metadata": {
        "id": "l1GlLR0f9oi5"
      },
      "source": [
        "df[\"cut\"].value_counts()"
      ],
      "execution_count": null,
      "outputs": []
    },
    {
      "cell_type": "code",
      "metadata": {
        "id": "3jg5def69oi6"
      },
      "source": [
        "df[\"color\"].value_counts()"
      ],
      "execution_count": null,
      "outputs": []
    },
    {
      "cell_type": "code",
      "metadata": {
        "id": "nXwcFSni9oi6"
      },
      "source": [
        "#ordinal tanımlama\n",
        "from pandas.api.types import CategoricalDtype "
      ],
      "execution_count": null,
      "outputs": []
    },
    {
      "cell_type": "code",
      "metadata": {
        "id": "R21yDAWo9oi6"
      },
      "source": [
        "df.cut.head()"
      ],
      "execution_count": null,
      "outputs": []
    },
    {
      "cell_type": "code",
      "metadata": {
        "id": "Axd_uzbo9oi7"
      },
      "source": [
        "df_cut = df.cut.astype(CategoricalDtype(ordered = True)) #dönüştür ve sıralı bir şekilde yap"
      ],
      "execution_count": null,
      "outputs": []
    },
    {
      "cell_type": "code",
      "metadata": {
        "id": "WG7D2V869oi7"
      },
      "source": [
        "df_cut"
      ],
      "execution_count": null,
      "outputs": []
    },
    {
      "cell_type": "code",
      "metadata": {
        "id": "CkNorOhh9oi7"
      },
      "source": [
        "df.dtypes"
      ],
      "execution_count": null,
      "outputs": []
    },
    {
      "cell_type": "code",
      "metadata": {
        "id": "e_jomo789oi8"
      },
      "source": [
        "df.cut.head(1)"
      ],
      "execution_count": null,
      "outputs": []
    },
    {
      "cell_type": "code",
      "metadata": {
        "id": "5MfsPKz79oi8"
      },
      "source": [
        "cut_kategoriler = [\"Fair\",\"Good\",\"Very Good\",\"Premium\",\"Ideal\"]"
      ],
      "execution_count": null,
      "outputs": []
    },
    {
      "cell_type": "code",
      "metadata": {
        "id": "NgqYp_zg9oi8"
      },
      "source": [
        "df.cut = df.cut.astype(CategoricalDtype(categories = cut_kategoriler, ordered = True))"
      ],
      "execution_count": null,
      "outputs": []
    },
    {
      "cell_type": "code",
      "metadata": {
        "id": "cp35_VvI9oi9"
      },
      "source": [
        "df.cut.head()"
      ],
      "execution_count": null,
      "outputs": []
    },
    {
      "cell_type": "code",
      "metadata": {
        "id": "KIRQ1hAH9oi9"
      },
      "source": [
        "#barplot"
      ],
      "execution_count": null,
      "outputs": []
    },
    {
      "cell_type": "code",
      "metadata": {
        "id": "UH2Ovx9t9oi9"
      },
      "source": [
        "df[\"cut\"].value_counts().plot.barh().set_title(\"Cut Değişkeninin Sınıf Frekansları\"); #Kategorik verilerin sınıflarının frekanslarını görselleştirmiş olduk"
      ],
      "execution_count": null,
      "outputs": []
    },
    {
      "cell_type": "code",
      "metadata": {
        "id": "0llkNXlQ9oi-"
      },
      "source": [
        "(df[\"cut\"]\n",
        " .value_counts()\n",
        " .plot.barh()\n",
        " .set_title(\"Cut Değişkeninin Sınıf Frekansları\")); \n",
        "#Kategorik verilerin sınıflarının frekanslarını görselleştirmiş olduk"
      ],
      "execution_count": null,
      "outputs": []
    },
    {
      "cell_type": "code",
      "metadata": {
        "id": "JIsmI9-r9oi-"
      },
      "source": [
        "sns.barplot(x = \"cut\" , y = df.cut.index, data = df);"
      ],
      "execution_count": null,
      "outputs": []
    },
    {
      "cell_type": "markdown",
      "metadata": {
        "id": "dXFeL3wY9oi-"
      },
      "source": [
        "## Çaprazlamalar\n"
      ]
    },
    {
      "cell_type": "code",
      "metadata": {
        "id": "Tfhhlvp59oi_"
      },
      "source": [
        "import seaborn as sns\n",
        "from pandas.api.types import CategoricalDtype\n",
        "diamonds = sns.load_dataset('diamonds')\n",
        "df = diamonds.copy()\n",
        "cut_kategoriler = [\"Fair\",\"Good\",\"Very Good\",\"Premium\",\"Ideal\"]\n",
        "df.cut = df.cut.astype(CategoricalDtype(categories = cut_kategoriler, ordered = True))\n",
        "df.head()"
      ],
      "execution_count": null,
      "outputs": []
    },
    {
      "cell_type": "code",
      "metadata": {
        "id": "Wns3KG_Z9oi_"
      },
      "source": [
        "sns.catplot(x = \"cut\", y = \"price\", data = df);"
      ],
      "execution_count": null,
      "outputs": []
    },
    {
      "cell_type": "code",
      "metadata": {
        "id": "koqJw6Tk9oi_"
      },
      "source": [
        "sns.barplot(x = \"cut\", y = \"price\", hue = \"color\", data = df);"
      ],
      "execution_count": null,
      "outputs": []
    },
    {
      "cell_type": "code",
      "metadata": {
        "id": "ARyFT4Hi9ojB"
      },
      "source": [
        "# | standart sapma"
      ],
      "execution_count": null,
      "outputs": []
    },
    {
      "cell_type": "code",
      "metadata": {
        "id": "yHPdykMS9ojB"
      },
      "source": [
        "df.groupby([\"cut\",\"color\"])[\"price\"].mean()\n",
        "#2 kategorik değişken peş peşe kırılım önce cut a sonra color a göre grupla sonrada price a göre ortalama işlemi yap"
      ],
      "execution_count": null,
      "outputs": []
    },
    {
      "cell_type": "markdown",
      "metadata": {
        "id": "LBT11i229ojC"
      },
      "source": [
        "## Histogram Ve Yoğunluk"
      ]
    },
    {
      "cell_type": "code",
      "metadata": {
        "id": "hDkUhgJ19ojC"
      },
      "source": [
        "import seaborn as sns\n",
        "diamonds = sns.load_dataset('diamonds')\n",
        "df = diamonds.copy()\n",
        "df.head()"
      ],
      "execution_count": null,
      "outputs": []
    },
    {
      "cell_type": "code",
      "metadata": {
        "id": "RmfUG-_G9ojD"
      },
      "source": [
        "sns.distplot(df.price, kde = False); #dağılım görselleştirme, kde yoğunluk fonksiyonu"
      ],
      "execution_count": null,
      "outputs": []
    },
    {
      "cell_type": "code",
      "metadata": {
        "id": "mbK-HacQ9ojE"
      },
      "source": [
        "# histogramın aralıkları önemli bins bu konuda yardımcı olur"
      ],
      "execution_count": null,
      "outputs": []
    },
    {
      "cell_type": "code",
      "metadata": {
        "id": "Duv1xwgo9ojE"
      },
      "source": [
        "sns.distplot(df.price, bins = 10, kde = False);"
      ],
      "execution_count": null,
      "outputs": []
    },
    {
      "cell_type": "code",
      "metadata": {
        "id": "-pqERTJg9ojE"
      },
      "source": [
        "sns.distplot(df.price); #histogram ile yoğunluk birarada "
      ],
      "execution_count": null,
      "outputs": []
    },
    {
      "cell_type": "code",
      "metadata": {
        "id": "D1XkGZn79ojF"
      },
      "source": [
        "#yayvan, standart sapma küçük değil,çarpık olduğu, medyan ort arası fark"
      ],
      "execution_count": null,
      "outputs": []
    },
    {
      "cell_type": "code",
      "metadata": {
        "id": "DgcwRkpa9ojF"
      },
      "source": [
        "\"\"\"olasılık yoğunluk fonksiyonunun grafiğini ifade ediyor. Histogram ile yoğunluk birlikte gösterilmesi istendiğinde \n",
        "y eksenin de ölçekler birbirinden farklı olacağı için görselleştirme olmayacağı için mantıksız olacağı için arka plaanda seaborn \n",
        "ölçeği 0 1 arasına olasılık yoğunluk fonk ölçeğine göre gerçekleştirip histogramla yoğunluğu birlikte sunuyor\"\"\"\n"
      ],
      "execution_count": null,
      "outputs": []
    },
    {
      "cell_type": "code",
      "metadata": {
        "id": "tvYeshc-9ojF"
      },
      "source": [
        "df[\"price\"].describe()"
      ],
      "execution_count": null,
      "outputs": []
    },
    {
      "cell_type": "code",
      "metadata": {
        "id": "c646aKJI9ojG"
      },
      "source": [
        "sns.distplot(df.price, hist = False)"
      ],
      "execution_count": null,
      "outputs": []
    },
    {
      "cell_type": "code",
      "metadata": {
        "id": "Iugj0EIa9ojG"
      },
      "source": [
        "sns.kdeplot(df.price, shade = True);"
      ],
      "execution_count": null,
      "outputs": []
    },
    {
      "cell_type": "markdown",
      "metadata": {
        "id": "A3ERtC2U9ojG"
      },
      "source": [
        "## Çaprazlamalar"
      ]
    },
    {
      "cell_type": "code",
      "metadata": {
        "id": "bQTzdrTS9ojH"
      },
      "source": [
        "import seaborn as sns\n",
        "diamonds = sns.load_dataset('diamonds')\n",
        "df = diamonds.copy()\n",
        "df.head()"
      ],
      "execution_count": null,
      "outputs": []
    },
    {
      "cell_type": "code",
      "metadata": {
        "id": "p2Brzwh89ojH"
      },
      "source": [
        "sns.kdeplot(df.price , shade = True);"
      ],
      "execution_count": null,
      "outputs": []
    },
    {
      "cell_type": "code",
      "metadata": {
        "id": "3Ir5tzUF9ojH"
      },
      "source": [
        "# 2 tepe genelde odaklanılan sayılsak değişkenin içindeki bilgiyi yapıyı oluşturan birden fazla faktör var"
      ],
      "execution_count": null,
      "outputs": []
    },
    {
      "cell_type": "code",
      "metadata": {
        "id": "gRxlrQGD9ojH"
      },
      "source": [
        "(sns\n",
        " .FacetGrid(df,\n",
        "              hue = \"cut\",\n",
        "              height = 5,\n",
        "              xlim = (0, 10000))\n",
        " .map(sns.kdeplot, \"price\", shade= True)\n",
        " .add_legend()\n",
        ");"
      ],
      "execution_count": null,
      "outputs": []
    },
    {
      "cell_type": "code",
      "metadata": {
        "id": "3p6PFFR29ojI"
      },
      "source": [
        "#facetrid grafik üzerine eklenen boyutları bölerek göstermek için kullanılır "
      ],
      "execution_count": null,
      "outputs": []
    },
    {
      "cell_type": "code",
      "metadata": {
        "id": "5UzILmEt9ojI"
      },
      "source": [
        "# Yoğunluk Grafiği oluşturup boyut eklemek istiyoruz facegrit oluşturup cut sınıfları ile maplemek"
      ],
      "execution_count": null,
      "outputs": []
    },
    {
      "cell_type": "code",
      "metadata": {
        "id": "v5rrrair9ojI"
      },
      "source": [
        "sns.catplot(x = \"cut\", y = \"price\", hue = \"color\", kind = \"point\", data = df);"
      ],
      "execution_count": null,
      "outputs": []
    },
    {
      "cell_type": "code",
      "metadata": {
        "id": "HpK6OJC-9ojJ"
      },
      "source": [
        "\"\"\"burada cut kategorik değişkenin içinde birden fazla renk olması ve bunların birbirinden uzak olması color aracılığı ile \n",
        "cut değişkeni sınıfları değişkenin de birbirinden farklı bilgi taşındığı anlamına geliyor.\"\"\""
      ],
      "execution_count": null,
      "outputs": []
    },
    {
      "cell_type": "code",
      "metadata": {
        "id": "-WwcMYGd9ojJ"
      },
      "source": [
        "\"\"\"makine öğrenmesinde amacımız hedeflenen bağımlı değişkende varolan bilgiyi varolan değişimi farklı değişkenlerce açıklamaya çalışmaktır. \n",
        "Bu değişimi farklı değişkenlerce açıklamaya \n",
        "çalışmak amacının en büyük hedefi veri seti içerisindeki hedef değişken hedefi ile değişkenliklerin bulunmaya çalışılmasıdır.\"\"\""
      ],
      "execution_count": null,
      "outputs": []
    },
    {
      "cell_type": "markdown",
      "metadata": {
        "id": "w5A5qQQi9ojJ"
      },
      "source": [
        "## Boxplot\n",
        "\n",
        "Veri Seti Hikayesi\n",
        "total_bill: yemeğin toplam fiyatı (bahşiş ve vergi dahil)\n",
        "\n",
        "tip: bahşiş\n",
        "\n",
        "sex: ücreti ödeyen kişinin cinsiyeti (0=male, 1=female)\n",
        "\n",
        "smoker: grupta sigara içen var mı? (0=No, 1=Yes)\n",
        "\n",
        "day: gün (3=Thur, 4=Fri, 5=Sat, 6=Sun)\n",
        "\n",
        "time: ne zaman? (0=Day, 1=Night)\n",
        "\n",
        "size: grupta kaç kişi var?"
      ]
    },
    {
      "cell_type": "code",
      "metadata": {
        "id": "Ybs0Th1T9ojK"
      },
      "source": [
        "import seaborn as sns\n",
        "tips = sns.load_dataset(\"tips\")\n",
        "df = tips.copy()\n",
        "df.head()"
      ],
      "execution_count": null,
      "outputs": []
    },
    {
      "cell_type": "code",
      "metadata": {
        "id": "C1C-HivR9ojK"
      },
      "source": [
        "df.describe().T"
      ],
      "execution_count": null,
      "outputs": []
    },
    {
      "cell_type": "code",
      "metadata": {
        "id": "QcsBlHAq9ojK"
      },
      "source": [
        "df[\"sex\"].value_counts()"
      ],
      "execution_count": null,
      "outputs": []
    },
    {
      "cell_type": "code",
      "metadata": {
        "id": "eCNs83559ojL"
      },
      "source": [
        "df[\"sex\"].value_counts().count()"
      ],
      "execution_count": null,
      "outputs": []
    },
    {
      "cell_type": "code",
      "metadata": {
        "id": "ecncV5-59ojL"
      },
      "source": [
        "df[\"smoker\"].value_counts()"
      ],
      "execution_count": null,
      "outputs": []
    },
    {
      "cell_type": "code",
      "metadata": {
        "id": "zPl7qTxm9ojL"
      },
      "source": [
        "df[\"day\"].value_counts()"
      ],
      "execution_count": null,
      "outputs": []
    },
    {
      "cell_type": "code",
      "metadata": {
        "id": "i0ILRJGp9ojM"
      },
      "source": [
        "df[\"time\"].value_counts()"
      ],
      "execution_count": null,
      "outputs": []
    },
    {
      "cell_type": "code",
      "metadata": {
        "id": "nvFdYaj09ojM"
      },
      "source": [
        "#boxplot oluşturulması"
      ],
      "execution_count": null,
      "outputs": []
    },
    {
      "cell_type": "code",
      "metadata": {
        "id": "0pVfYPLV9ojM"
      },
      "source": [
        "sns.boxplot(x = df[\"total_bill\"]); #kartiller aracılığı ile bilgi sağlar "
      ],
      "execution_count": null,
      "outputs": []
    },
    {
      "cell_type": "code",
      "metadata": {
        "id": "vujb73GI9ojN"
      },
      "source": [
        "#sadece değişenin yapısını anlamak yerine aykırı gözlemleride içinde tutar"
      ],
      "execution_count": null,
      "outputs": []
    },
    {
      "cell_type": "code",
      "metadata": {
        "id": "FbkpMHhG9ojN"
      },
      "source": [
        "sns.boxplot(x = df[\"total_bill\"], orient = \"v\");"
      ],
      "execution_count": null,
      "outputs": []
    },
    {
      "cell_type": "markdown",
      "metadata": {
        "id": "H-pOZPpn9ojN"
      },
      "source": [
        "## Çaprazlamalar"
      ]
    },
    {
      "cell_type": "code",
      "metadata": {
        "id": "NnaD-6xZ9ojO"
      },
      "source": [
        "df.describe().T"
      ],
      "execution_count": null,
      "outputs": []
    },
    {
      "cell_type": "code",
      "metadata": {
        "id": "hEZrOxUb9ojO"
      },
      "source": [
        "#hangi günler daha fazla kazanıyoruz?"
      ],
      "execution_count": null,
      "outputs": []
    },
    {
      "cell_type": "code",
      "metadata": {
        "id": "qMMSOXWX9ojO"
      },
      "source": [
        "sns.boxplot(x = \"day\", y = \"total_bill\", data = df);"
      ],
      "execution_count": null,
      "outputs": []
    },
    {
      "cell_type": "code",
      "metadata": {
        "id": "GIsJ0KLq9ojP"
      },
      "source": [
        "#sabah mı akşammı dah açok para kazanıyoruz? "
      ],
      "execution_count": null,
      "outputs": []
    },
    {
      "cell_type": "code",
      "metadata": {
        "id": "wBkyxhLm9ojP"
      },
      "source": [
        "sns.boxplot(x = \"time\", y = \"total_bill\", data =df);"
      ],
      "execution_count": null,
      "outputs": []
    },
    {
      "cell_type": "code",
      "metadata": {
        "id": "sjgE5tPI9ojP"
      },
      "source": [
        "#gruplara gelen kişi sayısı ve kazanç"
      ],
      "execution_count": null,
      "outputs": []
    },
    {
      "cell_type": "code",
      "metadata": {
        "id": "2jmdcKEi9ojP"
      },
      "source": [
        "sns.boxplot( x = \"size\", y = \"total_bill\", data =df);"
      ],
      "execution_count": null,
      "outputs": []
    },
    {
      "cell_type": "code",
      "metadata": {
        "id": "xvtGJX5L9ojQ"
      },
      "source": [
        "sns.boxplot( x = \"day\", y = \"total_bill\", hue = \"sex\", data =df);"
      ],
      "execution_count": null,
      "outputs": []
    },
    {
      "cell_type": "markdown",
      "metadata": {
        "id": "tZ9dH7BH9ojQ"
      },
      "source": [
        "## Violin\n",
        "-Boxplota benzer daha çok dağılım anlamında bilgi sunar."
      ]
    },
    {
      "cell_type": "code",
      "metadata": {
        "id": "WHgRNbB39ojQ"
      },
      "source": [
        "df.head()"
      ],
      "execution_count": null,
      "outputs": []
    },
    {
      "cell_type": "code",
      "metadata": {
        "id": "ptv6y5sV9ojR"
      },
      "source": [
        "sns.catplot(y = \"total_bill\", kind = \"violin\", data = df);"
      ],
      "execution_count": null,
      "outputs": []
    },
    {
      "cell_type": "code",
      "metadata": {
        "id": "aGvDkK479ojR"
      },
      "source": [
        "#merkezlerdeki konumlanmaları,medyanı ile bilgi sunan bir grafik"
      ],
      "execution_count": null,
      "outputs": []
    },
    {
      "cell_type": "markdown",
      "metadata": {
        "id": "Z7oGkqWx9ojR"
      },
      "source": [
        "## Çaprazlamalar"
      ]
    },
    {
      "cell_type": "code",
      "metadata": {
        "id": "E0fyXYgs9ojS"
      },
      "source": [
        "sns.catplot(x = \"day\", y = \"total_bill\", kind = \"violin\", data = df);"
      ],
      "execution_count": null,
      "outputs": []
    },
    {
      "cell_type": "code",
      "metadata": {
        "id": "KqhGkv5F9ojS"
      },
      "source": [
        "sns.catplot(x = \"day\", y = \"total_bill\", hue = \"sex\", kind = \"violin\", data = df);"
      ],
      "execution_count": null,
      "outputs": []
    },
    {
      "cell_type": "markdown",
      "metadata": {
        "id": "WgzADbDH9ojS"
      },
      "source": [
        "## Kolerasyon Grafikleri\n",
        "-Kolerasyon :  Değişkenler arasındaki ilişkiyi ifade eden istatiksel bir terimdir.\n",
        "\n",
        "Scatterplot  \n",
        "\n",
        "total_bill: yemeğin toplam fiyatı (bahşiş ve vergi dahil)\n",
        "\n",
        "tip: bahşiş\n",
        "\n",
        "sex: ücreti ödeyen kişinin cinsiyeti (0=male, 1=female)\n",
        "\n",
        "smoker: grupta sigara içen var mı? (0=No, 1=Yes)\n",
        "\n",
        "day: gün (3=Thur, 4=Fri, 5=Sat, 6=Sun)\n",
        "\n",
        "time: ne zaman? (0=Day, 1=Night)\n",
        "\n",
        "size: grupta kaç kişi var?"
      ]
    },
    {
      "cell_type": "code",
      "metadata": {
        "id": "86JE33ub9ojT"
      },
      "source": [
        "#scatterplot: Saçılım grafiği sayısal değişkenler arasındaki ilişkiyi gösterir."
      ],
      "execution_count": null,
      "outputs": []
    },
    {
      "cell_type": "code",
      "metadata": {
        "id": "anaNm_V69ojT"
      },
      "source": [
        "import seaborn as sns\n",
        "tips = sns.load_dataset(\"tips\")\n",
        "df = tips.copy()\n",
        "df.head()"
      ],
      "execution_count": null,
      "outputs": []
    },
    {
      "cell_type": "code",
      "metadata": {
        "id": "Oe7DPwXq9ojU"
      },
      "source": [
        "sns.scatterplot(x = \"total_bill\", y = \"tip\", data = df);"
      ],
      "execution_count": null,
      "outputs": []
    },
    {
      "cell_type": "markdown",
      "metadata": {
        "id": "3sNgAD9c9ojU"
      },
      "source": [
        "## Çaprazlamalar"
      ]
    },
    {
      "cell_type": "code",
      "metadata": {
        "id": "7qCURyCY9ojV"
      },
      "source": [
        "sns.scatterplot(x = \"total_bill\", y = \"tip\", hue = \"time\", data = df);"
      ],
      "execution_count": null,
      "outputs": []
    },
    {
      "cell_type": "code",
      "metadata": {
        "id": "26tNFocQ9ojV"
      },
      "source": [
        "sns.scatterplot(x = \"total_bill\", y = \"tip\", hue = \"time\", style = \"time\", data = df);"
      ],
      "execution_count": null,
      "outputs": []
    },
    {
      "cell_type": "code",
      "metadata": {
        "id": "uIvNw6EN9ojV"
      },
      "source": [
        "sns.scatterplot(x = \"total_bill\", y = \"tip\", hue = \"day\", style = \"time\", data = df);"
      ],
      "execution_count": null,
      "outputs": []
    },
    {
      "cell_type": "code",
      "metadata": {
        "id": "Ciusz9V-9ojW"
      },
      "source": [
        "sns.scatterplot(x = \"total_bill\", y = \"tip\",hue = \"size\", size = \"size\", style = \"time\", data = df);"
      ],
      "execution_count": null,
      "outputs": []
    },
    {
      "cell_type": "markdown",
      "metadata": {
        "id": "0mL-nw709ojW"
      },
      "source": [
        "## Doğrusal İlişkinin Gösterilmesi"
      ]
    },
    {
      "cell_type": "code",
      "metadata": {
        "id": "dIEMQzMz9ojW"
      },
      "source": [
        "import seaborn as sns\n",
        "import matplotlib.pyplot as plt\n",
        "tips = sns.load_dataset(\"tips\")\n",
        "df = tips.copy()\n",
        "df.head()"
      ],
      "execution_count": null,
      "outputs": []
    },
    {
      "cell_type": "code",
      "metadata": {
        "id": "wYZwhdcf9ojX"
      },
      "source": [
        "sns.lmplot(x = \"total_bill\", y = \"tip\", data = df); # lineer model"
      ],
      "execution_count": null,
      "outputs": []
    },
    {
      "cell_type": "code",
      "metadata": {
        "id": "YXHJsULH9ojX"
      },
      "source": [
        "sns.lmplot(x = \"total_bill\", y = \"tip\", hue = \"smoker\", data = df); # lineer model"
      ],
      "execution_count": null,
      "outputs": []
    },
    {
      "cell_type": "code",
      "metadata": {
        "id": "gjlDyTxt9ojY"
      },
      "source": [
        "sns.lmplot(x = \"total_bill\", y = \"tip\",hue = \"smoker\", col = \"time\", data = df); # lineer model"
      ],
      "execution_count": null,
      "outputs": []
    },
    {
      "cell_type": "code",
      "metadata": {
        "id": "2YKG9WpT9ojY"
      },
      "source": [
        "sns.lmplot(x = \"total_bill\", y = \"tip\",hue = \"smoker\", row = \"sex\", col = \"time\", data = df); # lineer model"
      ],
      "execution_count": null,
      "outputs": []
    },
    {
      "cell_type": "markdown",
      "metadata": {
        "id": "WUV1l1T69ojY"
      },
      "source": [
        "## Scatterplot Matrisi"
      ]
    },
    {
      "cell_type": "code",
      "metadata": {
        "id": "ny6-fVak9ojY"
      },
      "source": [
        "import seaborn as sns\n",
        "iris = sns.load_dataset(\"iris\")\n",
        "df = iris.copy()\n",
        "df.head()"
      ],
      "execution_count": null,
      "outputs": []
    },
    {
      "cell_type": "code",
      "metadata": {
        "id": "5g3FCnlm9ojZ"
      },
      "source": [
        "df.dtypes"
      ],
      "execution_count": null,
      "outputs": []
    },
    {
      "cell_type": "code",
      "metadata": {
        "id": "EdgAUEIy9ojZ"
      },
      "source": [
        "df.shape"
      ],
      "execution_count": null,
      "outputs": []
    },
    {
      "cell_type": "code",
      "metadata": {
        "id": "efcrQ9aG9ojZ"
      },
      "source": [
        "sns.pairplot(df);"
      ],
      "execution_count": null,
      "outputs": []
    },
    {
      "cell_type": "code",
      "metadata": {
        "id": "yYYEBIDc9oja"
      },
      "source": [
        "#sutünlar veri seti içerisindeki dağılımları ifade eder"
      ],
      "execution_count": null,
      "outputs": []
    },
    {
      "cell_type": "code",
      "metadata": {
        "id": "DWCNFdpY9oja"
      },
      "source": [
        "#saçılım grafiği görsellerinde oluşturulan grafik toz bulutu şeklinde ise veya yapısal formu yoksa o 2 değişken arasında ilişki olmadığı anlamaına gelir.\n",
        "#oluşturulan scatter plot içerisinde gözlem noktaları birbirinden farklı köşelerde kümeleniyorsa çaprazlamadan kaynaklanan bazı alt gruplar vardır."
      ],
      "execution_count": null,
      "outputs": []
    },
    {
      "cell_type": "code",
      "metadata": {
        "id": "c20C9L3b9oja"
      },
      "source": [
        "sns.pairplot(df, hue = \"species\");"
      ],
      "execution_count": null,
      "outputs": []
    },
    {
      "cell_type": "code",
      "metadata": {
        "id": "552IldPI9ojb"
      },
      "source": [
        "sns.pairplot(df, hue = \"species\", markers = [\"o\",\"s\",\"d\"]);"
      ],
      "execution_count": null,
      "outputs": []
    },
    {
      "cell_type": "code",
      "metadata": {
        "id": "jK8j5Puo9ojb"
      },
      "source": [
        "sns.pairplot(df, kind = \"reg\");"
      ],
      "execution_count": null,
      "outputs": []
    },
    {
      "cell_type": "code",
      "metadata": {
        "id": "Ga3njuVV9ojb"
      },
      "source": [
        "sns.pairplot(df, kind = \"reg\", hue = \"species\");"
      ],
      "execution_count": null,
      "outputs": []
    },
    {
      "cell_type": "markdown",
      "metadata": {
        "id": "Vd25d_CN9ojc"
      },
      "source": [
        "## Heatmap"
      ]
    },
    {
      "cell_type": "code",
      "metadata": {
        "id": "4RZJrQ4X9ojc"
      },
      "source": [
        "#Veri Seti Hikayesi\n",
        "#Yıllara Ve aylara göre uçuş süreleri"
      ],
      "execution_count": null,
      "outputs": []
    },
    {
      "cell_type": "code",
      "metadata": {
        "id": "ydKCyJMQ9ojc"
      },
      "source": [
        "import seaborn as sns\n",
        "flights = sns.load_dataset(\"flights\")\n",
        "df = flights.copy()\n",
        "df.head()"
      ],
      "execution_count": null,
      "outputs": []
    },
    {
      "cell_type": "code",
      "metadata": {
        "id": "mjFDvTZ39ojd"
      },
      "source": [
        "df.shape"
      ],
      "execution_count": null,
      "outputs": []
    },
    {
      "cell_type": "code",
      "metadata": {
        "id": "fgBqqANK9ojd"
      },
      "source": [
        "df[\"passengers\"].describe()"
      ],
      "execution_count": null,
      "outputs": []
    },
    {
      "cell_type": "code",
      "metadata": {
        "id": "DFM16pN09ojd"
      },
      "source": [
        "df = df.pivot(\"month\", \"year\", \"passengers\"); # x,y,kesişim\n",
        "df"
      ],
      "execution_count": null,
      "outputs": []
    },
    {
      "cell_type": "code",
      "metadata": {
        "id": "OVqkxLlH9oje"
      },
      "source": [
        "sns.heatmap(df); #yapı saptama fonksiyonları"
      ],
      "execution_count": null,
      "outputs": []
    },
    {
      "cell_type": "code",
      "metadata": {
        "id": "-4myHVqq9oje"
      },
      "source": [
        "sns.heatmap(df, annot = True, fmt = \"d\");"
      ],
      "execution_count": null,
      "outputs": []
    },
    {
      "cell_type": "code",
      "metadata": {
        "id": "DXVZDtep9ojf"
      },
      "source": [
        "sns.heatmap(df, annot = True, fmt = \"d\", linewidths = .5);"
      ],
      "execution_count": null,
      "outputs": []
    },
    {
      "cell_type": "code",
      "metadata": {
        "id": "CVL8KJvr9ojf"
      },
      "source": [
        "sns.heatmap(df, annot = True, fmt = \"d\", linewidths = .5, cbar = False);"
      ],
      "execution_count": null,
      "outputs": []
    },
    {
      "cell_type": "markdown",
      "metadata": {
        "id": "jOtO4-4h9ojf"
      },
      "source": [
        "## Çizgi Grafik"
      ]
    },
    {
      "cell_type": "code",
      "metadata": {
        "id": "zxeTx0439ojg"
      },
      "source": [
        "# Veri Seti Hikayesi\n",
        "# beyne bağlanan cihaz ile toplanan sinyaller"
      ],
      "execution_count": null,
      "outputs": []
    },
    {
      "cell_type": "code",
      "metadata": {
        "id": "bjhsLyGg9ojg"
      },
      "source": [
        "import seaborn as sns\n",
        "fmri = sns.load_dataset(\"fmri\")\n",
        "df = fmri.copy()\n",
        "df.head()"
      ],
      "execution_count": null,
      "outputs": []
    },
    {
      "cell_type": "code",
      "metadata": {
        "id": "SznXyo9R9ojg"
      },
      "source": [
        "#subject verilerin toplandığı kişiler #event farklı olaylar "
      ],
      "execution_count": null,
      "outputs": []
    },
    {
      "cell_type": "code",
      "metadata": {
        "id": "ITKMOXMW9ojg"
      },
      "source": [
        "df.shape"
      ],
      "execution_count": null,
      "outputs": []
    },
    {
      "cell_type": "code",
      "metadata": {
        "id": "B-6MnRfP9ojh"
      },
      "source": [
        "df[\"timepoint\"].describe()"
      ],
      "execution_count": null,
      "outputs": []
    },
    {
      "cell_type": "code",
      "metadata": {
        "id": "fLC_mu4C9ojh"
      },
      "source": [
        "df[\"signal\"].describe()"
      ],
      "execution_count": null,
      "outputs": []
    },
    {
      "cell_type": "code",
      "metadata": {
        "id": "DqABz9kI9ojh"
      },
      "source": [
        "df.groupby(\"timepoint\")[\"signal\"].count()"
      ],
      "execution_count": null,
      "outputs": []
    },
    {
      "cell_type": "code",
      "metadata": {
        "id": "ujVlARPH9oji"
      },
      "source": [
        "#mekanik bir veri seti"
      ],
      "execution_count": null,
      "outputs": []
    },
    {
      "cell_type": "code",
      "metadata": {
        "id": "EVnX8ovB9ojj"
      },
      "source": [
        "df.groupby(\"signal\").count()"
      ],
      "execution_count": null,
      "outputs": []
    },
    {
      "cell_type": "code",
      "metadata": {
        "id": "FC0Pp3R19ojj"
      },
      "source": [
        "df.groupby(\"timepoint\")[\"signal\"].describe()"
      ],
      "execution_count": null,
      "outputs": []
    },
    {
      "cell_type": "markdown",
      "metadata": {
        "id": "njbRKAoW9ojj"
      },
      "source": [
        "## Lineplot(Çizgi Grafik) Oluşturulması ve Çaprazlamalar"
      ]
    },
    {
      "cell_type": "code",
      "metadata": {
        "id": "k63wR6Bt9ojk"
      },
      "source": [
        "sns.lineplot(x = \"timepoint\", y = \"signal\", data = df);"
      ],
      "execution_count": null,
      "outputs": []
    },
    {
      "cell_type": "code",
      "metadata": {
        "id": "cF55tvVh9ojk"
      },
      "source": [
        "#seaborn toplulaştırılmış işlem yapar"
      ],
      "execution_count": null,
      "outputs": []
    },
    {
      "cell_type": "code",
      "metadata": {
        "id": "y-XjoK-z9ojl"
      },
      "source": [
        "#sinyallerin ortalaması mavi çizgi, standart sapmalar mavi değer güven aralıklarıdır."
      ],
      "execution_count": null,
      "outputs": []
    },
    {
      "cell_type": "code",
      "metadata": {
        "id": "IVDogzNX9ojl"
      },
      "source": [
        "sns.lineplot(x = \"timepoint\", y = \"signal\", hue = \"event\", data = df);"
      ],
      "execution_count": null,
      "outputs": []
    },
    {
      "cell_type": "code",
      "metadata": {
        "id": "WNziWq8c9ojl"
      },
      "source": [
        "sns.lineplot(x = \"timepoint\", y = \"signal\", hue = \"event\", style = \"event\", data = df);"
      ],
      "execution_count": null,
      "outputs": []
    },
    {
      "cell_type": "code",
      "metadata": {
        "id": "SF70gtt59ojl"
      },
      "source": [
        "sns.lineplot(x = \"timepoint\", \n",
        "             y = \"signal\", \n",
        "             hue = \"event\", \n",
        "             style = \"event\", \n",
        "             markers = True, dashes = False,\n",
        "             data = df);"
      ],
      "execution_count": null,
      "outputs": []
    },
    {
      "cell_type": "code",
      "metadata": {
        "id": "KiqQOFHd9ojm"
      },
      "source": [
        "sns.lineplot(x = \"timepoint\", \n",
        "             y = \"signal\", \n",
        "             hue = \"region\", \n",
        "             style = \"event\", \n",
        "             data = df);"
      ],
      "execution_count": null,
      "outputs": []
    },
    {
      "cell_type": "markdown",
      "metadata": {
        "id": "tEzAwIE-9ojm"
      },
      "source": [
        "## Basit Zaman Serisi Grafiği Oluşturma"
      ]
    },
    {
      "cell_type": "code",
      "metadata": {
        "id": "feqDYqlR9ojn"
      },
      "source": [
        "pip install pandas_datareader"
      ],
      "execution_count": null,
      "outputs": []
    },
    {
      "cell_type": "code",
      "metadata": {
        "id": "qLKI30U09ojn"
      },
      "source": [
        "import pandas_datareader as pr"
      ],
      "execution_count": null,
      "outputs": []
    },
    {
      "cell_type": "code",
      "metadata": {
        "id": "NlEulTGY9ojo"
      },
      "source": [
        "#apple'ın borsadaki hisse değerleri"
      ],
      "execution_count": null,
      "outputs": []
    },
    {
      "cell_type": "code",
      "metadata": {
        "id": "ZNTlL1WN9ojo"
      },
      "source": [
        "df = pr.get_data_yahoo(\"AAPL\", start = \"2016-01-01\", end = \"2019-08-25\")"
      ],
      "execution_count": null,
      "outputs": []
    },
    {
      "cell_type": "code",
      "metadata": {
        "id": "fQ093dDc9ojo"
      },
      "source": [
        "df.head()"
      ],
      "execution_count": null,
      "outputs": []
    },
    {
      "cell_type": "code",
      "metadata": {
        "id": "JVI8rb4F9ojp"
      },
      "source": [
        "df.shape"
      ],
      "execution_count": null,
      "outputs": []
    },
    {
      "cell_type": "code",
      "metadata": {
        "id": "MeYSEMyM9ojp"
      },
      "source": [
        "kapanis = df[\"Close\"]\n",
        "kapanis.head()"
      ],
      "execution_count": null,
      "outputs": []
    },
    {
      "cell_type": "code",
      "metadata": {
        "id": "cUlLZXPb9ojp"
      },
      "source": [
        "kapanis.plot();"
      ],
      "execution_count": null,
      "outputs": []
    },
    {
      "cell_type": "code",
      "metadata": {
        "id": "3OVFUDBx9ojq"
      },
      "source": [
        "kapanis.plot();"
      ],
      "execution_count": null,
      "outputs": []
    },
    {
      "cell_type": "code",
      "metadata": {
        "id": "fKEHUYbl9ojq"
      },
      "source": [
        "kapanis.index = pd.DatetimeIndex(kapanis.index)\n",
        "kapanis.head()"
      ],
      "execution_count": null,
      "outputs": []
    },
    {
      "cell_type": "code",
      "metadata": {
        "id": "YwnEZir29ojq"
      },
      "source": [
        "kapanis.plot();"
      ],
      "execution_count": null,
      "outputs": []
    },
    {
      "cell_type": "code",
      "metadata": {
        "id": "37fFJRg69ojr"
      },
      "source": [
        ""
      ],
      "execution_count": null,
      "outputs": []
    },
    {
      "cell_type": "code",
      "metadata": {
        "id": "o1xACEga-dzP"
      },
      "source": [
        ""
      ],
      "execution_count": null,
      "outputs": []
    },
    {
      "cell_type": "markdown",
      "metadata": {
        "id": "iIYSV1mk-IWK"
      },
      "source": [
        "# *Pandas Serisi Oluşturmak*"
      ]
    },
    {
      "cell_type": "code",
      "metadata": {
        "id": "S8byNJPE-IWQ"
      },
      "source": [
        "import pandas as pd"
      ],
      "execution_count": null,
      "outputs": []
    },
    {
      "cell_type": "code",
      "metadata": {
        "id": "JAAQFHGP-IWR"
      },
      "source": [
        "pd.Series([10,1,2,3,4,5]) # ilk sutun index 2. sutun değerler"
      ],
      "execution_count": null,
      "outputs": []
    },
    {
      "cell_type": "markdown",
      "metadata": {
        "id": "M55awwN6-IWS"
      },
      "source": [
        "\"\"\"pandas içerisinde yer alan veri tipleri değerleri indexleri ile beraber tutar.\"\"\""
      ]
    },
    {
      "cell_type": "code",
      "metadata": {
        "id": "FA2yPS69-IWT"
      },
      "source": [
        "seri = pd.Series([1,2,5,4,8])\n",
        "type(seri)"
      ],
      "execution_count": null,
      "outputs": []
    },
    {
      "cell_type": "code",
      "metadata": {
        "id": "JKe997vY-IWT"
      },
      "source": [
        "seri.axes"
      ],
      "execution_count": null,
      "outputs": []
    },
    {
      "cell_type": "code",
      "metadata": {
        "id": "fWoiIJ4a-IWT"
      },
      "source": [
        "seri.dtype"
      ],
      "execution_count": null,
      "outputs": []
    },
    {
      "cell_type": "code",
      "metadata": {
        "id": "JVkDVqAt-IWU"
      },
      "source": [
        "seri.size"
      ],
      "execution_count": null,
      "outputs": []
    },
    {
      "cell_type": "code",
      "metadata": {
        "id": "y-s4dXga-IWU"
      },
      "source": [
        "seri.ndim"
      ],
      "execution_count": null,
      "outputs": []
    },
    {
      "cell_type": "code",
      "metadata": {
        "id": "HIA1Vza4-IWU"
      },
      "source": [
        "seri.values"
      ],
      "execution_count": null,
      "outputs": []
    },
    {
      "cell_type": "code",
      "metadata": {
        "id": "3Q3VXHau-IWV"
      },
      "source": [
        "seri.head(3)"
      ],
      "execution_count": null,
      "outputs": []
    },
    {
      "cell_type": "code",
      "metadata": {
        "id": "naFarwAS-IWV"
      },
      "source": [
        "seri.tail(3) #sondan bakmak"
      ],
      "execution_count": null,
      "outputs": []
    },
    {
      "cell_type": "code",
      "metadata": {
        "id": "E1mLJcdD-IWW"
      },
      "source": [
        "# index isimlendirme"
      ],
      "execution_count": null,
      "outputs": []
    },
    {
      "cell_type": "code",
      "metadata": {
        "id": "o7l9TcMv-IWW"
      },
      "source": [
        "pd.Series([77,11,55,88,5])"
      ],
      "execution_count": null,
      "outputs": []
    },
    {
      "cell_type": "code",
      "metadata": {
        "id": "Nu9qbpkC-IWW"
      },
      "source": [
        "pd.Series([77,11,55,88,5], index = [1,3,5,4,5])"
      ],
      "execution_count": null,
      "outputs": []
    },
    {
      "cell_type": "code",
      "metadata": {
        "id": "Dhs2OIVS-IWX"
      },
      "source": [
        "seri = pd.Series([77,11,55,88,5], index = [\"a\",\"b\",\"c\",\"d\",\"e\"])"
      ],
      "execution_count": null,
      "outputs": []
    },
    {
      "cell_type": "code",
      "metadata": {
        "id": "ztne84rQ-IWX"
      },
      "source": [
        "seri"
      ],
      "execution_count": null,
      "outputs": []
    },
    {
      "cell_type": "code",
      "metadata": {
        "id": "bsYLQVX9-IWY"
      },
      "source": [
        "seri[\"a\"]"
      ],
      "execution_count": null,
      "outputs": []
    },
    {
      "cell_type": "code",
      "metadata": {
        "id": "TGrJTF7I-IWY"
      },
      "source": [
        "seri[\"a\":\"c\"]"
      ],
      "execution_count": null,
      "outputs": []
    },
    {
      "cell_type": "code",
      "metadata": {
        "id": "Sq_IE67y-IWY"
      },
      "source": [
        "#sozluk uzerinden liste oluşturmak"
      ],
      "execution_count": null,
      "outputs": []
    },
    {
      "cell_type": "code",
      "metadata": {
        "id": "ztWU_wXV-IWY"
      },
      "source": [
        "sozluk = pd.Series({\"reg\":10,\"log\":11,\"cart\":25})"
      ],
      "execution_count": null,
      "outputs": []
    },
    {
      "cell_type": "code",
      "metadata": {
        "id": "oPPCrKmE-IWY"
      },
      "source": [
        "sozluk"
      ],
      "execution_count": null,
      "outputs": []
    },
    {
      "cell_type": "code",
      "metadata": {
        "id": "d3pcoTLc-IWZ"
      },
      "source": [
        "sozluk = {\"reg\":10,\"log\":11,\"cart\":25}"
      ],
      "execution_count": null,
      "outputs": []
    },
    {
      "cell_type": "code",
      "metadata": {
        "id": "sl4CVLln-IWZ"
      },
      "source": [
        "pd.Series(sozluk)"
      ],
      "execution_count": null,
      "outputs": []
    },
    {
      "cell_type": "code",
      "metadata": {
        "id": "D74opZ1G-IWZ"
      },
      "source": [
        "#iki seriyi birleştirerek seri oluşturma"
      ],
      "execution_count": null,
      "outputs": []
    },
    {
      "cell_type": "code",
      "metadata": {
        "id": "Y7G4KIFN-IWZ"
      },
      "source": [
        "pd.concat([seri,seri])"
      ],
      "execution_count": null,
      "outputs": []
    },
    {
      "cell_type": "markdown",
      "metadata": {
        "id": "aWdyfI1M-IWa"
      },
      "source": [
        "## Eleman İşlemleri"
      ]
    },
    {
      "cell_type": "code",
      "metadata": {
        "id": "DjamrLe2-IWa"
      },
      "source": [
        "import numpy as np\n",
        "import pandas as pd\n",
        "a = np.array([1,100,3,47,79])\n",
        "pd.Series(a)"
      ],
      "execution_count": null,
      "outputs": []
    },
    {
      "cell_type": "code",
      "metadata": {
        "id": "f059Tr3B-IWa"
      },
      "source": [
        "seri[0]"
      ],
      "execution_count": null,
      "outputs": []
    },
    {
      "cell_type": "code",
      "metadata": {
        "id": "kxzXNWlS-IWa"
      },
      "source": [
        "seri[0:3]"
      ],
      "execution_count": null,
      "outputs": []
    },
    {
      "cell_type": "code",
      "metadata": {
        "id": "pU6BNKUW-IWa"
      },
      "source": [
        "seri = pd.Series([12,98,75,4,132], \n",
        "                index = [\"reg\",\"kasım\",\"k\",\"abc\",\"aa\"])"
      ],
      "execution_count": null,
      "outputs": []
    },
    {
      "cell_type": "code",
      "metadata": {
        "id": "aDDOL3jg-IWb"
      },
      "source": [
        "seri"
      ],
      "execution_count": null,
      "outputs": []
    },
    {
      "cell_type": "code",
      "metadata": {
        "id": "LSW-e6vg-IWb"
      },
      "source": [
        "seri.index"
      ],
      "execution_count": null,
      "outputs": []
    },
    {
      "cell_type": "code",
      "metadata": {
        "id": "F6PggKUf-IWb"
      },
      "source": [
        "seri.keys"
      ],
      "execution_count": null,
      "outputs": []
    },
    {
      "cell_type": "code",
      "metadata": {
        "id": "qwlwZtym-IWb"
      },
      "source": [
        "list(seri.items())"
      ],
      "execution_count": null,
      "outputs": []
    },
    {
      "cell_type": "code",
      "metadata": {
        "id": "rr4BEMW0-IWb"
      },
      "source": [
        "#Eleman Sorgulama"
      ],
      "execution_count": null,
      "outputs": []
    },
    {
      "cell_type": "code",
      "metadata": {
        "id": "056xLxgm-IWc"
      },
      "source": [
        "\"reg\" in seri"
      ],
      "execution_count": null,
      "outputs": []
    },
    {
      "cell_type": "code",
      "metadata": {
        "id": "x7Tc1q_g-IWc"
      },
      "source": [
        "seri[\"reg\"]"
      ],
      "execution_count": null,
      "outputs": []
    },
    {
      "cell_type": "code",
      "metadata": {
        "id": "QUm6gdTl-IWc"
      },
      "source": [
        "#fancy eleman"
      ],
      "execution_count": null,
      "outputs": []
    },
    {
      "cell_type": "code",
      "metadata": {
        "id": "_Rh7xF7O-IWc"
      },
      "source": [
        "seri[[\"kasım\",\"k\"]]"
      ],
      "execution_count": null,
      "outputs": []
    },
    {
      "cell_type": "code",
      "metadata": {
        "id": "M_1mjDZT-IWc"
      },
      "source": [
        "seri[\"kasım\"] = 130"
      ],
      "execution_count": null,
      "outputs": []
    },
    {
      "cell_type": "code",
      "metadata": {
        "id": "_2skxKST-IWd"
      },
      "source": [
        "seri"
      ],
      "execution_count": null,
      "outputs": []
    },
    {
      "cell_type": "code",
      "metadata": {
        "id": "tYHFCjQl-IWd"
      },
      "source": [
        "seri[\"reg\":\"aa\"]"
      ],
      "execution_count": null,
      "outputs": []
    },
    {
      "cell_type": "markdown",
      "metadata": {
        "id": "UTTFV7EZ-IWd"
      },
      "source": [
        "## Pandas DataFrame Oluşturma "
      ]
    },
    {
      "cell_type": "code",
      "metadata": {
        "id": "jAeFqW5w-IWd"
      },
      "source": [
        "#numpy varken neden pandas data frame\n",
        "#numpy için fix type veri yapısı var kategorik ve sürekli değişkenleri bir arada tutup işlem yapma konusunda başarılı değil"
      ],
      "execution_count": null,
      "outputs": []
    },
    {
      "cell_type": "code",
      "metadata": {
        "id": "rIdzsUpt-IWd"
      },
      "source": [
        "import pandas as pd"
      ],
      "execution_count": null,
      "outputs": []
    },
    {
      "cell_type": "code",
      "metadata": {
        "id": "7OcNHxA0-IWe"
      },
      "source": [
        "l = [1,55,88,7,41]\n",
        "l"
      ],
      "execution_count": null,
      "outputs": []
    },
    {
      "cell_type": "code",
      "metadata": {
        "id": "uq95tJA--IWe"
      },
      "source": [
        "pd.DataFrame(l,columns = [\"degisken_ismi\"]) #columns = sütunlar"
      ],
      "execution_count": null,
      "outputs": []
    },
    {
      "cell_type": "code",
      "metadata": {
        "id": "CEFi87wV-IWe"
      },
      "source": [
        "import numpy as np"
      ],
      "execution_count": null,
      "outputs": []
    },
    {
      "cell_type": "code",
      "metadata": {
        "id": "wmQwq9pb-IWe"
      },
      "source": [
        "m = np.arange(1,10).reshape((3,3))"
      ],
      "execution_count": null,
      "outputs": []
    },
    {
      "cell_type": "code",
      "metadata": {
        "id": "XPIeIzWQ-IWe"
      },
      "source": [
        "pd.DataFrame(m,columns = [\"var1\",\"var2\",\"var3\"])"
      ],
      "execution_count": null,
      "outputs": []
    },
    {
      "cell_type": "code",
      "metadata": {
        "id": "Z_8tBKAj-IWf"
      },
      "source": [
        "# df isimlendirme"
      ],
      "execution_count": null,
      "outputs": []
    },
    {
      "cell_type": "code",
      "metadata": {
        "id": "eXk1385k-IWf"
      },
      "source": [
        "df = pd.DataFrame(m, columns = [\"var1\",\"var2\",\"var3\"])\n",
        "df.head()"
      ],
      "execution_count": null,
      "outputs": []
    },
    {
      "cell_type": "code",
      "metadata": {
        "id": "A-HiY_rk-IWf"
      },
      "source": [
        "df.columns"
      ],
      "execution_count": null,
      "outputs": []
    },
    {
      "cell_type": "code",
      "metadata": {
        "id": "hMH1ZiF9-IWf"
      },
      "source": [
        "df.columns = (\"degisken1\",\"degisken2\",\"degisken3\")"
      ],
      "execution_count": null,
      "outputs": []
    },
    {
      "cell_type": "code",
      "metadata": {
        "id": "jVyYMr_E-IWg"
      },
      "source": [
        "df"
      ],
      "execution_count": null,
      "outputs": []
    },
    {
      "cell_type": "code",
      "metadata": {
        "id": "S_QZ--t6-IWg"
      },
      "source": [
        "type(df)"
      ],
      "execution_count": null,
      "outputs": []
    },
    {
      "cell_type": "code",
      "metadata": {
        "id": "Jmsegb_0-IWg"
      },
      "source": [
        "df.axes #satır ve sütun bilgileri verir"
      ],
      "execution_count": null,
      "outputs": []
    },
    {
      "cell_type": "code",
      "metadata": {
        "id": "DA5JeqNZ-IWg"
      },
      "source": [
        "df.shape"
      ],
      "execution_count": null,
      "outputs": []
    },
    {
      "cell_type": "code",
      "metadata": {
        "id": "9q2ddq6v-IWg"
      },
      "source": [
        "df.ndim"
      ],
      "execution_count": null,
      "outputs": []
    },
    {
      "cell_type": "code",
      "metadata": {
        "id": "xXcVSmrW-IWh"
      },
      "source": [
        "df.size"
      ],
      "execution_count": null,
      "outputs": []
    },
    {
      "cell_type": "code",
      "metadata": {
        "id": "fcL3nb5H-IWh"
      },
      "source": [
        "df.values"
      ],
      "execution_count": null,
      "outputs": []
    },
    {
      "cell_type": "code",
      "metadata": {
        "id": "XNDZ8-00-IWh"
      },
      "source": [
        "type(df.values)"
      ],
      "execution_count": null,
      "outputs": []
    },
    {
      "cell_type": "code",
      "metadata": {
        "id": "KSeK2tzz-IWh"
      },
      "source": [
        "df.head()"
      ],
      "execution_count": null,
      "outputs": []
    },
    {
      "cell_type": "code",
      "metadata": {
        "id": "5dQ6bv9D-IWh"
      },
      "source": [
        "df.tail(1)"
      ],
      "execution_count": null,
      "outputs": []
    },
    {
      "cell_type": "code",
      "metadata": {
        "id": "sLFXQA8L-IWi"
      },
      "source": [
        "a = np.array([1,2,3,4,5,6]) #numpy arrayinden data frame oluşturma"
      ],
      "execution_count": null,
      "outputs": []
    },
    {
      "cell_type": "code",
      "metadata": {
        "id": "W5YPjaz7-IWl"
      },
      "source": [
        "pd.DataFrame(a, columns = [\"kasım\"])"
      ],
      "execution_count": null,
      "outputs": []
    },
    {
      "cell_type": "markdown",
      "metadata": {
        "id": "DY4GuXGE-IWm"
      },
      "source": [
        "## Eleman İşlemleri"
      ]
    },
    {
      "cell_type": "code",
      "metadata": {
        "id": "YG_z-Rzt-IWm"
      },
      "source": [
        "import numpy as np\n",
        "s1 = np.random.randint(10, size = 5) #random integer\n",
        "s2 = np.random.randint(10, size = 5)\n",
        "s3 = np.random.randint(10, size = 5)"
      ],
      "execution_count": null,
      "outputs": []
    },
    {
      "cell_type": "code",
      "metadata": {
        "id": "13z3mDvJ-IWm"
      },
      "source": [
        "sozluk = {\"var\": s1, \"var2\": s3, \"var3\": s3}"
      ],
      "execution_count": null,
      "outputs": []
    },
    {
      "cell_type": "code",
      "metadata": {
        "id": "5gc0Gvej-IWm"
      },
      "source": [
        "sozluk"
      ],
      "execution_count": null,
      "outputs": []
    },
    {
      "cell_type": "code",
      "metadata": {
        "id": "4ApBEhUs-IWm"
      },
      "source": [
        "df = pd.DataFrame(sozluk)"
      ],
      "execution_count": null,
      "outputs": []
    },
    {
      "cell_type": "code",
      "metadata": {
        "id": "1c-2XXNR-IWn"
      },
      "source": [
        "df"
      ],
      "execution_count": null,
      "outputs": []
    },
    {
      "cell_type": "code",
      "metadata": {
        "id": "fbnoQxvi-IWn"
      },
      "source": [
        "df[0:1]"
      ],
      "execution_count": null,
      "outputs": []
    },
    {
      "cell_type": "code",
      "metadata": {
        "id": "Z3uIluSV-IWn"
      },
      "source": [
        "df.index"
      ],
      "execution_count": null,
      "outputs": []
    },
    {
      "cell_type": "code",
      "metadata": {
        "id": "c8gxkgq1-IWn"
      },
      "source": [
        "df.index = [\"a\",\"b\",\"c\",\"d\",\"e\"]"
      ],
      "execution_count": null,
      "outputs": []
    },
    {
      "cell_type": "code",
      "metadata": {
        "id": "EcoGNYmn-IWn"
      },
      "source": [
        "df"
      ],
      "execution_count": null,
      "outputs": []
    },
    {
      "cell_type": "code",
      "metadata": {
        "id": "PpGcMp8A-IWo"
      },
      "source": [
        "df[\"c\":\"e\"]"
      ],
      "execution_count": null,
      "outputs": []
    },
    {
      "cell_type": "code",
      "metadata": {
        "id": "BU28mQ8i-IWo"
      },
      "source": [
        "#silme işlemi"
      ],
      "execution_count": null,
      "outputs": []
    },
    {
      "cell_type": "code",
      "metadata": {
        "id": "DdGgXuOf-IWo"
      },
      "source": [
        "df.drop(\"a\", axis = 0)"
      ],
      "execution_count": null,
      "outputs": []
    },
    {
      "cell_type": "code",
      "metadata": {
        "id": "KfSQaBC2-IWo"
      },
      "source": [
        "df.drop(\"var\", axis = 1)"
      ],
      "execution_count": null,
      "outputs": []
    },
    {
      "cell_type": "code",
      "metadata": {
        "id": "wj0ckIdR-IWo"
      },
      "source": [
        "df"
      ],
      "execution_count": null,
      "outputs": []
    },
    {
      "cell_type": "code",
      "metadata": {
        "id": "S72fA_DL-IWp"
      },
      "source": [
        "df.drop(\"a\", axis = 0, inplace = True) #inplace fataframe üzerindeki işlemi kalıcı olarka yapmak"
      ],
      "execution_count": null,
      "outputs": []
    },
    {
      "cell_type": "code",
      "metadata": {
        "id": "pyW_qbqX-IWp"
      },
      "source": [
        "df"
      ],
      "execution_count": null,
      "outputs": []
    },
    {
      "cell_type": "code",
      "metadata": {
        "id": "0tQmwbp5-IWp"
      },
      "source": [
        "#fancy"
      ],
      "execution_count": null,
      "outputs": []
    },
    {
      "cell_type": "code",
      "metadata": {
        "id": "AHk-H5zf-IWp"
      },
      "source": [
        "l = [\"c\",\"e\"]"
      ],
      "execution_count": null,
      "outputs": []
    },
    {
      "cell_type": "code",
      "metadata": {
        "id": "eQoz4eRS-IWp"
      },
      "source": [
        "df.drop(l,axis = 0)"
      ],
      "execution_count": null,
      "outputs": []
    },
    {
      "cell_type": "code",
      "metadata": {
        "id": "wNP1I256-IWq"
      },
      "source": [
        "#degiskenler için"
      ],
      "execution_count": null,
      "outputs": []
    },
    {
      "cell_type": "code",
      "metadata": {
        "id": "8qzWNzbj-IWq"
      },
      "source": [
        "\"var1\" in df"
      ],
      "execution_count": null,
      "outputs": []
    },
    {
      "cell_type": "code",
      "metadata": {
        "id": "x4t6GMx4-IWq"
      },
      "source": [
        "l = [\"var1\",\"var6\",\"var2\"]"
      ],
      "execution_count": null,
      "outputs": []
    },
    {
      "cell_type": "code",
      "metadata": {
        "id": "4lbMObLd-IWq"
      },
      "source": [
        "for i in l:\n",
        "    print(i in df)"
      ],
      "execution_count": null,
      "outputs": []
    },
    {
      "cell_type": "code",
      "metadata": {
        "id": "7qI9oBXT-IWq"
      },
      "source": [
        "df"
      ],
      "execution_count": null,
      "outputs": []
    },
    {
      "cell_type": "code",
      "metadata": {
        "id": "j4gd58bj-IWr"
      },
      "source": [
        "df[\"var\"]"
      ],
      "execution_count": null,
      "outputs": []
    },
    {
      "cell_type": "code",
      "metadata": {
        "id": "eW0pT3WQ-IWr"
      },
      "source": [
        "df[\"var4\"] = df[\"var\"] + df[\"var2\"]"
      ],
      "execution_count": null,
      "outputs": []
    },
    {
      "cell_type": "code",
      "metadata": {
        "id": "cQriHUhm-IWr"
      },
      "source": [
        "df"
      ],
      "execution_count": null,
      "outputs": []
    },
    {
      "cell_type": "code",
      "metadata": {
        "id": "wV_sCA3D-IWr"
      },
      "source": [
        "#degisken silmek"
      ],
      "execution_count": null,
      "outputs": []
    },
    {
      "cell_type": "code",
      "metadata": {
        "id": "_N_6aqEL-IWr"
      },
      "source": [
        "df.drop(\"var4\", axis = 1, inplace = True)"
      ],
      "execution_count": null,
      "outputs": []
    },
    {
      "cell_type": "code",
      "metadata": {
        "id": "6O6QqSzL-IWr"
      },
      "source": [
        "df"
      ],
      "execution_count": null,
      "outputs": []
    },
    {
      "cell_type": "code",
      "metadata": {
        "id": "PusIUjbc-IWs"
      },
      "source": [
        "l = [\"var\",\"var2\"]"
      ],
      "execution_count": null,
      "outputs": []
    },
    {
      "cell_type": "code",
      "metadata": {
        "id": "3mswWNb4-IWs"
      },
      "source": [
        "df.drop(l, axis = 1)"
      ],
      "execution_count": null,
      "outputs": []
    },
    {
      "cell_type": "markdown",
      "metadata": {
        "id": "xAc79Bj4-IWs"
      },
      "source": [
        "## Gözlem Ve Değişken Seçimi\n"
      ]
    },
    {
      "cell_type": "code",
      "metadata": {
        "id": "fPC6gbP2-IWs"
      },
      "source": [
        "#loc ve iloc"
      ],
      "execution_count": null,
      "outputs": []
    },
    {
      "cell_type": "code",
      "metadata": {
        "id": "2ZKFkoqn-IWs"
      },
      "source": [
        "import numpy as np\n",
        "import pandas as pd\n",
        "m = np.random.randint(1,30, size = (10,3))\n",
        "df = pd.DataFrame(m, columns = [\"var1\",\"var2\",\"var3\"])\n",
        "df"
      ],
      "execution_count": null,
      "outputs": []
    },
    {
      "cell_type": "code",
      "metadata": {
        "id": "KuTQhXGo-IWs"
      },
      "source": [
        "#loc : tanımlandığı şekli ile seçim yapmak için kullanılır"
      ],
      "execution_count": null,
      "outputs": []
    },
    {
      "cell_type": "code",
      "metadata": {
        "id": "U2nhYVXw-IWt"
      },
      "source": [
        "df.loc[0:3]"
      ],
      "execution_count": null,
      "outputs": []
    },
    {
      "cell_type": "code",
      "metadata": {
        "id": "-DqDazNl-IWt"
      },
      "source": [
        "#iloc : alışık olduğumuz indexleme mantığı ile seçim yapar"
      ],
      "execution_count": null,
      "outputs": []
    },
    {
      "cell_type": "code",
      "metadata": {
        "id": "jL4cfGt_-IWt"
      },
      "source": [
        "df.iloc[0:3]"
      ],
      "execution_count": null,
      "outputs": []
    },
    {
      "cell_type": "code",
      "metadata": {
        "id": "xuE9z29p-IWt"
      },
      "source": [
        "df.iloc[0,0]"
      ],
      "execution_count": null,
      "outputs": []
    },
    {
      "cell_type": "code",
      "metadata": {
        "id": "mMaP_o62-IWt"
      },
      "source": [
        "df"
      ],
      "execution_count": null,
      "outputs": []
    },
    {
      "cell_type": "code",
      "metadata": {
        "id": "T3cVgY2w-IWu"
      },
      "source": [
        "df.iloc[:3,:2]"
      ],
      "execution_count": null,
      "outputs": []
    },
    {
      "cell_type": "code",
      "metadata": {
        "id": "LlD1iXd7-IWu"
      },
      "source": [
        "df.loc[0:3,\"var3\"]"
      ],
      "execution_count": null,
      "outputs": []
    },
    {
      "cell_type": "code",
      "metadata": {
        "id": "9FF9An77-IWu"
      },
      "source": [
        "#değişken yada gözlem birimleri(satırları) mutlak değer işaretlemesi yapacaksak loc"
      ],
      "execution_count": null,
      "outputs": []
    },
    {
      "cell_type": "code",
      "metadata": {
        "id": "k12oAIrX-IWu"
      },
      "source": [
        "df.iloc[0:3,1:3]"
      ],
      "execution_count": null,
      "outputs": []
    },
    {
      "cell_type": "code",
      "metadata": {
        "id": "oTHR3kMx-IWu"
      },
      "source": [
        "#eğer verilen kuralalra bağlı seçim varsa loc eğer verilen isimlendirmeden bağımsız klasik index kullanma iloc"
      ],
      "execution_count": null,
      "outputs": []
    },
    {
      "cell_type": "markdown",
      "metadata": {
        "id": "vOwaLn4Q-IWv"
      },
      "source": [
        "## Koşullu Eleman İşlemleri"
      ]
    },
    {
      "cell_type": "code",
      "metadata": {
        "id": "1Qwkj-aw-IWv"
      },
      "source": [
        "import numpy as np\n",
        "import pandas as pd\n",
        "m = np.random.randint(1,30,  size = (10,3))\n",
        "df = pd.DataFrame(m, columns = [\"var1\",\"var2\",\"var3\"])\n",
        "df"
      ],
      "execution_count": null,
      "outputs": []
    },
    {
      "cell_type": "code",
      "metadata": {
        "id": "EFKcKjW4-IWv"
      },
      "source": [
        "df[\"var1\"]"
      ],
      "execution_count": null,
      "outputs": []
    },
    {
      "cell_type": "code",
      "metadata": {
        "id": "JO7W9cT0-IWv"
      },
      "source": [
        "df[\"var1\"][0:2]"
      ],
      "execution_count": null,
      "outputs": []
    },
    {
      "cell_type": "code",
      "metadata": {
        "id": "2tHfHA9y-IWv"
      },
      "source": [
        "df[0:2]"
      ],
      "execution_count": null,
      "outputs": []
    },
    {
      "cell_type": "code",
      "metadata": {
        "id": "hhC_ZcOX-IWw"
      },
      "source": [
        "df[0:2][\"var1\"]"
      ],
      "execution_count": null,
      "outputs": []
    },
    {
      "cell_type": "code",
      "metadata": {
        "id": "X8Td46f6-IWw"
      },
      "source": [
        "#df[0:2][\"var1\",\"var2\"] = hata fancy ile yapmak lazım"
      ],
      "execution_count": null,
      "outputs": []
    },
    {
      "cell_type": "code",
      "metadata": {
        "id": "25W1eEud-IWw"
      },
      "source": [
        "df"
      ],
      "execution_count": null,
      "outputs": []
    },
    {
      "cell_type": "code",
      "metadata": {
        "id": "aCnna3dw-IWw"
      },
      "source": [
        "df.var1"
      ],
      "execution_count": null,
      "outputs": []
    },
    {
      "cell_type": "code",
      "metadata": {
        "id": "M0l-yySb-IWw"
      },
      "source": [
        "df"
      ],
      "execution_count": null,
      "outputs": []
    },
    {
      "cell_type": "code",
      "metadata": {
        "id": "mGB678-v-IWx"
      },
      "source": [
        "df[df.var1 > 15]"
      ],
      "execution_count": null,
      "outputs": []
    },
    {
      "cell_type": "code",
      "metadata": {
        "id": "_QRTQrEK-IWx"
      },
      "source": [
        "df[df.var1 > 15][\"var1\"]"
      ],
      "execution_count": null,
      "outputs": []
    },
    {
      "cell_type": "code",
      "metadata": {
        "id": "jbLaFPYZ-IWx"
      },
      "source": [
        "df[(df.var1 > 15) & (df.var3 < 5)]"
      ],
      "execution_count": null,
      "outputs": []
    },
    {
      "cell_type": "code",
      "metadata": {
        "id": "kfKITQFy-IWx"
      },
      "source": [
        "#df[(df.var1 < 15), [\"var1\",\"var2\"]] #loc"
      ],
      "execution_count": null,
      "outputs": []
    },
    {
      "cell_type": "code",
      "metadata": {
        "id": "Rq1dr4Wm-IWx"
      },
      "source": [
        "df.loc[(df.var1 > 15), [\"var1\",\"var2\"]]"
      ],
      "execution_count": null,
      "outputs": []
    },
    {
      "cell_type": "code",
      "metadata": {
        "id": "aDnjrcRB-IWy"
      },
      "source": [
        "df[(df.var1 > 15)],[[\"var1\",\"var2\"]]"
      ],
      "execution_count": null,
      "outputs": []
    },
    {
      "cell_type": "markdown",
      "metadata": {
        "id": "crm21CJB-IWy"
      },
      "source": [
        "## DataFrame Birleştirme"
      ]
    },
    {
      "cell_type": "code",
      "metadata": {
        "id": "8sA1Ogx1-IWy"
      },
      "source": [
        "import numpy as np\n",
        "import pandas as pd\n",
        "m = np.random.randint(1,30, size = (5,3))\n",
        "df1 = pd.DataFrame(m, columns = [\"var1\",\"var2\",\"var3\"])\n",
        "df1"
      ],
      "execution_count": null,
      "outputs": []
    },
    {
      "cell_type": "code",
      "metadata": {
        "id": "zfWfX1_i-IWy"
      },
      "source": [
        "df2 = df1 + 99\n",
        "df2"
      ],
      "execution_count": null,
      "outputs": []
    },
    {
      "cell_type": "code",
      "metadata": {
        "id": "KlazakfW-IWz"
      },
      "source": [
        "pd.concat([df1,df2])"
      ],
      "execution_count": null,
      "outputs": []
    },
    {
      "cell_type": "code",
      "metadata": {
        "id": "reN057x9-IWz"
      },
      "source": [
        "pd.concat([df1,df2] , ignore_index = True) #ignore numaraları sıralama"
      ],
      "execution_count": null,
      "outputs": []
    },
    {
      "cell_type": "code",
      "metadata": {
        "id": "10DrDRsd-IWz"
      },
      "source": [
        "df1.columns"
      ],
      "execution_count": null,
      "outputs": []
    },
    {
      "cell_type": "code",
      "metadata": {
        "id": "q_JXUxFs-IWz"
      },
      "source": [
        "df2.columns"
      ],
      "execution_count": null,
      "outputs": []
    },
    {
      "cell_type": "code",
      "metadata": {
        "id": "Co7G6_W_-IWz"
      },
      "source": [
        "df2.columns = [\"var1\",\"var2\",\"deg1\"]"
      ],
      "execution_count": null,
      "outputs": []
    },
    {
      "cell_type": "code",
      "metadata": {
        "id": "bSWy7ouS-IW0"
      },
      "source": [
        "df2"
      ],
      "execution_count": null,
      "outputs": []
    },
    {
      "cell_type": "code",
      "metadata": {
        "id": "9MbFI0dU-IW0"
      },
      "source": [
        "pd.concat([df1,df2]) #teknik olarak mantıklı değil"
      ],
      "execution_count": null,
      "outputs": []
    },
    {
      "cell_type": "code",
      "metadata": {
        "id": "8kUYlpYA-IW0"
      },
      "source": [
        "pd.concat([df1,df2], join = \"inner\")"
      ],
      "execution_count": null,
      "outputs": []
    },
    {
      "cell_type": "code",
      "metadata": {
        "id": "l3OfdXTW-IW0"
      },
      "source": [
        "#pd.concat([df1,df2], join_axes = [df2.columns])"
      ],
      "execution_count": null,
      "outputs": []
    },
    {
      "cell_type": "code",
      "metadata": {
        "id": "w75apWoa-IW0"
      },
      "source": [
        "#pd.concat([df1,df2], join_axes = [df2.columns], ignore = \"inner\")"
      ],
      "execution_count": null,
      "outputs": []
    },
    {
      "cell_type": "markdown",
      "metadata": {
        "id": "0-RhayV7-IW1"
      },
      "source": [
        "## İleri Birleştirme İşlemleri"
      ]
    },
    {
      "cell_type": "code",
      "metadata": {
        "id": "OhOCl7oY-IW1"
      },
      "source": [
        "import pandas as pd"
      ],
      "execution_count": null,
      "outputs": []
    },
    {
      "cell_type": "code",
      "metadata": {
        "id": "QXN0mmzd-IW1"
      },
      "source": [
        "#birebir birlestirme"
      ],
      "execution_count": null,
      "outputs": []
    },
    {
      "cell_type": "code",
      "metadata": {
        "id": "E58FCFkP-IW1"
      },
      "source": [
        "df1 = pd.DataFrame({'calisanlar': ['Ali', 'Veli', 'Ayse', 'Fatma'],\n",
        "                    'grup': ['Muhasebe', 'Muhendislik', 'Muhendislik', 'İK']})\n",
        "\n",
        "df1"
      ],
      "execution_count": null,
      "outputs": []
    },
    {
      "cell_type": "code",
      "metadata": {
        "id": "WpPvtNAX-IW1"
      },
      "source": [
        "df2 = pd.DataFrame({'calisanlar': ['Ayse', 'Ali', 'Veli', 'Fatma'],\n",
        "                    'ilk_giris': [2010, 2009, 2014, 2019]})\n",
        "\n",
        "df2"
      ],
      "execution_count": null,
      "outputs": []
    },
    {
      "cell_type": "code",
      "metadata": {
        "id": "qylQRP_W-IW2"
      },
      "source": [
        "pd.merge(df1, df2)"
      ],
      "execution_count": null,
      "outputs": []
    },
    {
      "cell_type": "code",
      "metadata": {
        "id": "fPmuRg7e-IW2"
      },
      "source": [
        "pd.merge(df1, df2, on = \"calisanlar\")"
      ],
      "execution_count": null,
      "outputs": []
    },
    {
      "cell_type": "code",
      "metadata": {
        "id": "4316juUA-IW2"
      },
      "source": [
        "#coktan teke "
      ],
      "execution_count": null,
      "outputs": []
    },
    {
      "cell_type": "code",
      "metadata": {
        "id": "b2QllyuI-IW2"
      },
      "source": [
        "df3 = pd.merge(df1, df2)\n",
        "df3"
      ],
      "execution_count": null,
      "outputs": []
    },
    {
      "cell_type": "code",
      "metadata": {
        "id": "Bp_Pqt_a-IW2"
      },
      "source": [
        "df4 = pd.DataFrame({'grup': ['Muhasebe', 'Muhendislik', 'İK'],\n",
        "                    'mudur': ['Caner', 'Mustafa', 'Berkcan']})\n",
        "\n",
        "df4"
      ],
      "execution_count": null,
      "outputs": []
    },
    {
      "cell_type": "code",
      "metadata": {
        "id": "NvCW401h-IW3"
      },
      "source": [
        "pd.merge(df3,df4)"
      ],
      "execution_count": null,
      "outputs": []
    },
    {
      "cell_type": "code",
      "metadata": {
        "id": "oIB9e_5W-IW3"
      },
      "source": [
        "# çoktan çoka"
      ],
      "execution_count": null,
      "outputs": []
    },
    {
      "cell_type": "code",
      "metadata": {
        "id": "nVX_wKdH-IW3"
      },
      "source": [
        "df5 = pd.DataFrame({'grup': ['Muhasebe', 'Muhasebe',\n",
        "                              'Muhendislik', 'Muhendislik', 'İK', 'İK'],\n",
        "                    'yetenekler': ['matematik', 'excel', 'kodlama', 'linux',\n",
        "                               'excel', 'yonetim']})\n",
        "\n",
        "df5"
      ],
      "execution_count": null,
      "outputs": []
    },
    {
      "cell_type": "code",
      "metadata": {
        "id": "CZOYA643-IW3"
      },
      "source": [
        "df1"
      ],
      "execution_count": null,
      "outputs": []
    },
    {
      "cell_type": "code",
      "metadata": {
        "id": "Y3qJyiSm-IW3"
      },
      "source": [
        "pd.merge(df1, df5)"
      ],
      "execution_count": null,
      "outputs": []
    },
    {
      "cell_type": "markdown",
      "metadata": {
        "id": "HOz1e85j-IW4"
      },
      "source": [
        "## Toplulaştırma Ve Gruplama (Agression & Grouping"
      ]
    },
    {
      "cell_type": "markdown",
      "metadata": {
        "id": "zjdLFibn-IW4"
      },
      "source": [
        "Basit toplulaştırma fonksiyonları:\n",
        "\n",
        "* count()\n",
        "* first()\n",
        "* last()\n",
        "* mean()\n",
        "* median()\n",
        "* min()\n",
        "* max()\n",
        "* std()\n",
        "* var()\n",
        "* sum()"
      ]
    },
    {
      "cell_type": "code",
      "metadata": {
        "id": "t_0GVvTB-IW4"
      },
      "source": [
        "import seaborn as sns"
      ],
      "execution_count": null,
      "outputs": []
    },
    {
      "cell_type": "code",
      "metadata": {
        "id": "qoglacAh-IW4"
      },
      "source": [
        "df = sns.load_dataset(\"planets\")"
      ],
      "execution_count": null,
      "outputs": []
    },
    {
      "cell_type": "code",
      "metadata": {
        "id": "XF8sjIUK-IW4"
      },
      "source": [
        "df.head()"
      ],
      "execution_count": null,
      "outputs": []
    },
    {
      "cell_type": "code",
      "metadata": {
        "id": "FsdG3pMM-IW4"
      },
      "source": [
        "df.shape"
      ],
      "execution_count": null,
      "outputs": []
    },
    {
      "cell_type": "code",
      "metadata": {
        "id": "TCUNYm6m-IW5"
      },
      "source": [
        "df.mean()"
      ],
      "execution_count": null,
      "outputs": []
    },
    {
      "cell_type": "code",
      "metadata": {
        "id": "4j08h9an-IW5"
      },
      "source": [
        "df[\"mass\"].mean()"
      ],
      "execution_count": null,
      "outputs": []
    },
    {
      "cell_type": "code",
      "metadata": {
        "id": "mefLSRxv-IW5"
      },
      "source": [
        "df.count()"
      ],
      "execution_count": null,
      "outputs": []
    },
    {
      "cell_type": "code",
      "metadata": {
        "id": "T26jR0Pf-IW5"
      },
      "source": [
        "df[\"mass\"].count()"
      ],
      "execution_count": null,
      "outputs": []
    },
    {
      "cell_type": "code",
      "metadata": {
        "id": "9A7T_O6--IW6"
      },
      "source": [
        "df[\"mass\"].sum() #değişkenleri topla"
      ],
      "execution_count": null,
      "outputs": []
    },
    {
      "cell_type": "code",
      "metadata": {
        "id": "kTWYgIdk-IW6"
      },
      "source": [
        "df.describe().T #transpozunu al"
      ],
      "execution_count": null,
      "outputs": []
    },
    {
      "cell_type": "code",
      "metadata": {
        "id": "QLq-USNB-IW6"
      },
      "source": [
        "df.dropna().describe().T #eksik değerleri silme"
      ],
      "execution_count": null,
      "outputs": []
    },
    {
      "cell_type": "markdown",
      "metadata": {
        "id": "0ryWUtJV-IW6"
      },
      "source": [
        "## Gruplama İşlemleri"
      ]
    },
    {
      "cell_type": "code",
      "metadata": {
        "id": "W9iNYXq0-IW6"
      },
      "source": [
        "df = pd.DataFrame({'gruplar': ['A', 'B', 'C', 'A', 'B', 'C'],\n",
        "                   'veri': [10,11,52,23,43,55]}, columns=['gruplar', 'veri'])\n",
        "df"
      ],
      "execution_count": null,
      "outputs": []
    },
    {
      "cell_type": "code",
      "metadata": {
        "id": "4eBF24sR-IW7"
      },
      "source": [
        "df.groupby(\"gruplar\")"
      ],
      "execution_count": null,
      "outputs": []
    },
    {
      "cell_type": "code",
      "metadata": {
        "id": "tTk-39zO-IW7"
      },
      "source": [
        "df.groupby(\"gruplar\").mean()"
      ],
      "execution_count": null,
      "outputs": []
    },
    {
      "cell_type": "code",
      "metadata": {
        "id": "rEd4Mjqb-IW8"
      },
      "source": [
        "df.groupby(\"gruplar\").sum() #agression uygulama"
      ],
      "execution_count": null,
      "outputs": []
    },
    {
      "cell_type": "code",
      "metadata": {
        "id": "Bozhjn5K-IW8"
      },
      "source": [
        "df= sns.load_dataset(\"planets\")\n",
        "df.head()"
      ],
      "execution_count": null,
      "outputs": []
    },
    {
      "cell_type": "code",
      "metadata": {
        "id": "efxA2YTW-IW8"
      },
      "source": [
        "df.groupby(\"method\")"
      ],
      "execution_count": null,
      "outputs": []
    },
    {
      "cell_type": "code",
      "metadata": {
        "id": "_fsRM4zU-IW8"
      },
      "source": [
        "df.groupby(\"method\")[\"orbital_period\"]"
      ],
      "execution_count": null,
      "outputs": []
    },
    {
      "cell_type": "code",
      "metadata": {
        "id": "gK2x_fq7-IW8"
      },
      "source": [
        "df.groupby(\"method\")[\"orbital_period\"].mean() #değişken , neye göre gruplanacak,işlem"
      ],
      "execution_count": null,
      "outputs": []
    },
    {
      "cell_type": "code",
      "metadata": {
        "id": "KzbqhCDT-IW9"
      },
      "source": [
        "df.groupby(\"method\")[\"orbital_period\"].describe().T"
      ],
      "execution_count": null,
      "outputs": []
    },
    {
      "cell_type": "markdown",
      "metadata": {
        "id": "JVQzVRMd-IW9"
      },
      "source": [
        "## İleri Toplulaştırma İşlemleri (Aggregate, Filter, Transform, Apply)"
      ]
    },
    {
      "cell_type": "code",
      "metadata": {
        "id": "6B43esJa-IW9"
      },
      "source": [
        "import pandas as pd\n",
        "df = pd.DataFrame({'gruplar': ['A', 'B', 'C', 'A', 'B', 'C'],\n",
        "                   'degisken1': [10,23,33,22,11,99],\n",
        "                   'degisken2': [100,253,333,262,111,969]},\n",
        "                   columns = ['gruplar', 'degisken1', 'degisken2'])\n",
        "df"
      ],
      "execution_count": null,
      "outputs": []
    },
    {
      "cell_type": "code",
      "metadata": {
        "id": "N1F9CpWO-IW9"
      },
      "source": [
        "#aggregate"
      ],
      "execution_count": null,
      "outputs": []
    },
    {
      "cell_type": "code",
      "metadata": {
        "id": "jl1rhkWQ-IW-"
      },
      "source": [
        "df.groupby(\"gruplar\").mean()"
      ],
      "execution_count": null,
      "outputs": []
    },
    {
      "cell_type": "code",
      "metadata": {
        "id": "mOnK2JgG-IW-"
      },
      "source": [
        "df"
      ],
      "execution_count": null,
      "outputs": []
    },
    {
      "cell_type": "code",
      "metadata": {
        "id": "zYq0dEMA-IW-"
      },
      "source": [
        "df.groupby(\"gruplar\").aggregate([\"min\", np.median, max])"
      ],
      "execution_count": null,
      "outputs": []
    },
    {
      "cell_type": "code",
      "metadata": {
        "id": "GDY3tOsj-IW-"
      },
      "source": [
        "df.groupby(\"gruplar\").aggregate({\"degisken1\":\"min\",\"degisken2\":\"max\"})"
      ],
      "execution_count": null,
      "outputs": []
    },
    {
      "cell_type": "markdown",
      "metadata": {
        "id": "nvHvBsWS-IW-"
      },
      "source": [
        "## Filter"
      ]
    },
    {
      "cell_type": "code",
      "metadata": {
        "id": "MyijQmRN-IW_"
      },
      "source": [
        "import pandas as pd\n",
        "df = pd.DataFrame({'gruplar': ['A', 'B', 'C', 'A', 'B', 'C'],\n",
        "                   'degisken1': [10,23,33,22,11,99],\n",
        "                   'degisken2': [100,253,333,262,111,969]},\n",
        "                   columns = ['gruplar', 'degisken1', 'degisken2'])\n",
        "df"
      ],
      "execution_count": null,
      "outputs": []
    },
    {
      "cell_type": "code",
      "metadata": {
        "id": "cX0iQbsG-IW_"
      },
      "source": [
        "def filter_func(x):\n",
        "    return x[\"degisken1\"].std() > 9"
      ],
      "execution_count": null,
      "outputs": []
    },
    {
      "cell_type": "code",
      "metadata": {
        "id": "PUWk6O0e-IW_"
      },
      "source": [
        "df.groupby(\"gruplar\").std()"
      ],
      "execution_count": null,
      "outputs": []
    },
    {
      "cell_type": "code",
      "metadata": {
        "id": "ShPJqZhj-IXA"
      },
      "source": [
        "df.groupby(\"gruplar\").filter(filter_func)"
      ],
      "execution_count": null,
      "outputs": []
    },
    {
      "cell_type": "markdown",
      "metadata": {
        "id": "tlFqjxpn-IXA"
      },
      "source": [
        "## Transform"
      ]
    },
    {
      "cell_type": "code",
      "metadata": {
        "id": "KAhrEw-K-IXA"
      },
      "source": [
        "import pandas as pd\n",
        "df = pd.DataFrame({'gruplar': ['A', 'B', 'C', 'A', 'B', 'C'],\n",
        "                   'degisken1': [10,23,33,22,11,99],\n",
        "                   'degisken2': [100,253,333,262,111,969]},\n",
        "                   columns = ['gruplar', 'degisken1', 'degisken2'])\n",
        "df"
      ],
      "execution_count": null,
      "outputs": []
    },
    {
      "cell_type": "code",
      "metadata": {
        "id": "rYClgD5a-IXB"
      },
      "source": [
        "df[\"degisken1\"] * 9"
      ],
      "execution_count": null,
      "outputs": []
    },
    {
      "cell_type": "code",
      "metadata": {
        "id": "UcM9GhRj-IXB"
      },
      "source": [
        "df_a = df.iloc[:,1:2] #pandas dataframe slice yapacak olursak loc iloc "
      ],
      "execution_count": null,
      "outputs": []
    },
    {
      "cell_type": "code",
      "metadata": {
        "id": "eov1LMRE-IXB"
      },
      "source": [
        "df_a.transform(lambda x : (x-x.mean()) / x.std()) #dönüştürme fonksiyonu transform vektörel çalışır istenilen fonksiyonu değişkenler üzerinde çalıştırabilmek"
      ],
      "execution_count": null,
      "outputs": []
    },
    {
      "cell_type": "markdown",
      "metadata": {
        "id": "3qXg3dkP-IXB"
      },
      "source": [
        "## Apply\n",
        "\n",
        "* Transform ve filtre fonksiyonu gibi dataframe in değişkenlerinini üzerinde gezinme yeteneği olan agression amacı ile kullanılacak bir fonksiyondur"
      ]
    },
    {
      "cell_type": "code",
      "metadata": {
        "id": "7lQqTWnd-IXB"
      },
      "source": [
        "import pandas as pd\n",
        "df = pd.DataFrame({\n",
        "                   'degisken1': [10,23,33,22,11,99],\n",
        "                   'degisken2': [100,253,333,262,111,969]},\n",
        "                   columns = ['degisken1', 'degisken2'])\n",
        "df"
      ],
      "execution_count": null,
      "outputs": []
    },
    {
      "cell_type": "code",
      "metadata": {
        "id": "ITj12tzN-IXC"
      },
      "source": [
        "df.apply(np.sum)"
      ],
      "execution_count": null,
      "outputs": []
    },
    {
      "cell_type": "code",
      "metadata": {
        "id": "BWL0wZS2-IXC"
      },
      "source": [
        "df.apply(np.mean)"
      ],
      "execution_count": null,
      "outputs": []
    },
    {
      "cell_type": "code",
      "metadata": {
        "id": "ymYGeZn--IXC"
      },
      "source": [
        "import pandas as pd\n",
        "df = pd.DataFrame({'gruplar': ['A', 'B', 'C', 'A', 'B', 'C'],\n",
        "                   'degisken1': [10,23,33,22,11,99],\n",
        "                   'degisken2': [100,253,333,262,111,969]},\n",
        "                   columns = ['gruplar', 'degisken1', 'degisken2'])\n",
        "df"
      ],
      "execution_count": null,
      "outputs": []
    },
    {
      "cell_type": "code",
      "metadata": {
        "id": "snNRkW-I-IXC"
      },
      "source": [
        "df.groupby(\"gruplar\").apply(np.sum)"
      ],
      "execution_count": null,
      "outputs": []
    },
    {
      "cell_type": "code",
      "metadata": {
        "id": "lvXGlH8W-IXD"
      },
      "source": [
        "df.groupby(\"gruplar\").apply(np.sum)"
      ],
      "execution_count": null,
      "outputs": []
    },
    {
      "cell_type": "markdown",
      "metadata": {
        "id": "m7aj0JWe-IXD"
      },
      "source": [
        "## Pivot Tablolar"
      ]
    },
    {
      "cell_type": "code",
      "metadata": {
        "id": "pYpbjoyD-IXD"
      },
      "source": [
        "import pandas as pd\n",
        "import seaborn as sns\n",
        "titanic = sns.load_dataset(\"titanic\")\n",
        "titanic.head()"
      ],
      "execution_count": null,
      "outputs": []
    },
    {
      "cell_type": "code",
      "metadata": {
        "id": "Wp9GgfqA-IXE"
      },
      "source": [
        "titanic.groupby(\"sex\")[\"survived\"].mean() #sex e göre gruplama , sürekli değişken, işlem"
      ],
      "execution_count": null,
      "outputs": []
    },
    {
      "cell_type": "code",
      "metadata": {
        "id": "UeA6GY7n-IXF"
      },
      "source": [
        "titanic.groupby(\"sex\")[[\"survived\"]].mean() #dataframe 2 x []"
      ],
      "execution_count": null,
      "outputs": []
    },
    {
      "cell_type": "code",
      "metadata": {
        "id": "LhDQkrss-IXF"
      },
      "source": [
        "titanic.groupby([\"sex\",\"class\"])[[\"survived\"]].aggregate(\"mean\").unstack()"
      ],
      "execution_count": null,
      "outputs": []
    },
    {
      "cell_type": "code",
      "metadata": {
        "id": "mbXGaJ_1-IXF"
      },
      "source": [
        "#unstack hiyerarşik index yapısı çözülür"
      ],
      "execution_count": null,
      "outputs": []
    },
    {
      "cell_type": "code",
      "metadata": {
        "id": "bCkA-IlG-IXF"
      },
      "source": [
        "#pivot ile table"
      ],
      "execution_count": null,
      "outputs": []
    },
    {
      "cell_type": "code",
      "metadata": {
        "id": "7Q7L9JJa-IXF"
      },
      "source": [
        "titanic.pivot_table(\"survived\", index = \"sex\", columns = \"class\") #odaklandığın değişken, index(gözlem birimi), class(sütunlar)"
      ],
      "execution_count": null,
      "outputs": []
    },
    {
      "cell_type": "code",
      "metadata": {
        "id": "lLcEKxb--IXG"
      },
      "source": [
        "titanic.age.head()"
      ],
      "execution_count": null,
      "outputs": []
    },
    {
      "cell_type": "code",
      "metadata": {
        "id": "z4bhtFIx-IXG"
      },
      "source": [
        "age = pd.cut(titanic[\"age\"], [0,18,90]) #neyi böleceksin titanik içindeki yaş, ne ile böl \n",
        "age.head(10)"
      ],
      "execution_count": null,
      "outputs": []
    },
    {
      "cell_type": "code",
      "metadata": {
        "id": "EPi1VRC6-IXG"
      },
      "source": [
        "titanic.pivot_table(\"survived\",[\"sex\",age], \"class\")"
      ],
      "execution_count": null,
      "outputs": []
    },
    {
      "cell_type": "markdown",
      "metadata": {
        "id": "BWC7zdxh-IXH"
      },
      "source": [
        "## Dış Kaynaklı Veri Okumak"
      ]
    },
    {
      "cell_type": "code",
      "metadata": {
        "id": "sd6WueVr-IXH"
      },
      "source": [
        "import pandas as pd"
      ],
      "execution_count": null,
      "outputs": []
    },
    {
      "cell_type": "code",
      "metadata": {
        "id": "9nOTpeLZ-IXH"
      },
      "source": [
        "#csv okuma\n",
        "pd.read_csv(\"reading_data/reading_data/ornekcsv.csv\", sep = \";\")"
      ],
      "execution_count": null,
      "outputs": []
    },
    {
      "cell_type": "code",
      "metadata": {
        "id": "rb17FMDY-IXH"
      },
      "source": [
        "#txt okuma\n",
        "pd.read_csv(\"reading_data/reading_data/duz_metin.txt\")"
      ],
      "execution_count": null,
      "outputs": []
    },
    {
      "cell_type": "code",
      "metadata": {
        "id": "3Y-ShXe1-IXH"
      },
      "source": [
        "#pd.read_excel(\"reading_data/ornekx.xlsx\")"
      ],
      "execution_count": null,
      "outputs": []
    },
    {
      "cell_type": "code",
      "metadata": {
        "id": "ShXSnxcF-IXI"
      },
      "source": [
        "df = pd.read_csv(\"reading_data/reading_data/ornekcsv.csv\", sep = \";\")\n",
        "df"
      ],
      "execution_count": null,
      "outputs": []
    },
    {
      "cell_type": "code",
      "metadata": {
        "id": "VOfPocfx-IXI"
      },
      "source": [
        "type(df)"
      ],
      "execution_count": null,
      "outputs": []
    },
    {
      "cell_type": "code",
      "metadata": {
        "id": "MKmwCBWx-IXI"
      },
      "source": [
        "df.head()"
      ],
      "execution_count": null,
      "outputs": []
    },
    {
      "cell_type": "code",
      "metadata": {
        "id": "01q5AEiR-IXI"
      },
      "source": [
        "df.columns = (\"a\",\"b\",\"c\")\n",
        "df"
      ],
      "execution_count": null,
      "outputs": []
    },
    {
      "cell_type": "code",
      "metadata": {
        "id": "QVBOlKa7-IXJ"
      },
      "source": [
        ""
      ],
      "execution_count": null,
      "outputs": []
    },
    {
      "cell_type": "code",
      "metadata": {
        "id": "pflj5dfX-IXJ"
      },
      "source": [
        ""
      ],
      "execution_count": null,
      "outputs": []
    },
    {
      "cell_type": "code",
      "metadata": {
        "id": "2jugaXrL-IXJ"
      },
      "source": [
        ""
      ],
      "execution_count": null,
      "outputs": []
    },
    {
      "cell_type": "code",
      "metadata": {
        "id": "aSPeiVi--IXJ"
      },
      "source": [
        ""
      ],
      "execution_count": null,
      "outputs": []
    }
  ]
}